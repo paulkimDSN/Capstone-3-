{
 "cells": [
  {
   "cell_type": "markdown",
   "id": "7f8f8c78",
   "metadata": {},
   "source": [
    "<font size=\"6\">Pre-Processing and Training Data Development</font>"
   ]
  },
  {
   "cell_type": "markdown",
   "id": "009f3cea",
   "metadata": {},
   "source": [
    "In this notebook, cleaned data from previous notebook will be used to prepare for modelling in the future notebook. The target varibale will be set. Also numerical and non-numerical columns will be seperated to go through a different preprocess. A pipeline that contains preprocessing for different columns and classifier will be developed for further use as well. \\\n",
    "Using the pipeline, a baseline models using three different machine learning algorithms will be developed. Also hyperparameter tuning will be conducted for those baseline models using pipeline as well. Lastly, confusion matrix, ROC-AUC curve will be plotted for compare the model performance in the future modelling. "
   ]
  },
  {
   "cell_type": "markdown",
   "id": "3f6541bf",
   "metadata": {},
   "source": [
    "<font size=\"5\"> Import and load"
   ]
  },
  {
   "cell_type": "markdown",
   "id": "78706723",
   "metadata": {},
   "source": [
    "Tools and data was loaded."
   ]
  },
  {
   "cell_type": "code",
   "execution_count": 1,
   "id": "174c073a",
   "metadata": {},
   "outputs": [],
   "source": [
    "import numpy as np\n",
    "import pandas as pd\n",
    "import matplotlib.pyplot as plt\n",
    "import seaborn as sns\n",
    "import warnings\n",
    "warnings.filterwarnings('ignore')"
   ]
  },
  {
   "cell_type": "code",
   "execution_count": 2,
   "id": "6761c7b8",
   "metadata": {},
   "outputs": [],
   "source": [
    "from sklearn.model_selection import train_test_split\n",
    "from sklearn.linear_model import LogisticRegression\n",
    "from sklearn.metrics import accuracy_score\n",
    "from sklearn.preprocessing import StandardScaler,OneHotEncoder\n",
    "from sklearn.metrics import classification_report\n",
    "from sklearn.metrics import confusion_matrix, roc_curve, auc,ConfusionMatrixDisplay"
   ]
  },
  {
   "cell_type": "code",
   "execution_count": 3,
   "id": "dc3b79c2",
   "metadata": {},
   "outputs": [],
   "source": [
    "from sklearn.compose import ColumnTransformer\n",
    "from sklearn.pipeline import Pipeline"
   ]
  },
  {
   "cell_type": "code",
   "execution_count": 4,
   "id": "eed511e8",
   "metadata": {},
   "outputs": [],
   "source": [
    "from sklearn.ensemble import RandomForestClassifier\n",
    "from lightgbm import LGBMClassifier"
   ]
  },
  {
   "cell_type": "code",
   "execution_count": 5,
   "id": "d03fd6ac",
   "metadata": {},
   "outputs": [],
   "source": [
    "df=pd.read_csv('../Capstone-3-/file/loan_data.csv',index_col='Unnamed: 0')"
   ]
  },
  {
   "cell_type": "code",
   "execution_count": 6,
   "id": "95b3e063",
   "metadata": {
    "scrolled": false
   },
   "outputs": [
    {
     "data": {
      "text/html": [
       "<div>\n",
       "<style scoped>\n",
       "    .dataframe tbody tr th:only-of-type {\n",
       "        vertical-align: middle;\n",
       "    }\n",
       "\n",
       "    .dataframe tbody tr th {\n",
       "        vertical-align: top;\n",
       "    }\n",
       "\n",
       "    .dataframe thead th {\n",
       "        text-align: right;\n",
       "    }\n",
       "</style>\n",
       "<table border=\"1\" class=\"dataframe\">\n",
       "  <thead>\n",
       "    <tr style=\"text-align: right;\">\n",
       "      <th></th>\n",
       "      <th>Id</th>\n",
       "      <th>Income</th>\n",
       "      <th>Age</th>\n",
       "      <th>Experience</th>\n",
       "      <th>Marital_Status</th>\n",
       "      <th>House_Ownership</th>\n",
       "      <th>Car_Ownership</th>\n",
       "      <th>Profession</th>\n",
       "      <th>City</th>\n",
       "      <th>State</th>\n",
       "      <th>Job_Yrs</th>\n",
       "      <th>House_Yrs</th>\n",
       "      <th>Risk_Flag</th>\n",
       "    </tr>\n",
       "  </thead>\n",
       "  <tbody>\n",
       "    <tr>\n",
       "      <th>0</th>\n",
       "      <td>1</td>\n",
       "      <td>1303834</td>\n",
       "      <td>23</td>\n",
       "      <td>3</td>\n",
       "      <td>SINGLE</td>\n",
       "      <td>RENTED</td>\n",
       "      <td>NO</td>\n",
       "      <td>MECHANICAL_ENGINEER</td>\n",
       "      <td>REWA</td>\n",
       "      <td>MADHYA_PRADESH</td>\n",
       "      <td>3</td>\n",
       "      <td>13</td>\n",
       "      <td>0</td>\n",
       "    </tr>\n",
       "    <tr>\n",
       "      <th>1</th>\n",
       "      <td>2</td>\n",
       "      <td>7574516</td>\n",
       "      <td>40</td>\n",
       "      <td>10</td>\n",
       "      <td>SINGLE</td>\n",
       "      <td>RENTED</td>\n",
       "      <td>NO</td>\n",
       "      <td>SOFTWARE_DEVELOPER</td>\n",
       "      <td>PARBHANI</td>\n",
       "      <td>MAHARASHTRA</td>\n",
       "      <td>9</td>\n",
       "      <td>13</td>\n",
       "      <td>0</td>\n",
       "    </tr>\n",
       "    <tr>\n",
       "      <th>2</th>\n",
       "      <td>3</td>\n",
       "      <td>3991815</td>\n",
       "      <td>66</td>\n",
       "      <td>4</td>\n",
       "      <td>MARRIED</td>\n",
       "      <td>RENTED</td>\n",
       "      <td>NO</td>\n",
       "      <td>TECHNICAL_WRITER</td>\n",
       "      <td>ALAPPUZHA</td>\n",
       "      <td>KERALA</td>\n",
       "      <td>4</td>\n",
       "      <td>10</td>\n",
       "      <td>0</td>\n",
       "    </tr>\n",
       "    <tr>\n",
       "      <th>3</th>\n",
       "      <td>4</td>\n",
       "      <td>6256451</td>\n",
       "      <td>41</td>\n",
       "      <td>2</td>\n",
       "      <td>SINGLE</td>\n",
       "      <td>RENTED</td>\n",
       "      <td>YES</td>\n",
       "      <td>SOFTWARE_DEVELOPER</td>\n",
       "      <td>BHUBANESWAR</td>\n",
       "      <td>ODISHA</td>\n",
       "      <td>2</td>\n",
       "      <td>12</td>\n",
       "      <td>1</td>\n",
       "    </tr>\n",
       "    <tr>\n",
       "      <th>4</th>\n",
       "      <td>5</td>\n",
       "      <td>5768871</td>\n",
       "      <td>47</td>\n",
       "      <td>11</td>\n",
       "      <td>SINGLE</td>\n",
       "      <td>RENTED</td>\n",
       "      <td>NO</td>\n",
       "      <td>CIVIL_SERVANT</td>\n",
       "      <td>TIRUCHIRAPPALLI</td>\n",
       "      <td>TAMIL_NADU</td>\n",
       "      <td>3</td>\n",
       "      <td>14</td>\n",
       "      <td>1</td>\n",
       "    </tr>\n",
       "  </tbody>\n",
       "</table>\n",
       "</div>"
      ],
      "text/plain": [
       "   Id   Income  Age  Experience Marital_Status House_Ownership Car_Ownership  \\\n",
       "0   1  1303834   23           3         SINGLE          RENTED            NO   \n",
       "1   2  7574516   40          10         SINGLE          RENTED            NO   \n",
       "2   3  3991815   66           4        MARRIED          RENTED            NO   \n",
       "3   4  6256451   41           2         SINGLE          RENTED           YES   \n",
       "4   5  5768871   47          11         SINGLE          RENTED            NO   \n",
       "\n",
       "            Profession             City           State  Job_Yrs  House_Yrs  \\\n",
       "0  MECHANICAL_ENGINEER             REWA  MADHYA_PRADESH        3         13   \n",
       "1   SOFTWARE_DEVELOPER         PARBHANI     MAHARASHTRA        9         13   \n",
       "2     TECHNICAL_WRITER        ALAPPUZHA          KERALA        4         10   \n",
       "3   SOFTWARE_DEVELOPER      BHUBANESWAR          ODISHA        2         12   \n",
       "4        CIVIL_SERVANT  TIRUCHIRAPPALLI      TAMIL_NADU        3         14   \n",
       "\n",
       "   Risk_Flag  \n",
       "0          0  \n",
       "1          0  \n",
       "2          0  \n",
       "3          1  \n",
       "4          1  "
      ]
     },
     "execution_count": 6,
     "metadata": {},
     "output_type": "execute_result"
    }
   ],
   "source": [
    "df.head()"
   ]
  },
  {
   "cell_type": "code",
   "execution_count": 7,
   "id": "c589ef95",
   "metadata": {},
   "outputs": [],
   "source": [
    "df=df.set_index('Id')"
   ]
  },
  {
   "cell_type": "code",
   "execution_count": 8,
   "id": "2f696c82",
   "metadata": {},
   "outputs": [
    {
     "data": {
      "text/html": [
       "<div>\n",
       "<style scoped>\n",
       "    .dataframe tbody tr th:only-of-type {\n",
       "        vertical-align: middle;\n",
       "    }\n",
       "\n",
       "    .dataframe tbody tr th {\n",
       "        vertical-align: top;\n",
       "    }\n",
       "\n",
       "    .dataframe thead th {\n",
       "        text-align: right;\n",
       "    }\n",
       "</style>\n",
       "<table border=\"1\" class=\"dataframe\">\n",
       "  <thead>\n",
       "    <tr style=\"text-align: right;\">\n",
       "      <th></th>\n",
       "      <th>Income</th>\n",
       "      <th>Age</th>\n",
       "      <th>Experience</th>\n",
       "      <th>Marital_Status</th>\n",
       "      <th>House_Ownership</th>\n",
       "      <th>Car_Ownership</th>\n",
       "      <th>Profession</th>\n",
       "      <th>City</th>\n",
       "      <th>State</th>\n",
       "      <th>Job_Yrs</th>\n",
       "      <th>House_Yrs</th>\n",
       "      <th>Risk_Flag</th>\n",
       "    </tr>\n",
       "    <tr>\n",
       "      <th>Id</th>\n",
       "      <th></th>\n",
       "      <th></th>\n",
       "      <th></th>\n",
       "      <th></th>\n",
       "      <th></th>\n",
       "      <th></th>\n",
       "      <th></th>\n",
       "      <th></th>\n",
       "      <th></th>\n",
       "      <th></th>\n",
       "      <th></th>\n",
       "      <th></th>\n",
       "    </tr>\n",
       "  </thead>\n",
       "  <tbody>\n",
       "    <tr>\n",
       "      <th>1</th>\n",
       "      <td>1303834</td>\n",
       "      <td>23</td>\n",
       "      <td>3</td>\n",
       "      <td>SINGLE</td>\n",
       "      <td>RENTED</td>\n",
       "      <td>NO</td>\n",
       "      <td>MECHANICAL_ENGINEER</td>\n",
       "      <td>REWA</td>\n",
       "      <td>MADHYA_PRADESH</td>\n",
       "      <td>3</td>\n",
       "      <td>13</td>\n",
       "      <td>0</td>\n",
       "    </tr>\n",
       "    <tr>\n",
       "      <th>2</th>\n",
       "      <td>7574516</td>\n",
       "      <td>40</td>\n",
       "      <td>10</td>\n",
       "      <td>SINGLE</td>\n",
       "      <td>RENTED</td>\n",
       "      <td>NO</td>\n",
       "      <td>SOFTWARE_DEVELOPER</td>\n",
       "      <td>PARBHANI</td>\n",
       "      <td>MAHARASHTRA</td>\n",
       "      <td>9</td>\n",
       "      <td>13</td>\n",
       "      <td>0</td>\n",
       "    </tr>\n",
       "    <tr>\n",
       "      <th>3</th>\n",
       "      <td>3991815</td>\n",
       "      <td>66</td>\n",
       "      <td>4</td>\n",
       "      <td>MARRIED</td>\n",
       "      <td>RENTED</td>\n",
       "      <td>NO</td>\n",
       "      <td>TECHNICAL_WRITER</td>\n",
       "      <td>ALAPPUZHA</td>\n",
       "      <td>KERALA</td>\n",
       "      <td>4</td>\n",
       "      <td>10</td>\n",
       "      <td>0</td>\n",
       "    </tr>\n",
       "    <tr>\n",
       "      <th>4</th>\n",
       "      <td>6256451</td>\n",
       "      <td>41</td>\n",
       "      <td>2</td>\n",
       "      <td>SINGLE</td>\n",
       "      <td>RENTED</td>\n",
       "      <td>YES</td>\n",
       "      <td>SOFTWARE_DEVELOPER</td>\n",
       "      <td>BHUBANESWAR</td>\n",
       "      <td>ODISHA</td>\n",
       "      <td>2</td>\n",
       "      <td>12</td>\n",
       "      <td>1</td>\n",
       "    </tr>\n",
       "    <tr>\n",
       "      <th>5</th>\n",
       "      <td>5768871</td>\n",
       "      <td>47</td>\n",
       "      <td>11</td>\n",
       "      <td>SINGLE</td>\n",
       "      <td>RENTED</td>\n",
       "      <td>NO</td>\n",
       "      <td>CIVIL_SERVANT</td>\n",
       "      <td>TIRUCHIRAPPALLI</td>\n",
       "      <td>TAMIL_NADU</td>\n",
       "      <td>3</td>\n",
       "      <td>14</td>\n",
       "      <td>1</td>\n",
       "    </tr>\n",
       "    <tr>\n",
       "      <th>...</th>\n",
       "      <td>...</td>\n",
       "      <td>...</td>\n",
       "      <td>...</td>\n",
       "      <td>...</td>\n",
       "      <td>...</td>\n",
       "      <td>...</td>\n",
       "      <td>...</td>\n",
       "      <td>...</td>\n",
       "      <td>...</td>\n",
       "      <td>...</td>\n",
       "      <td>...</td>\n",
       "      <td>...</td>\n",
       "    </tr>\n",
       "    <tr>\n",
       "      <th>251996</th>\n",
       "      <td>8154883</td>\n",
       "      <td>43</td>\n",
       "      <td>13</td>\n",
       "      <td>SINGLE</td>\n",
       "      <td>RENTED</td>\n",
       "      <td>NO</td>\n",
       "      <td>SURGEON</td>\n",
       "      <td>KOLKATA</td>\n",
       "      <td>WEST_BENGAL</td>\n",
       "      <td>6</td>\n",
       "      <td>11</td>\n",
       "      <td>0</td>\n",
       "    </tr>\n",
       "    <tr>\n",
       "      <th>251997</th>\n",
       "      <td>2843572</td>\n",
       "      <td>26</td>\n",
       "      <td>10</td>\n",
       "      <td>SINGLE</td>\n",
       "      <td>RENTED</td>\n",
       "      <td>NO</td>\n",
       "      <td>ARMY_OFFICER</td>\n",
       "      <td>REWA</td>\n",
       "      <td>MADHYA_PRADESH</td>\n",
       "      <td>6</td>\n",
       "      <td>11</td>\n",
       "      <td>0</td>\n",
       "    </tr>\n",
       "    <tr>\n",
       "      <th>251998</th>\n",
       "      <td>4522448</td>\n",
       "      <td>46</td>\n",
       "      <td>7</td>\n",
       "      <td>SINGLE</td>\n",
       "      <td>RENTED</td>\n",
       "      <td>NO</td>\n",
       "      <td>DESIGN_ENGINEER</td>\n",
       "      <td>KALYAN-DOMBIVLI</td>\n",
       "      <td>MAHARASHTRA</td>\n",
       "      <td>7</td>\n",
       "      <td>12</td>\n",
       "      <td>0</td>\n",
       "    </tr>\n",
       "    <tr>\n",
       "      <th>251999</th>\n",
       "      <td>6507128</td>\n",
       "      <td>45</td>\n",
       "      <td>0</td>\n",
       "      <td>SINGLE</td>\n",
       "      <td>RENTED</td>\n",
       "      <td>NO</td>\n",
       "      <td>GRAPHIC_DESIGNER</td>\n",
       "      <td>PONDICHERRY</td>\n",
       "      <td>PUDUCHERRY</td>\n",
       "      <td>0</td>\n",
       "      <td>10</td>\n",
       "      <td>0</td>\n",
       "    </tr>\n",
       "    <tr>\n",
       "      <th>252000</th>\n",
       "      <td>9070230</td>\n",
       "      <td>70</td>\n",
       "      <td>17</td>\n",
       "      <td>SINGLE</td>\n",
       "      <td>RENTED</td>\n",
       "      <td>NO</td>\n",
       "      <td>STATISTICIAN</td>\n",
       "      <td>AVADI</td>\n",
       "      <td>TAMIL_NADU</td>\n",
       "      <td>7</td>\n",
       "      <td>11</td>\n",
       "      <td>0</td>\n",
       "    </tr>\n",
       "  </tbody>\n",
       "</table>\n",
       "<p>252000 rows × 12 columns</p>\n",
       "</div>"
      ],
      "text/plain": [
       "         Income  Age  Experience Marital_Status House_Ownership Car_Ownership  \\\n",
       "Id                                                                              \n",
       "1       1303834   23           3         SINGLE          RENTED            NO   \n",
       "2       7574516   40          10         SINGLE          RENTED            NO   \n",
       "3       3991815   66           4        MARRIED          RENTED            NO   \n",
       "4       6256451   41           2         SINGLE          RENTED           YES   \n",
       "5       5768871   47          11         SINGLE          RENTED            NO   \n",
       "...         ...  ...         ...            ...             ...           ...   \n",
       "251996  8154883   43          13         SINGLE          RENTED            NO   \n",
       "251997  2843572   26          10         SINGLE          RENTED            NO   \n",
       "251998  4522448   46           7         SINGLE          RENTED            NO   \n",
       "251999  6507128   45           0         SINGLE          RENTED            NO   \n",
       "252000  9070230   70          17         SINGLE          RENTED            NO   \n",
       "\n",
       "                 Profession             City           State  Job_Yrs  \\\n",
       "Id                                                                      \n",
       "1       MECHANICAL_ENGINEER             REWA  MADHYA_PRADESH        3   \n",
       "2        SOFTWARE_DEVELOPER         PARBHANI     MAHARASHTRA        9   \n",
       "3          TECHNICAL_WRITER        ALAPPUZHA          KERALA        4   \n",
       "4        SOFTWARE_DEVELOPER      BHUBANESWAR          ODISHA        2   \n",
       "5             CIVIL_SERVANT  TIRUCHIRAPPALLI      TAMIL_NADU        3   \n",
       "...                     ...              ...             ...      ...   \n",
       "251996              SURGEON          KOLKATA     WEST_BENGAL        6   \n",
       "251997         ARMY_OFFICER             REWA  MADHYA_PRADESH        6   \n",
       "251998      DESIGN_ENGINEER  KALYAN-DOMBIVLI     MAHARASHTRA        7   \n",
       "251999     GRAPHIC_DESIGNER      PONDICHERRY      PUDUCHERRY        0   \n",
       "252000         STATISTICIAN            AVADI      TAMIL_NADU        7   \n",
       "\n",
       "        House_Yrs  Risk_Flag  \n",
       "Id                            \n",
       "1              13          0  \n",
       "2              13          0  \n",
       "3              10          0  \n",
       "4              12          1  \n",
       "5              14          1  \n",
       "...           ...        ...  \n",
       "251996         11          0  \n",
       "251997         11          0  \n",
       "251998         12          0  \n",
       "251999         10          0  \n",
       "252000         11          0  \n",
       "\n",
       "[252000 rows x 12 columns]"
      ]
     },
     "execution_count": 8,
     "metadata": {},
     "output_type": "execute_result"
    }
   ],
   "source": [
    "df"
   ]
  },
  {
   "cell_type": "markdown",
   "id": "ab3db12a",
   "metadata": {},
   "source": [
    "Data types of the columns are identified. Also the proportion of the risk flag of the samples are calculated. "
   ]
  },
  {
   "cell_type": "code",
   "execution_count": 45,
   "id": "4f7000b6",
   "metadata": {},
   "outputs": [
    {
     "data": {
      "text/plain": [
       "0    87.7\n",
       "1    12.3\n",
       "Name: Risk_Flag, dtype: float64"
      ]
     },
     "execution_count": 45,
     "metadata": {},
     "output_type": "execute_result"
    }
   ],
   "source": [
    "a=df['Risk_Flag'].value_counts(normalize=True)\n",
    "percent_risk=round(a,4)\n",
    "percent_risk*100"
   ]
  },
  {
   "cell_type": "code",
   "execution_count": 9,
   "id": "df8c393b",
   "metadata": {
    "scrolled": true
   },
   "outputs": [
    {
     "data": {
      "text/plain": [
       "Income              int64\n",
       "Age                 int64\n",
       "Experience          int64\n",
       "Marital_Status     object\n",
       "House_Ownership    object\n",
       "Car_Ownership      object\n",
       "Profession         object\n",
       "City               object\n",
       "State              object\n",
       "Job_Yrs             int64\n",
       "House_Yrs           int64\n",
       "Risk_Flag           int64\n",
       "dtype: object"
      ]
     },
     "execution_count": 9,
     "metadata": {},
     "output_type": "execute_result"
    }
   ],
   "source": [
    "df.dtypes"
   ]
  },
  {
   "cell_type": "code",
   "execution_count": 10,
   "id": "9b06b4f5",
   "metadata": {},
   "outputs": [
    {
     "data": {
      "text/plain": [
       "Index(['Income', 'Age', 'Experience', 'Marital_Status', 'House_Ownership',\n",
       "       'Car_Ownership', 'Profession', 'City', 'State', 'Job_Yrs', 'House_Yrs',\n",
       "       'Risk_Flag'],\n",
       "      dtype='object')"
      ]
     },
     "execution_count": 10,
     "metadata": {},
     "output_type": "execute_result"
    }
   ],
   "source": [
    "df.columns"
   ]
  },
  {
   "cell_type": "markdown",
   "id": "cb377b81",
   "metadata": {},
   "source": [
    "Columns without data type 'object', and 'Risk_Flag' are omitted form numerical columns and columns with datatype 'object' are stored in categorical column list. "
   ]
  },
  {
   "cell_type": "code",
   "execution_count": 11,
   "id": "504216f9",
   "metadata": {},
   "outputs": [],
   "source": [
    "df_num = df.loc[:,(df.dtypes != 'object')&(df.columns != 'Risk_Flag')]\n",
    "df_cat=df.loc[:,(df.dtypes == 'object')]"
   ]
  },
  {
   "cell_type": "code",
   "execution_count": 12,
   "id": "d9c60942",
   "metadata": {},
   "outputs": [],
   "source": [
    "df_num_cols=df_num.columns\n",
    "df_cat_cols=df_cat.columns"
   ]
  },
  {
   "cell_type": "code",
   "execution_count": 13,
   "id": "8773f682",
   "metadata": {
    "scrolled": true
   },
   "outputs": [
    {
     "data": {
      "text/plain": [
       "Index(['Income', 'Age', 'Experience', 'Job_Yrs', 'House_Yrs'], dtype='object')"
      ]
     },
     "execution_count": 13,
     "metadata": {},
     "output_type": "execute_result"
    }
   ],
   "source": [
    "df_num_cols"
   ]
  },
  {
   "cell_type": "code",
   "execution_count": 14,
   "id": "8d1493a7",
   "metadata": {},
   "outputs": [
    {
     "data": {
      "text/plain": [
       "Index(['Marital_Status', 'House_Ownership', 'Car_Ownership', 'Profession',\n",
       "       'City', 'State'],\n",
       "      dtype='object')"
      ]
     },
     "execution_count": 14,
     "metadata": {},
     "output_type": "execute_result"
    }
   ],
   "source": [
    "df_cat_cols"
   ]
  },
  {
   "cell_type": "markdown",
   "id": "762853d9",
   "metadata": {},
   "source": [
    "Data was seperated by a traget variable, 'Risk_Flag' in this project. "
   ]
  },
  {
   "cell_type": "code",
   "execution_count": 15,
   "id": "607e4d7f",
   "metadata": {},
   "outputs": [],
   "source": [
    "df_x = df.loc[:, df.columns != 'Risk_Flag']\n",
    "df_y=df.loc[:,df.columns == 'Risk_Flag']"
   ]
  },
  {
   "cell_type": "code",
   "execution_count": 16,
   "id": "6e369590",
   "metadata": {},
   "outputs": [
    {
     "data": {
      "text/plain": [
       "Index(['Income', 'Age', 'Experience', 'Marital_Status', 'House_Ownership',\n",
       "       'Car_Ownership', 'Profession', 'City', 'State', 'Job_Yrs', 'House_Yrs'],\n",
       "      dtype='object')"
      ]
     },
     "execution_count": 16,
     "metadata": {},
     "output_type": "execute_result"
    }
   ],
   "source": [
    "df_x.columns"
   ]
  },
  {
   "cell_type": "markdown",
   "id": "0b8287e5",
   "metadata": {},
   "source": [
    "<font size=\"5\"> Baseline Modelling"
   ]
  },
  {
   "cell_type": "markdown",
   "id": "08be3823",
   "metadata": {},
   "source": [
    "Train and test samples are splitted."
   ]
  },
  {
   "cell_type": "code",
   "execution_count": 17,
   "id": "6421c445",
   "metadata": {},
   "outputs": [],
   "source": [
    "X_train,X_test,y_train,y_test=train_test_split(df_x,df_y,test_size=0.3,random_state=42,stratify=df_y)"
   ]
  },
  {
   "cell_type": "markdown",
   "id": "5443704b",
   "metadata": {},
   "source": [
    "Preprocessor that performs different preprocessing for numerical and non-numerical columns was developed. Non-numerical columns will go through encoding and numerical columns will go through a scalling process."
   ]
  },
  {
   "cell_type": "code",
   "execution_count": 18,
   "id": "9e1e37e9",
   "metadata": {},
   "outputs": [],
   "source": [
    "numeric_features = df_num_cols\n",
    "numeric_transformer = Pipeline(steps=[\n",
    "    ('scaler', StandardScaler())])\n",
    "\n",
    "categorical_features = df_cat_cols\n",
    "categorical_transformer = Pipeline(steps=[\n",
    "  ('onehot', OneHotEncoder(handle_unknown='ignore'))])\n",
    "\n",
    "\n",
    "preprocessor = ColumnTransformer(\n",
    "    transformers=[\n",
    "        ('num', numeric_transformer, numeric_features),\n",
    "        ('cat', categorical_transformer, categorical_features)])\n",
    "\n",
    "# Append classifier to preprocessing pipeline.\n",
    "# Now we have a full prediction pipeline.\n"
   ]
  },
  {
   "cell_type": "markdown",
   "id": "905b1a33",
   "metadata": {},
   "source": [
    "Pipelines with same preprocessor but different classifiers are developed. For this baseline models, Logistic Regression, Random Forest Classifier and LGBM classifier are selected."
   ]
  },
  {
   "cell_type": "code",
   "execution_count": 19,
   "id": "fdafa06b",
   "metadata": {},
   "outputs": [],
   "source": [
    "pipeline_lr = Pipeline(steps=[('preprocessor', preprocessor),\n",
    "                      ('classifier', LogisticRegression())])\n",
    "\n",
    "pipeline_rf = Pipeline(steps=[('preprocessor', preprocessor),\n",
    "                      ('classifier', RandomForestClassifier())])\n",
    "pipeline_lgbm =Pipeline(steps=[('preprocessor', preprocessor),\n",
    "                      ('classifier', LGBMClassifier())])"
   ]
  },
  {
   "cell_type": "code",
   "execution_count": 20,
   "id": "2f09111e",
   "metadata": {},
   "outputs": [],
   "source": [
    "pipelines = [pipeline_lr, pipeline_rf, pipeline_lgbm]\n",
    "pipe_dict = {0: 'Logistic Regression', 1: 'RandomFores', 2: 'LGBM'}"
   ]
  },
  {
   "cell_type": "markdown",
   "id": "c6fdb00e",
   "metadata": {},
   "source": [
    "For loop was used to fit all the pipelines in training sets."
   ]
  },
  {
   "cell_type": "code",
   "execution_count": 21,
   "id": "476d214e",
   "metadata": {},
   "outputs": [],
   "source": [
    "for pipe in pipelines:\n",
    "    pipe.fit(X_train, y_train)"
   ]
  },
  {
   "cell_type": "markdown",
   "id": "77893ef5",
   "metadata": {},
   "source": [
    "Model performances were evaluated using model's accuracy score."
   ]
  },
  {
   "cell_type": "code",
   "execution_count": 22,
   "id": "a58ec9fc",
   "metadata": {},
   "outputs": [
    {
     "name": "stdout",
     "output_type": "stream",
     "text": [
      "Logistic Regression Test Accuracy: 0.8769973544973545\n",
      "RandomFores Test Accuracy: 0.899457671957672\n",
      "LGBM Test Accuracy: 0.878095238095238\n"
     ]
    }
   ],
   "source": [
    "for i,model in enumerate(pipelines):\n",
    "    print(\"{} Test Accuracy: {}\".format(pipe_dict[i],model.score(X_test,y_test)))"
   ]
  },
  {
   "cell_type": "code",
   "execution_count": 23,
   "id": "b5ce7973",
   "metadata": {},
   "outputs": [],
   "source": [
    "lr=pipeline_lr.predict(X_test)\n",
    "rf=pipeline_rf.predict(X_test)\n",
    "lgbm=pipeline_lgbm.predict(X_test)"
   ]
  },
  {
   "cell_type": "code",
   "execution_count": 24,
   "id": "f46450c1",
   "metadata": {},
   "outputs": [],
   "source": [
    "results=[lr,rf,lgbm]"
   ]
  },
  {
   "cell_type": "markdown",
   "id": "ab669e9f",
   "metadata": {},
   "source": [
    "Another loop that develops confusion matrix for all the baseline models is developed."
   ]
  },
  {
   "cell_type": "code",
   "execution_count": 25,
   "id": "1ca68ed8",
   "metadata": {},
   "outputs": [
    {
     "name": "stdout",
     "output_type": "stream",
     "text": [
      "Logistic Regression Confusion Matrix: \n",
      "              precision    recall  f1-score   support\n",
      "\n",
      "           0       0.88      1.00      0.93     66301\n",
      "           1       0.00      0.00      0.00      9299\n",
      "\n",
      "    accuracy                           0.88     75600\n",
      "   macro avg       0.44      0.50      0.47     75600\n",
      "weighted avg       0.77      0.88      0.82     75600\n",
      "\n",
      "RandomFores Confusion Matrix: \n",
      "              precision    recall  f1-score   support\n",
      "\n",
      "           0       0.94      0.95      0.94     66301\n",
      "           1       0.60      0.55      0.57      9299\n",
      "\n",
      "    accuracy                           0.90     75600\n",
      "   macro avg       0.77      0.75      0.76     75600\n",
      "weighted avg       0.90      0.90      0.90     75600\n",
      "\n",
      "LGBM Confusion Matrix: \n",
      "              precision    recall  f1-score   support\n",
      "\n",
      "           0       0.88      1.00      0.93     66301\n",
      "           1       0.66      0.02      0.04      9299\n",
      "\n",
      "    accuracy                           0.88     75600\n",
      "   macro avg       0.77      0.51      0.49     75600\n",
      "weighted avg       0.85      0.88      0.82     75600\n",
      "\n"
     ]
    }
   ],
   "source": [
    "for i,result in enumerate(results):\n",
    "    print(\"{} Confusion Matrix: \\n{}\".format(pipe_dict[i],classification_report(y_test,result)))"
   ]
  },
  {
   "cell_type": "markdown",
   "id": "4c26659d",
   "metadata": {},
   "source": [
    "<font size=\"5\"> Hyperparameter Tuning"
   ]
  },
  {
   "cell_type": "markdown",
   "id": "aec4089f",
   "metadata": {},
   "source": [
    "Hyperparameter tuning for baseline models are conducted and evaluated."
   ]
  },
  {
   "cell_type": "code",
   "execution_count": 26,
   "id": "8cd43c02",
   "metadata": {},
   "outputs": [],
   "source": [
    "from sklearn.model_selection import GridSearchCV"
   ]
  },
  {
   "cell_type": "markdown",
   "id": "19165aae",
   "metadata": {},
   "source": [
    "Parameters for different machien learning algorithms are developed and the hyperparameters are fit to training datasets to determine the best parameters and accuracy score."
   ]
  },
  {
   "cell_type": "code",
   "execution_count": 27,
   "id": "1bab0c2c",
   "metadata": {},
   "outputs": [],
   "source": [
    "grid_param_lr= [\n",
    "                {\"classifier\": [LogisticRegression()],\n",
    "                 \"classifier__penalty\": ['l2','l1'],\n",
    "                 \"classifier__C\": np.logspace(0, 4, 10)\n",
    "                 }]\n",
    "gridsearch_lr = GridSearchCV(pipeline_lr, grid_param_lr, cv=2, verbose=0,n_jobs=-1) # Fit grid search\n",
    "best_model_lr = gridsearch_lr.fit(X_train,y_train)"
   ]
  },
  {
   "cell_type": "code",
   "execution_count": 29,
   "id": "5cd79e9c",
   "metadata": {},
   "outputs": [
    {
     "name": "stdout",
     "output_type": "stream",
     "text": [
      "best_estimator {'classifier': LogisticRegression(), 'classifier__C': 1.0, 'classifier__penalty': 'l2'}\n",
      "The mean accuracy of the model is: 0.8769973544973545\n"
     ]
    }
   ],
   "source": [
    "print('best_estimator',best_model_lr.best_params_)\n",
    "print(\"The mean accuracy of the model is:\",best_model_lr.score(X_test,y_test))"
   ]
  },
  {
   "cell_type": "code",
   "execution_count": 30,
   "id": "51e6cee5",
   "metadata": {},
   "outputs": [],
   "source": [
    "grid_param_rf= [\n",
    "                {\"classifier\": [RandomForestClassifier()],\n",
    "                 \"classifier__n_estimators\": [10, 100],\n",
    "                 \"classifier__criterion\":['gini','entropy'],\n",
    "                 }]\n",
    "gridsearch_rf = GridSearchCV(pipeline_rf, grid_param_rf, cv=2, verbose=0,n_jobs=-1) # Fit grid search\n",
    "best_model_rf = gridsearch_rf.fit(X_train,y_train)"
   ]
  },
  {
   "cell_type": "code",
   "execution_count": 32,
   "id": "b103aa63",
   "metadata": {},
   "outputs": [
    {
     "name": "stdout",
     "output_type": "stream",
     "text": [
      "best_estimator {'classifier': RandomForestClassifier(), 'classifier__criterion': 'gini', 'classifier__n_estimators': 100}\n",
      "The mean accuracy of the model is: 0.8993783068783069\n"
     ]
    }
   ],
   "source": [
    "print('best_estimator',best_model_rf.best_params_)\n",
    "print(\"The mean accuracy of the model is:\",best_model_rf.score(X_test,y_test))"
   ]
  },
  {
   "cell_type": "code",
   "execution_count": 33,
   "id": "ed5b317b",
   "metadata": {},
   "outputs": [
    {
     "name": "stdout",
     "output_type": "stream",
     "text": [
      "[LightGBM] [Warning] Unknown parameter: criterion\n"
     ]
    }
   ],
   "source": [
    "grid_param_lgbm= [\n",
    "                {\"classifier\": [LGBMClassifier()],\n",
    "                 \"classifier__n_estimators\": [10, 100],\n",
    "                 \"classifier__criterion\":['gini','entropy'],\n",
    "                 }]\n",
    "gridsearch_lgbm = GridSearchCV(pipeline_lgbm, grid_param_lgbm, cv=2, verbose=0,n_jobs=-1) # Fit grid search\n",
    "best_model_lgbm = gridsearch_lgbm.fit(X_train,y_train)"
   ]
  },
  {
   "cell_type": "code",
   "execution_count": 34,
   "id": "c1a64cac",
   "metadata": {},
   "outputs": [
    {
     "name": "stdout",
     "output_type": "stream",
     "text": [
      "best_estimator {'classifier': LGBMClassifier(criterion='gini'), 'classifier__criterion': 'gini', 'classifier__n_estimators': 100}\n",
      "The mean accuracy of the model is: 0.878095238095238\n"
     ]
    }
   ],
   "source": [
    "print('best_estimator',best_model_lgbm.best_params_)\n",
    "print(\"The mean accuracy of the model is:\",best_model_lgbm.score(X_test,y_test))"
   ]
  },
  {
   "cell_type": "markdown",
   "id": "409f6c88",
   "metadata": {},
   "source": [
    "The tuned models are used to predict the test data and confusion matrixs are developed for each models. Confusion matrix charts are also developed for visualization."
   ]
  },
  {
   "cell_type": "code",
   "execution_count": 35,
   "id": "fb64d41f",
   "metadata": {},
   "outputs": [],
   "source": [
    "lr_tuned=best_model_lr.predict(X_test)\n",
    "rf_tuned=best_model_rf.predict(X_test)\n",
    "lgbm_tuned=best_model_lgbm.predict(X_test)"
   ]
  },
  {
   "cell_type": "code",
   "execution_count": 97,
   "id": "48823a54",
   "metadata": {},
   "outputs": [],
   "source": [
    "best_result=[best_model_lr,best_model_rf,best_model_lgbm]"
   ]
  },
  {
   "cell_type": "code",
   "execution_count": 36,
   "id": "444d0ade",
   "metadata": {},
   "outputs": [],
   "source": [
    "results_tuned=[lr_tuned,rf_tuned,lgbm_tuned]"
   ]
  },
  {
   "cell_type": "code",
   "execution_count": 37,
   "id": "2887682d",
   "metadata": {},
   "outputs": [
    {
     "name": "stdout",
     "output_type": "stream",
     "text": [
      "Logistic Regression Confusion Matrix: \n",
      "              precision    recall  f1-score   support\n",
      "\n",
      "           0       0.88      1.00      0.93     66301\n",
      "           1       0.00      0.00      0.00      9299\n",
      "\n",
      "    accuracy                           0.88     75600\n",
      "   macro avg       0.44      0.50      0.47     75600\n",
      "weighted avg       0.77      0.88      0.82     75600\n",
      "\n",
      "RandomFores Confusion Matrix: \n",
      "              precision    recall  f1-score   support\n",
      "\n",
      "           0       0.94      0.95      0.94     66301\n",
      "           1       0.60      0.54      0.57      9299\n",
      "\n",
      "    accuracy                           0.90     75600\n",
      "   macro avg       0.77      0.75      0.76     75600\n",
      "weighted avg       0.90      0.90      0.90     75600\n",
      "\n",
      "LGBM Confusion Matrix: \n",
      "              precision    recall  f1-score   support\n",
      "\n",
      "           0       0.88      1.00      0.93     66301\n",
      "           1       0.66      0.02      0.04      9299\n",
      "\n",
      "    accuracy                           0.88     75600\n",
      "   macro avg       0.77      0.51      0.49     75600\n",
      "weighted avg       0.85      0.88      0.82     75600\n",
      "\n"
     ]
    }
   ],
   "source": [
    "for i,result in enumerate(results_tuned):\n",
    "    print(\"{} Confusion Matrix: \\n{}\".format(pipe_dict[i],classification_report(y_test,result)))"
   ]
  },
  {
   "cell_type": "code",
   "execution_count": 38,
   "id": "36b617e2",
   "metadata": {
    "scrolled": false
   },
   "outputs": [
    {
     "name": "stdout",
     "output_type": "stream",
     "text": [
      "Logistic Regression Confusion Matrix: \n",
      "[[66301     0]\n",
      " [ 9299     0]]\n",
      "RandomFores Confusion Matrix: \n",
      "[[62957  3344]\n",
      " [ 4263  5036]]\n",
      "LGBM Confusion Matrix: \n",
      "[[66216    85]\n",
      " [ 9131   168]]\n"
     ]
    }
   ],
   "source": [
    "for i,result in enumerate(results_tuned):\n",
    "    print(\"{} Confusion Matrix: \\n{}\".format(pipe_dict[i],confusion_matrix(y_test,result)))"
   ]
  },
  {
   "cell_type": "code",
   "execution_count": 44,
   "id": "195eb535",
   "metadata": {},
   "outputs": [
    {
     "data": {
      "image/png": "[encoded data removed]",
      "text/plain": [
       "<Figure size 432x288 with 2 Axes>"
      ]
     },
     "metadata": {
      "needs_background": "light"
     },
     "output_type": "display_data"
    },
    {
     "data": {
      "image/png": "[encoded data removed]",
      "text/plain": [
       "<Figure size 432x288 with 2 Axes>"
      ]
     },
     "metadata": {
      "needs_background": "light"
     },
     "output_type": "display_data"
    },
    {
     "data": {
      "image/png": "[encoded data removed]",
      "text/plain": [
       "<Figure size 432x288 with 2 Axes>"
      ]
     },
     "metadata": {
      "needs_background": "light"
     },
     "output_type": "display_data"
    }
   ],
   "source": [
    "for i,result in enumerate(results_tuned):    \n",
    "    cmn = confusion_matrix(y_test,result).astype('float') / confusion_matrix(y_test,result).sum(axis=1)[:, np.newaxis]\n",
    "    _=sns.heatmap(cmn,annot=True,cmap='Blues')\n",
    "    _.set_title(pipe_dict[i])\n",
    "    _.set_xlabel('Predicted Values')\n",
    "    _.set_ylabel('Actual Vlaues')\n",
    "    _.xaxis.set_ticklabels(['False','True'])\n",
    "    _.yaxis.set_ticklabels(['False','True'])\n",
    "    plt.show()"
   ]
  },
  {
   "cell_type": "markdown",
   "id": "c1fd24e2",
   "metadata": {},
   "source": [
    "Lastly, ROC-AUC graphs are plotted for different baseline models."
   ]
  },
  {
   "cell_type": "code",
   "execution_count": 100,
   "id": "ff9ba1fa",
   "metadata": {},
   "outputs": [
    {
     "data": {
      "image/png": "[encoded data removed]",
      "text/plain": [
       "<Figure size 432x288 with 1 Axes>"
      ]
     },
     "metadata": {
      "needs_background": "light"
     },
     "output_type": "display_data"
    },
    {
     "data": {
      "image/png": "[encoded data removed]",
      "text/plain": [
       "<Figure size 432x288 with 1 Axes>"
      ]
     },
     "metadata": {
      "needs_background": "light"
     },
     "output_type": "display_data"
    },
    {
     "data": {
      "image/png": "[encoded data removed]",
      "text/plain": [
       "<Figure size 432x288 with 1 Axes>"
      ]
     },
     "metadata": {
      "needs_background": "light"
     },
     "output_type": "display_data"
    }
   ],
   "source": [
    "for i,result in enumerate(best_result):\n",
    "    y_scores=result.predict_proba(X_test)[:,1]\n",
    "    f_lr,t_lr,_=roc_curve(y_test,y_scores)\n",
    "    roc_auc_LR=auc(f_lr,t_lr)\n",
    "    round(roc_auc_LR,2)\n",
    "    plt.plot([0, 1], [0, 1], 'k--')\n",
    "    plt.plot(f_lr, t_lr)\n",
    "    plt.xlabel('False Positive Rate')\n",
    "    plt.ylabel('True Positive Rate')\n",
    "    plt.title(pipe_dict[i],'ROC Curve')\n",
    "    plt.show()"
   ]
  },
  {
   "cell_type": "markdown",
   "id": "29264e6e",
   "metadata": {},
   "source": [
    "<font size=\"5\"> Conclusion"
   ]
  },
  {
   "cell_type": "markdown",
   "id": "d3a26d2d",
   "metadata": {},
   "source": [
    "In conclusion, the baseline models performed really well by looking at the accuracy score since they were all above 85 percenet. However, once we look at the confusion matrix of each models, Logistic Regression and LightGBM Models' precision, recall, and f-1 score on predicting 'Risk' value are very poor. It is due to imbalanced classification since there are only about 12 percent of population with risk on getting loans. Therefore in the future notebook, different resampling techinques must be used to deal with the imbalanced classification. "
   ]
  }
 ],
 "metadata": {
  "kernelspec": {
   "display_name": "Python 3 (ipykernel)",
   "language": "python",
   "name": "python3"
  },
  "language_info": {
   "codemirror_mode": {
    "name": "ipython",
    "version": 3
   },
   "file_extension": ".py",
   "mimetype": "text/x-python",
   "name": "python",
   "nbconvert_exporter": "python",
   "pygments_lexer": "ipython3",
   "version": "3.9.7"
  }
 },
 "nbformat": 4,
 "nbformat_minor": 5
}

{
 "cells": [
  {
   "cell_type": "markdown",
   "id": "c9220e05",
   "metadata": {},
   "source": [
    "<font size=\"6\">Pre-Processing and Training Data Development</font>"
   ]
  },
  {
   "cell_type": "markdown",
   "id": "de58f0e6",
   "metadata": {},
   "source": [
    "In this notebook, cleaned data from previous notebook will be used to prepare for modelling in the future notebook. The target varibale will be set. Also numerical and non-numerical columns will be seperated to go through a different preprocess. A pipeline that contains preprocessing for different columns and classifier will be developed for further use as well. \\\n",
    "\\\n",
    "Using the pipeline, a baseline models using three different machine learning algorithms will be developed. Also hyperparameter tuning will be conducted for those baseline models using pipeline as well. Lastly, confusion matrix, ROC-AUC curve will be plotted for compare the model performance in the future modelling. "
   ]
  },
  {
   "cell_type": "markdown",
   "id": "a292b039",
   "metadata": {},
   "source": [
    "Lastly, both dataset with and without 'City' and 'States' columns will go through pipeline to evaluate if one produces a better machine learning algorithm. Finally, train and test dataset those go through preprocessor pipeline will be saved for future use."
   ]
  },
  {
   "cell_type": "markdown",
   "id": "5c1f8a24",
   "metadata": {},
   "source": [
    "<font size=\"5\"> Import and load"
   ]
  },
  {
   "cell_type": "markdown",
   "id": "9a0a66d2",
   "metadata": {},
   "source": [
    "Tools and data was loaded."
   ]
  },
  {
   "cell_type": "code",
   "execution_count": 3,
   "id": "174c073a",
   "metadata": {},
   "outputs": [],
   "source": [
    "import numpy as np\n",
    "import pandas as pd\n",
    "import matplotlib.pyplot as plt\n",
    "import seaborn as sns\n",
    "import warnings\n",
    "warnings.filterwarnings('ignore')"
   ]
  },
  {
   "cell_type": "code",
   "execution_count": 34,
   "id": "6761c7b8",
   "metadata": {},
   "outputs": [],
   "source": [
    "from sklearn.model_selection import train_test_split\n",
    "from sklearn.linear_model import LogisticRegression\n",
    "from sklearn.metrics import accuracy_score\n",
    "from sklearn.preprocessing import StandardScaler,OneHotEncoder\n",
    "from sklearn.metrics import classification_report\n",
    "from sklearn.metrics import confusion_matrix, roc_curve, auc,ConfusionMatrixDisplay\n",
    "from sklearn.metrics import roc_auc_score"
   ]
  },
  {
   "cell_type": "code",
   "execution_count": 5,
   "id": "dc3b79c2",
   "metadata": {},
   "outputs": [],
   "source": [
    "from sklearn.compose import ColumnTransformer\n",
    "from sklearn.pipeline import Pipeline"
   ]
  },
  {
   "cell_type": "code",
   "execution_count": 6,
   "id": "eed511e8",
   "metadata": {},
   "outputs": [],
   "source": [
    "from sklearn.ensemble import RandomForestClassifier\n",
    "from lightgbm import LGBMClassifier"
   ]
  },
  {
   "cell_type": "code",
   "execution_count": 7,
   "id": "d03fd6ac",
   "metadata": {},
   "outputs": [],
   "source": [
    "df=pd.read_csv('../Capstone-3-/file/loan_data.csv',index_col='Unnamed: 0')"
   ]
  },
  {
   "cell_type": "code",
   "execution_count": 8,
   "id": "95b3e063",
   "metadata": {
    "scrolled": false
   },
   "outputs": [
    {
     "data": {
      "text/html": [
       "<div>\n",
       "<style scoped>\n",
       "    .dataframe tbody tr th:only-of-type {\n",
       "        vertical-align: middle;\n",
       "    }\n",
       "\n",
       "    .dataframe tbody tr th {\n",
       "        vertical-align: top;\n",
       "    }\n",
       "\n",
       "    .dataframe thead th {\n",
       "        text-align: right;\n",
       "    }\n",
       "</style>\n",
       "<table border=\"1\" class=\"dataframe\">\n",
       "  <thead>\n",
       "    <tr style=\"text-align: right;\">\n",
       "      <th></th>\n",
       "      <th>Id</th>\n",
       "      <th>Income</th>\n",
       "      <th>Age</th>\n",
       "      <th>Experience</th>\n",
       "      <th>Marital_Status</th>\n",
       "      <th>House_Ownership</th>\n",
       "      <th>Car_Ownership</th>\n",
       "      <th>Profession</th>\n",
       "      <th>City</th>\n",
       "      <th>State</th>\n",
       "      <th>Job_Yrs</th>\n",
       "      <th>House_Yrs</th>\n",
       "      <th>Risk_Flag</th>\n",
       "    </tr>\n",
       "  </thead>\n",
       "  <tbody>\n",
       "    <tr>\n",
       "      <th>0</th>\n",
       "      <td>1</td>\n",
       "      <td>1303834</td>\n",
       "      <td>23</td>\n",
       "      <td>3</td>\n",
       "      <td>SINGLE</td>\n",
       "      <td>RENTED</td>\n",
       "      <td>NO</td>\n",
       "      <td>MECHANICAL_ENGINEER</td>\n",
       "      <td>REWA</td>\n",
       "      <td>MADHYA_PRADESH</td>\n",
       "      <td>3</td>\n",
       "      <td>13</td>\n",
       "      <td>0</td>\n",
       "    </tr>\n",
       "    <tr>\n",
       "      <th>1</th>\n",
       "      <td>2</td>\n",
       "      <td>7574516</td>\n",
       "      <td>40</td>\n",
       "      <td>10</td>\n",
       "      <td>SINGLE</td>\n",
       "      <td>RENTED</td>\n",
       "      <td>NO</td>\n",
       "      <td>SOFTWARE_DEVELOPER</td>\n",
       "      <td>PARBHANI</td>\n",
       "      <td>MAHARASHTRA</td>\n",
       "      <td>9</td>\n",
       "      <td>13</td>\n",
       "      <td>0</td>\n",
       "    </tr>\n",
       "    <tr>\n",
       "      <th>2</th>\n",
       "      <td>3</td>\n",
       "      <td>3991815</td>\n",
       "      <td>66</td>\n",
       "      <td>4</td>\n",
       "      <td>MARRIED</td>\n",
       "      <td>RENTED</td>\n",
       "      <td>NO</td>\n",
       "      <td>TECHNICAL_WRITER</td>\n",
       "      <td>ALAPPUZHA</td>\n",
       "      <td>KERALA</td>\n",
       "      <td>4</td>\n",
       "      <td>10</td>\n",
       "      <td>0</td>\n",
       "    </tr>\n",
       "    <tr>\n",
       "      <th>3</th>\n",
       "      <td>4</td>\n",
       "      <td>6256451</td>\n",
       "      <td>41</td>\n",
       "      <td>2</td>\n",
       "      <td>SINGLE</td>\n",
       "      <td>RENTED</td>\n",
       "      <td>YES</td>\n",
       "      <td>SOFTWARE_DEVELOPER</td>\n",
       "      <td>BHUBANESWAR</td>\n",
       "      <td>ODISHA</td>\n",
       "      <td>2</td>\n",
       "      <td>12</td>\n",
       "      <td>1</td>\n",
       "    </tr>\n",
       "    <tr>\n",
       "      <th>4</th>\n",
       "      <td>5</td>\n",
       "      <td>5768871</td>\n",
       "      <td>47</td>\n",
       "      <td>11</td>\n",
       "      <td>SINGLE</td>\n",
       "      <td>RENTED</td>\n",
       "      <td>NO</td>\n",
       "      <td>CIVIL_SERVANT</td>\n",
       "      <td>TIRUCHIRAPPALLI</td>\n",
       "      <td>TAMIL_NADU</td>\n",
       "      <td>3</td>\n",
       "      <td>14</td>\n",
       "      <td>1</td>\n",
       "    </tr>\n",
       "  </tbody>\n",
       "</table>\n",
       "</div>"
      ],
      "text/plain": [
       "   Id   Income  Age  Experience Marital_Status House_Ownership Car_Ownership  \\\n",
       "0   1  1303834   23           3         SINGLE          RENTED            NO   \n",
       "1   2  7574516   40          10         SINGLE          RENTED            NO   \n",
       "2   3  3991815   66           4        MARRIED          RENTED            NO   \n",
       "3   4  6256451   41           2         SINGLE          RENTED           YES   \n",
       "4   5  5768871   47          11         SINGLE          RENTED            NO   \n",
       "\n",
       "            Profession             City           State  Job_Yrs  House_Yrs  \\\n",
       "0  MECHANICAL_ENGINEER             REWA  MADHYA_PRADESH        3         13   \n",
       "1   SOFTWARE_DEVELOPER         PARBHANI     MAHARASHTRA        9         13   \n",
       "2     TECHNICAL_WRITER        ALAPPUZHA          KERALA        4         10   \n",
       "3   SOFTWARE_DEVELOPER      BHUBANESWAR          ODISHA        2         12   \n",
       "4        CIVIL_SERVANT  TIRUCHIRAPPALLI      TAMIL_NADU        3         14   \n",
       "\n",
       "   Risk_Flag  \n",
       "0          0  \n",
       "1          0  \n",
       "2          0  \n",
       "3          1  \n",
       "4          1  "
      ]
     },
     "execution_count": 8,
     "metadata": {},
     "output_type": "execute_result"
    }
   ],
   "source": [
    "df.head()"
   ]
  },
  {
   "cell_type": "code",
   "execution_count": 9,
   "id": "c589ef95",
   "metadata": {},
   "outputs": [],
   "source": [
    "df=df.set_index('Id')"
   ]
  },
  {
   "cell_type": "code",
   "execution_count": 10,
   "id": "2f696c82",
   "metadata": {},
   "outputs": [
    {
     "data": {
      "text/html": [
       "<div>\n",
       "<style scoped>\n",
       "    .dataframe tbody tr th:only-of-type {\n",
       "        vertical-align: middle;\n",
       "    }\n",
       "\n",
       "    .dataframe tbody tr th {\n",
       "        vertical-align: top;\n",
       "    }\n",
       "\n",
       "    .dataframe thead th {\n",
       "        text-align: right;\n",
       "    }\n",
       "</style>\n",
       "<table border=\"1\" class=\"dataframe\">\n",
       "  <thead>\n",
       "    <tr style=\"text-align: right;\">\n",
       "      <th></th>\n",
       "      <th>Income</th>\n",
       "      <th>Age</th>\n",
       "      <th>Experience</th>\n",
       "      <th>Marital_Status</th>\n",
       "      <th>House_Ownership</th>\n",
       "      <th>Car_Ownership</th>\n",
       "      <th>Profession</th>\n",
       "      <th>City</th>\n",
       "      <th>State</th>\n",
       "      <th>Job_Yrs</th>\n",
       "      <th>House_Yrs</th>\n",
       "      <th>Risk_Flag</th>\n",
       "    </tr>\n",
       "    <tr>\n",
       "      <th>Id</th>\n",
       "      <th></th>\n",
       "      <th></th>\n",
       "      <th></th>\n",
       "      <th></th>\n",
       "      <th></th>\n",
       "      <th></th>\n",
       "      <th></th>\n",
       "      <th></th>\n",
       "      <th></th>\n",
       "      <th></th>\n",
       "      <th></th>\n",
       "      <th></th>\n",
       "    </tr>\n",
       "  </thead>\n",
       "  <tbody>\n",
       "    <tr>\n",
       "      <th>1</th>\n",
       "      <td>1303834</td>\n",
       "      <td>23</td>\n",
       "      <td>3</td>\n",
       "      <td>SINGLE</td>\n",
       "      <td>RENTED</td>\n",
       "      <td>NO</td>\n",
       "      <td>MECHANICAL_ENGINEER</td>\n",
       "      <td>REWA</td>\n",
       "      <td>MADHYA_PRADESH</td>\n",
       "      <td>3</td>\n",
       "      <td>13</td>\n",
       "      <td>0</td>\n",
       "    </tr>\n",
       "    <tr>\n",
       "      <th>2</th>\n",
       "      <td>7574516</td>\n",
       "      <td>40</td>\n",
       "      <td>10</td>\n",
       "      <td>SINGLE</td>\n",
       "      <td>RENTED</td>\n",
       "      <td>NO</td>\n",
       "      <td>SOFTWARE_DEVELOPER</td>\n",
       "      <td>PARBHANI</td>\n",
       "      <td>MAHARASHTRA</td>\n",
       "      <td>9</td>\n",
       "      <td>13</td>\n",
       "      <td>0</td>\n",
       "    </tr>\n",
       "    <tr>\n",
       "      <th>3</th>\n",
       "      <td>3991815</td>\n",
       "      <td>66</td>\n",
       "      <td>4</td>\n",
       "      <td>MARRIED</td>\n",
       "      <td>RENTED</td>\n",
       "      <td>NO</td>\n",
       "      <td>TECHNICAL_WRITER</td>\n",
       "      <td>ALAPPUZHA</td>\n",
       "      <td>KERALA</td>\n",
       "      <td>4</td>\n",
       "      <td>10</td>\n",
       "      <td>0</td>\n",
       "    </tr>\n",
       "    <tr>\n",
       "      <th>4</th>\n",
       "      <td>6256451</td>\n",
       "      <td>41</td>\n",
       "      <td>2</td>\n",
       "      <td>SINGLE</td>\n",
       "      <td>RENTED</td>\n",
       "      <td>YES</td>\n",
       "      <td>SOFTWARE_DEVELOPER</td>\n",
       "      <td>BHUBANESWAR</td>\n",
       "      <td>ODISHA</td>\n",
       "      <td>2</td>\n",
       "      <td>12</td>\n",
       "      <td>1</td>\n",
       "    </tr>\n",
       "    <tr>\n",
       "      <th>5</th>\n",
       "      <td>5768871</td>\n",
       "      <td>47</td>\n",
       "      <td>11</td>\n",
       "      <td>SINGLE</td>\n",
       "      <td>RENTED</td>\n",
       "      <td>NO</td>\n",
       "      <td>CIVIL_SERVANT</td>\n",
       "      <td>TIRUCHIRAPPALLI</td>\n",
       "      <td>TAMIL_NADU</td>\n",
       "      <td>3</td>\n",
       "      <td>14</td>\n",
       "      <td>1</td>\n",
       "    </tr>\n",
       "    <tr>\n",
       "      <th>...</th>\n",
       "      <td>...</td>\n",
       "      <td>...</td>\n",
       "      <td>...</td>\n",
       "      <td>...</td>\n",
       "      <td>...</td>\n",
       "      <td>...</td>\n",
       "      <td>...</td>\n",
       "      <td>...</td>\n",
       "      <td>...</td>\n",
       "      <td>...</td>\n",
       "      <td>...</td>\n",
       "      <td>...</td>\n",
       "    </tr>\n",
       "    <tr>\n",
       "      <th>251996</th>\n",
       "      <td>8154883</td>\n",
       "      <td>43</td>\n",
       "      <td>13</td>\n",
       "      <td>SINGLE</td>\n",
       "      <td>RENTED</td>\n",
       "      <td>NO</td>\n",
       "      <td>SURGEON</td>\n",
       "      <td>KOLKATA</td>\n",
       "      <td>WEST_BENGAL</td>\n",
       "      <td>6</td>\n",
       "      <td>11</td>\n",
       "      <td>0</td>\n",
       "    </tr>\n",
       "    <tr>\n",
       "      <th>251997</th>\n",
       "      <td>2843572</td>\n",
       "      <td>26</td>\n",
       "      <td>10</td>\n",
       "      <td>SINGLE</td>\n",
       "      <td>RENTED</td>\n",
       "      <td>NO</td>\n",
       "      <td>ARMY_OFFICER</td>\n",
       "      <td>REWA</td>\n",
       "      <td>MADHYA_PRADESH</td>\n",
       "      <td>6</td>\n",
       "      <td>11</td>\n",
       "      <td>0</td>\n",
       "    </tr>\n",
       "    <tr>\n",
       "      <th>251998</th>\n",
       "      <td>4522448</td>\n",
       "      <td>46</td>\n",
       "      <td>7</td>\n",
       "      <td>SINGLE</td>\n",
       "      <td>RENTED</td>\n",
       "      <td>NO</td>\n",
       "      <td>DESIGN_ENGINEER</td>\n",
       "      <td>KALYAN-DOMBIVLI</td>\n",
       "      <td>MAHARASHTRA</td>\n",
       "      <td>7</td>\n",
       "      <td>12</td>\n",
       "      <td>0</td>\n",
       "    </tr>\n",
       "    <tr>\n",
       "      <th>251999</th>\n",
       "      <td>6507128</td>\n",
       "      <td>45</td>\n",
       "      <td>0</td>\n",
       "      <td>SINGLE</td>\n",
       "      <td>RENTED</td>\n",
       "      <td>NO</td>\n",
       "      <td>GRAPHIC_DESIGNER</td>\n",
       "      <td>PONDICHERRY</td>\n",
       "      <td>PUDUCHERRY</td>\n",
       "      <td>0</td>\n",
       "      <td>10</td>\n",
       "      <td>0</td>\n",
       "    </tr>\n",
       "    <tr>\n",
       "      <th>252000</th>\n",
       "      <td>9070230</td>\n",
       "      <td>70</td>\n",
       "      <td>17</td>\n",
       "      <td>SINGLE</td>\n",
       "      <td>RENTED</td>\n",
       "      <td>NO</td>\n",
       "      <td>STATISTICIAN</td>\n",
       "      <td>AVADI</td>\n",
       "      <td>TAMIL_NADU</td>\n",
       "      <td>7</td>\n",
       "      <td>11</td>\n",
       "      <td>0</td>\n",
       "    </tr>\n",
       "  </tbody>\n",
       "</table>\n",
       "<p>252000 rows × 12 columns</p>\n",
       "</div>"
      ],
      "text/plain": [
       "         Income  Age  Experience Marital_Status House_Ownership Car_Ownership  \\\n",
       "Id                                                                              \n",
       "1       1303834   23           3         SINGLE          RENTED            NO   \n",
       "2       7574516   40          10         SINGLE          RENTED            NO   \n",
       "3       3991815   66           4        MARRIED          RENTED            NO   \n",
       "4       6256451   41           2         SINGLE          RENTED           YES   \n",
       "5       5768871   47          11         SINGLE          RENTED            NO   \n",
       "...         ...  ...         ...            ...             ...           ...   \n",
       "251996  8154883   43          13         SINGLE          RENTED            NO   \n",
       "251997  2843572   26          10         SINGLE          RENTED            NO   \n",
       "251998  4522448   46           7         SINGLE          RENTED            NO   \n",
       "251999  6507128   45           0         SINGLE          RENTED            NO   \n",
       "252000  9070230   70          17         SINGLE          RENTED            NO   \n",
       "\n",
       "                 Profession             City           State  Job_Yrs  \\\n",
       "Id                                                                      \n",
       "1       MECHANICAL_ENGINEER             REWA  MADHYA_PRADESH        3   \n",
       "2        SOFTWARE_DEVELOPER         PARBHANI     MAHARASHTRA        9   \n",
       "3          TECHNICAL_WRITER        ALAPPUZHA          KERALA        4   \n",
       "4        SOFTWARE_DEVELOPER      BHUBANESWAR          ODISHA        2   \n",
       "5             CIVIL_SERVANT  TIRUCHIRAPPALLI      TAMIL_NADU        3   \n",
       "...                     ...              ...             ...      ...   \n",
       "251996              SURGEON          KOLKATA     WEST_BENGAL        6   \n",
       "251997         ARMY_OFFICER             REWA  MADHYA_PRADESH        6   \n",
       "251998      DESIGN_ENGINEER  KALYAN-DOMBIVLI     MAHARASHTRA        7   \n",
       "251999     GRAPHIC_DESIGNER      PONDICHERRY      PUDUCHERRY        0   \n",
       "252000         STATISTICIAN            AVADI      TAMIL_NADU        7   \n",
       "\n",
       "        House_Yrs  Risk_Flag  \n",
       "Id                            \n",
       "1              13          0  \n",
       "2              13          0  \n",
       "3              10          0  \n",
       "4              12          1  \n",
       "5              14          1  \n",
       "...           ...        ...  \n",
       "251996         11          0  \n",
       "251997         11          0  \n",
       "251998         12          0  \n",
       "251999         10          0  \n",
       "252000         11          0  \n",
       "\n",
       "[252000 rows x 12 columns]"
      ]
     },
     "execution_count": 10,
     "metadata": {},
     "output_type": "execute_result"
    }
   ],
   "source": [
    "df"
   ]
  },
  {
   "cell_type": "markdown",
   "id": "7484afd2",
   "metadata": {},
   "source": [
    "Data types of the columns are identified. Also the proportion of the risk flag of the samples are calculated. "
   ]
  },
  {
   "cell_type": "code",
   "execution_count": 11,
   "id": "5af2911c",
   "metadata": {},
   "outputs": [
    {
     "data": {
      "text/plain": [
       "0    87.7\n",
       "1    12.3\n",
       "Name: Risk_Flag, dtype: float64"
      ]
     },
     "execution_count": 11,
     "metadata": {},
     "output_type": "execute_result"
    }
   ],
   "source": [
    "a=df['Risk_Flag'].value_counts(normalize=True)\n",
    "percent_risk=round(a,4)\n",
    "percent_risk*100"
   ]
  },
  {
   "cell_type": "code",
   "execution_count": 12,
   "id": "df8c393b",
   "metadata": {
    "scrolled": true
   },
   "outputs": [
    {
     "data": {
      "text/plain": [
       "Income              int64\n",
       "Age                 int64\n",
       "Experience          int64\n",
       "Marital_Status     object\n",
       "House_Ownership    object\n",
       "Car_Ownership      object\n",
       "Profession         object\n",
       "City               object\n",
       "State              object\n",
       "Job_Yrs             int64\n",
       "House_Yrs           int64\n",
       "Risk_Flag           int64\n",
       "dtype: object"
      ]
     },
     "execution_count": 12,
     "metadata": {},
     "output_type": "execute_result"
    }
   ],
   "source": [
    "df.dtypes"
   ]
  },
  {
   "cell_type": "code",
   "execution_count": 13,
   "id": "9b06b4f5",
   "metadata": {},
   "outputs": [
    {
     "data": {
      "text/plain": [
       "Index(['Income', 'Age', 'Experience', 'Marital_Status', 'House_Ownership',\n",
       "       'Car_Ownership', 'Profession', 'City', 'State', 'Job_Yrs', 'House_Yrs',\n",
       "       'Risk_Flag'],\n",
       "      dtype='object')"
      ]
     },
     "execution_count": 13,
     "metadata": {},
     "output_type": "execute_result"
    }
   ],
   "source": [
    "df.columns"
   ]
  },
  {
   "cell_type": "markdown",
   "id": "59156c00",
   "metadata": {},
   "source": [
    "Columns without data type 'object', and 'Risk_Flag' are omitted form numerical columns and columns with datatype 'object' are stored in categorical column list. "
   ]
  },
  {
   "cell_type": "code",
   "execution_count": 14,
   "id": "504216f9",
   "metadata": {},
   "outputs": [],
   "source": [
    "df_num = df.loc[:,(df.dtypes != 'object')&(df.columns != 'Risk_Flag')]\n",
    "df_cat=df.loc[:,(df.dtypes == 'object')]"
   ]
  },
  {
   "cell_type": "code",
   "execution_count": 15,
   "id": "d9c60942",
   "metadata": {},
   "outputs": [],
   "source": [
    "df_num_cols=df_num.columns\n",
    "df_cat_cols=df_cat.columns"
   ]
  },
  {
   "cell_type": "code",
   "execution_count": 16,
   "id": "8773f682",
   "metadata": {
    "scrolled": true
   },
   "outputs": [
    {
     "data": {
      "text/plain": [
       "Index(['Income', 'Age', 'Experience', 'Job_Yrs', 'House_Yrs'], dtype='object')"
      ]
     },
     "execution_count": 16,
     "metadata": {},
     "output_type": "execute_result"
    }
   ],
   "source": [
    "df_num_cols"
   ]
  },
  {
   "cell_type": "code",
   "execution_count": 17,
   "id": "8d1493a7",
   "metadata": {},
   "outputs": [
    {
     "data": {
      "text/plain": [
       "Index(['Marital_Status', 'House_Ownership', 'Car_Ownership', 'Profession',\n",
       "       'City', 'State'],\n",
       "      dtype='object')"
      ]
     },
     "execution_count": 17,
     "metadata": {},
     "output_type": "execute_result"
    }
   ],
   "source": [
    "df_cat_cols"
   ]
  },
  {
   "cell_type": "markdown",
   "id": "3d9a07a9",
   "metadata": {},
   "source": [
    "Data was seperated by a traget variable, 'Risk_Flag' in this project. "
   ]
  },
  {
   "cell_type": "code",
   "execution_count": 18,
   "id": "607e4d7f",
   "metadata": {},
   "outputs": [],
   "source": [
    "df_x = df.loc[:, df.columns != 'Risk_Flag']\n",
    "df_y=df.loc[:,df.columns == 'Risk_Flag']"
   ]
  },
  {
   "cell_type": "code",
   "execution_count": 19,
   "id": "6e369590",
   "metadata": {},
   "outputs": [],
   "source": [
    "df_x_cols=df_x.columns"
   ]
  },
  {
   "cell_type": "markdown",
   "id": "91f37c75",
   "metadata": {},
   "source": [
    "<font size=\"5\"> Data Prep"
   ]
  },
  {
   "cell_type": "code",
   "execution_count": 20,
   "id": "eee7dc3d",
   "metadata": {},
   "outputs": [],
   "source": [
    "X_train_all,X_test_all,y_train_all,y_test_all=train_test_split(df_x,df_y,test_size=0.3,random_state=42,stratify=df_y)"
   ]
  },
  {
   "cell_type": "code",
   "execution_count": 21,
   "id": "1322bce3",
   "metadata": {},
   "outputs": [],
   "source": [
    "std_scale=StandardScaler()"
   ]
  },
  {
   "cell_type": "code",
   "execution_count": 23,
   "id": "a582c85b",
   "metadata": {},
   "outputs": [],
   "source": [
    "X_train_all[df_num_cols]=std_scale.fit_transform(X_train_all[df_num_cols])\n",
    "X_test_all[df_num_cols]=std_scale.transform(X_test_all[df_num_cols])\n"
   ]
  },
  {
   "cell_type": "code",
   "execution_count": 24,
   "id": "c93f190d",
   "metadata": {},
   "outputs": [],
   "source": [
    "X_train_all=pd.get_dummies(X_train_all)\n",
    "X_test_all=pd.get_dummies(X_test_all)"
   ]
  },
  {
   "cell_type": "code",
   "execution_count": 26,
   "id": "fca6c7d1",
   "metadata": {},
   "outputs": [],
   "source": [
    "import re\n",
    "X_train_all = X_train_all.rename(columns = lambda x:re.sub('[^A-Za-z0-9_]+', '', x))"
   ]
  },
  {
   "cell_type": "markdown",
   "id": "910eaaba",
   "metadata": {},
   "source": [
    "<font size=\"5\"> Baseline Modelling with 'City','State' Columns"
   ]
  },
  {
   "cell_type": "markdown",
   "id": "8f20e6c9",
   "metadata": {},
   "source": [
    "Train and test samples are splitted.\\\n",
    "First, dataset that contains 'City' and 'State' columns will be used to create a baseline model. "
   ]
  },
  {
   "cell_type": "markdown",
   "id": "4ef4cafa",
   "metadata": {},
   "source": [
    "Preprocessor that performs different preprocessing for numerical and non-numerical columns was developed. Non-numerical columns will go through encoding and numerical columns will go through a scalling process."
   ]
  },
  {
   "cell_type": "markdown",
   "id": "4f2c3c4e",
   "metadata": {},
   "source": [
    "Pipelines with same preprocessor but different classifiers are developed. For this baseline models, Logistic Regression, Random Forest Classifier and LGBM classifier are selected."
   ]
  },
  {
   "cell_type": "code",
   "execution_count": 27,
   "id": "fdafa06b",
   "metadata": {},
   "outputs": [],
   "source": [
    "pipeline_lr = Pipeline(steps=[('classifier', LogisticRegression())])\n",
    "\n",
    "pipeline_rf = Pipeline(steps=[('classifier', RandomForestClassifier())])\n",
    "pipeline_lgbm =Pipeline(steps=[('classifier', LGBMClassifier())])"
   ]
  },
  {
   "cell_type": "code",
   "execution_count": 28,
   "id": "2f09111e",
   "metadata": {},
   "outputs": [],
   "source": [
    "pipelines = [pipeline_lr, pipeline_rf, pipeline_lgbm]\n",
    "pipe_dict = {0: 'Logistic Regression', 1: 'RandomForest', 2: 'LGBM'}"
   ]
  },
  {
   "cell_type": "markdown",
   "id": "244d659c",
   "metadata": {},
   "source": [
    "For loop was used to fit all the pipelines in training sets."
   ]
  },
  {
   "cell_type": "code",
   "execution_count": 31,
   "id": "476d214e",
   "metadata": {},
   "outputs": [],
   "source": [
    "for pipe in pipelines:\n",
    "    pipe.fit(X_train_all, y_train_all)"
   ]
  },
  {
   "cell_type": "markdown",
   "id": "761f1401",
   "metadata": {},
   "source": [
    "Model performances were evaluated using model's accuracy score."
   ]
  },
  {
   "cell_type": "code",
   "execution_count": 39,
   "id": "a58ec9fc",
   "metadata": {},
   "outputs": [
    {
     "name": "stdout",
     "output_type": "stream",
     "text": [
      "Logistic Regression Test Accuracy: 0.8769973544973545\n",
      "RandomForest Test Accuracy: 0.8993783068783069\n",
      "LGBM Test Accuracy: 0.878095238095238\n"
     ]
    }
   ],
   "source": [
    "for i,model in enumerate(pipelines):\n",
    "    print(\"{} Test Accuracy: {}\".format(pipe_dict[i],model.score(X_test_all,y_test_all)))"
   ]
  },
  {
   "cell_type": "code",
   "execution_count": 40,
   "id": "b5ce7973",
   "metadata": {},
   "outputs": [],
   "source": [
    "lr=pipeline_lr.predict(X_test_all)\n",
    "rf=pipeline_rf.predict(X_test_all)\n",
    "lgbm=pipeline_lgbm.predict(X_test_all)"
   ]
  },
  {
   "cell_type": "code",
   "execution_count": 41,
   "id": "f46450c1",
   "metadata": {},
   "outputs": [],
   "source": [
    "results=[lr,rf,lgbm]"
   ]
  },
  {
   "cell_type": "code",
   "execution_count": 42,
   "id": "d9117624",
   "metadata": {},
   "outputs": [
    {
     "name": "stdout",
     "output_type": "stream",
     "text": [
      "Logistic Regression ROC_AUC: 0.5\n",
      "RandomForest ROC_AUC: 0.7470890013139426\n",
      "LGBM ROC_AUC: 0.5083922134068934\n"
     ]
    }
   ],
   "source": [
    "for i,result in enumerate(results):\n",
    "    print(\"{} ROC_AUC: {}\".format(pipe_dict[i],roc_auc_score(y_test_all,result)))"
   ]
  },
  {
   "cell_type": "markdown",
   "id": "dc3fa547",
   "metadata": {},
   "source": [
    "Another loop that develops confusion matrix for all the baseline models is developed."
   ]
  },
  {
   "cell_type": "code",
   "execution_count": 44,
   "id": "1ca68ed8",
   "metadata": {},
   "outputs": [
    {
     "name": "stdout",
     "output_type": "stream",
     "text": [
      "Logistic Regression Confusion Matrix: \n",
      "              precision    recall  f1-score   support\n",
      "\n",
      "           0       0.88      1.00      0.93     66301\n",
      "           1       0.00      0.00      0.00      9299\n",
      "\n",
      "    accuracy                           0.88     75600\n",
      "   macro avg       0.44      0.50      0.47     75600\n",
      "weighted avg       0.77      0.88      0.82     75600\n",
      "\n",
      "RandomForest Confusion Matrix: \n",
      "              precision    recall  f1-score   support\n",
      "\n",
      "           0       0.94      0.95      0.94     66301\n",
      "           1       0.60      0.55      0.57      9299\n",
      "\n",
      "    accuracy                           0.90     75600\n",
      "   macro avg       0.77      0.75      0.76     75600\n",
      "weighted avg       0.90      0.90      0.90     75600\n",
      "\n",
      "LGBM Confusion Matrix: \n",
      "              precision    recall  f1-score   support\n",
      "\n",
      "           0       0.88      1.00      0.93     66301\n",
      "           1       0.66      0.02      0.04      9299\n",
      "\n",
      "    accuracy                           0.88     75600\n",
      "   macro avg       0.77      0.51      0.49     75600\n",
      "weighted avg       0.85      0.88      0.82     75600\n",
      "\n"
     ]
    }
   ],
   "source": [
    "for i,result in enumerate(results):\n",
    "    print(\"{} Confusion Matrix: \\n{}\".format(pipe_dict[i],classification_report(y_test_all,result)))"
   ]
  },
  {
   "cell_type": "code",
   "execution_count": 45,
   "id": "f0d10e8c",
   "metadata": {},
   "outputs": [
    {
     "data": {
      "image/png": "[encoded data removed]",
      "text/plain": [
       "<Figure size 432x288 with 2 Axes>"
      ]
     },
     "metadata": {
      "needs_background": "light"
     },
     "output_type": "display_data"
    },
    {
     "data": {
      "image/png": "[encoded data removed]",
      "text/plain": [
       "<Figure size 432x288 with 2 Axes>"
      ]
     },
     "metadata": {
      "needs_background": "light"
     },
     "output_type": "display_data"
    },
    {
     "data": {
      "image/png": "[encoded data removed]",
      "text/plain": [
       "<Figure size 432x288 with 2 Axes>"
      ]
     },
     "metadata": {
      "needs_background": "light"
     },
     "output_type": "display_data"
    }
   ],
   "source": [
    "for i,result in enumerate(results):    \n",
    "    cmn = confusion_matrix(y_test_all,result).astype('float') / confusion_matrix(y_test_all,result).sum(axis=1)[:, np.newaxis]\n",
    "    _=sns.heatmap(cmn,annot=True,cmap='Blues')\n",
    "    _.set_title(pipe_dict[i])\n",
    "    _.set_xlabel('Predicted Values')\n",
    "    _.set_ylabel('Actual Vlaues')\n",
    "    _.xaxis.set_ticklabels(['False','True'])\n",
    "    _.yaxis.set_ticklabels(['False','True'])\n",
    "    plt.show()"
   ]
  },
  {
   "cell_type": "code",
   "execution_count": 51,
   "id": "e8a69802",
   "metadata": {},
   "outputs": [
    {
     "data": {
      "image/png": "[encoded data removed]",
      "text/plain": [
       "<Figure size 432x288 with 1 Axes>"
      ]
     },
     "metadata": {
      "needs_background": "light"
     },
     "output_type": "display_data"
    },
    {
     "data": {
      "image/png": "[encoded data removed]",
      "text/plain": [
       "<Figure size 432x288 with 1 Axes>"
      ]
     },
     "metadata": {
      "needs_background": "light"
     },
     "output_type": "display_data"
    },
    {
     "data": {
      "image/png": "[encoded data removed]",
      "text/plain": [
       "<Figure size 432x288 with 1 Axes>"
      ]
     },
     "metadata": {
      "needs_background": "light"
     },
     "output_type": "display_data"
    }
   ],
   "source": [
    "for i,result in enumerate(pipelines):\n",
    "    y_scores=result.predict_proba(X_test_all)[:,1]\n",
    "    f_lr,t_lr,_=roc_curve(y_test_all,y_scores)\n",
    "    roc_auc=auc(f_lr,t_lr)\n",
    "    round(roc_auc,2)\n",
    "    plt.plot([0, 1], [0, 1], 'k--')\n",
    "    plt.plot(f_lr, t_lr)\n",
    "    plt.xlabel('False Positive Rate')\n",
    "    plt.ylabel('True Positive Rate')\n",
    "    plt.title(pipe_dict[i])\n",
    "    plt.show()"
   ]
  },
  {
   "cell_type": "markdown",
   "id": "adeb4ea5",
   "metadata": {},
   "source": [
    "<font size=\"4\">Modelling without City and State"
   ]
  },
  {
   "cell_type": "markdown",
   "id": "4b721a1c",
   "metadata": {},
   "source": [
    "From the dataset, columns, 'City' and 'State' will be dropped to compare the performance of the models."
   ]
  },
  {
   "cell_type": "code",
   "execution_count": 71,
   "id": "6749a2c6",
   "metadata": {},
   "outputs": [],
   "source": [
    "df1=df.copy()"
   ]
  },
  {
   "cell_type": "code",
   "execution_count": 77,
   "id": "f62b0cd7",
   "metadata": {},
   "outputs": [
    {
     "data": {
      "text/plain": [
       "Index(['Income', 'Age', 'Experience', 'Marital_Status', 'House_Ownership',\n",
       "       'Car_Ownership', 'Profession', 'City', 'State', 'Job_Yrs', 'House_Yrs',\n",
       "       'Risk_Flag'],\n",
       "      dtype='object')"
      ]
     },
     "execution_count": 77,
     "metadata": {},
     "output_type": "execute_result"
    }
   ],
   "source": [
    "df1.columns"
   ]
  },
  {
   "cell_type": "code",
   "execution_count": 78,
   "id": "76cce8d5",
   "metadata": {},
   "outputs": [],
   "source": [
    "df_ncs=df1.drop(columns=['City','State'])"
   ]
  },
  {
   "cell_type": "code",
   "execution_count": 82,
   "id": "9798d4bf",
   "metadata": {},
   "outputs": [
    {
     "data": {
      "text/html": [
       "<div>\n",
       "<style scoped>\n",
       "    .dataframe tbody tr th:only-of-type {\n",
       "        vertical-align: middle;\n",
       "    }\n",
       "\n",
       "    .dataframe tbody tr th {\n",
       "        vertical-align: top;\n",
       "    }\n",
       "\n",
       "    .dataframe thead th {\n",
       "        text-align: right;\n",
       "    }\n",
       "</style>\n",
       "<table border=\"1\" class=\"dataframe\">\n",
       "  <thead>\n",
       "    <tr style=\"text-align: right;\">\n",
       "      <th></th>\n",
       "      <th>Income</th>\n",
       "      <th>Age</th>\n",
       "      <th>Experience</th>\n",
       "      <th>Marital_Status</th>\n",
       "      <th>House_Ownership</th>\n",
       "      <th>Car_Ownership</th>\n",
       "      <th>Profession</th>\n",
       "      <th>Job_Yrs</th>\n",
       "      <th>House_Yrs</th>\n",
       "      <th>Risk_Flag</th>\n",
       "    </tr>\n",
       "    <tr>\n",
       "      <th>Id</th>\n",
       "      <th></th>\n",
       "      <th></th>\n",
       "      <th></th>\n",
       "      <th></th>\n",
       "      <th></th>\n",
       "      <th></th>\n",
       "      <th></th>\n",
       "      <th></th>\n",
       "      <th></th>\n",
       "      <th></th>\n",
       "    </tr>\n",
       "  </thead>\n",
       "  <tbody>\n",
       "    <tr>\n",
       "      <th>1</th>\n",
       "      <td>1303834</td>\n",
       "      <td>23</td>\n",
       "      <td>3</td>\n",
       "      <td>SINGLE</td>\n",
       "      <td>RENTED</td>\n",
       "      <td>NO</td>\n",
       "      <td>MECHANICAL_ENGINEER</td>\n",
       "      <td>3</td>\n",
       "      <td>13</td>\n",
       "      <td>0</td>\n",
       "    </tr>\n",
       "    <tr>\n",
       "      <th>2</th>\n",
       "      <td>7574516</td>\n",
       "      <td>40</td>\n",
       "      <td>10</td>\n",
       "      <td>SINGLE</td>\n",
       "      <td>RENTED</td>\n",
       "      <td>NO</td>\n",
       "      <td>SOFTWARE_DEVELOPER</td>\n",
       "      <td>9</td>\n",
       "      <td>13</td>\n",
       "      <td>0</td>\n",
       "    </tr>\n",
       "    <tr>\n",
       "      <th>3</th>\n",
       "      <td>3991815</td>\n",
       "      <td>66</td>\n",
       "      <td>4</td>\n",
       "      <td>MARRIED</td>\n",
       "      <td>RENTED</td>\n",
       "      <td>NO</td>\n",
       "      <td>TECHNICAL_WRITER</td>\n",
       "      <td>4</td>\n",
       "      <td>10</td>\n",
       "      <td>0</td>\n",
       "    </tr>\n",
       "    <tr>\n",
       "      <th>4</th>\n",
       "      <td>6256451</td>\n",
       "      <td>41</td>\n",
       "      <td>2</td>\n",
       "      <td>SINGLE</td>\n",
       "      <td>RENTED</td>\n",
       "      <td>YES</td>\n",
       "      <td>SOFTWARE_DEVELOPER</td>\n",
       "      <td>2</td>\n",
       "      <td>12</td>\n",
       "      <td>1</td>\n",
       "    </tr>\n",
       "    <tr>\n",
       "      <th>5</th>\n",
       "      <td>5768871</td>\n",
       "      <td>47</td>\n",
       "      <td>11</td>\n",
       "      <td>SINGLE</td>\n",
       "      <td>RENTED</td>\n",
       "      <td>NO</td>\n",
       "      <td>CIVIL_SERVANT</td>\n",
       "      <td>3</td>\n",
       "      <td>14</td>\n",
       "      <td>1</td>\n",
       "    </tr>\n",
       "    <tr>\n",
       "      <th>...</th>\n",
       "      <td>...</td>\n",
       "      <td>...</td>\n",
       "      <td>...</td>\n",
       "      <td>...</td>\n",
       "      <td>...</td>\n",
       "      <td>...</td>\n",
       "      <td>...</td>\n",
       "      <td>...</td>\n",
       "      <td>...</td>\n",
       "      <td>...</td>\n",
       "    </tr>\n",
       "    <tr>\n",
       "      <th>251996</th>\n",
       "      <td>8154883</td>\n",
       "      <td>43</td>\n",
       "      <td>13</td>\n",
       "      <td>SINGLE</td>\n",
       "      <td>RENTED</td>\n",
       "      <td>NO</td>\n",
       "      <td>SURGEON</td>\n",
       "      <td>6</td>\n",
       "      <td>11</td>\n",
       "      <td>0</td>\n",
       "    </tr>\n",
       "    <tr>\n",
       "      <th>251997</th>\n",
       "      <td>2843572</td>\n",
       "      <td>26</td>\n",
       "      <td>10</td>\n",
       "      <td>SINGLE</td>\n",
       "      <td>RENTED</td>\n",
       "      <td>NO</td>\n",
       "      <td>ARMY_OFFICER</td>\n",
       "      <td>6</td>\n",
       "      <td>11</td>\n",
       "      <td>0</td>\n",
       "    </tr>\n",
       "    <tr>\n",
       "      <th>251998</th>\n",
       "      <td>4522448</td>\n",
       "      <td>46</td>\n",
       "      <td>7</td>\n",
       "      <td>SINGLE</td>\n",
       "      <td>RENTED</td>\n",
       "      <td>NO</td>\n",
       "      <td>DESIGN_ENGINEER</td>\n",
       "      <td>7</td>\n",
       "      <td>12</td>\n",
       "      <td>0</td>\n",
       "    </tr>\n",
       "    <tr>\n",
       "      <th>251999</th>\n",
       "      <td>6507128</td>\n",
       "      <td>45</td>\n",
       "      <td>0</td>\n",
       "      <td>SINGLE</td>\n",
       "      <td>RENTED</td>\n",
       "      <td>NO</td>\n",
       "      <td>GRAPHIC_DESIGNER</td>\n",
       "      <td>0</td>\n",
       "      <td>10</td>\n",
       "      <td>0</td>\n",
       "    </tr>\n",
       "    <tr>\n",
       "      <th>252000</th>\n",
       "      <td>9070230</td>\n",
       "      <td>70</td>\n",
       "      <td>17</td>\n",
       "      <td>SINGLE</td>\n",
       "      <td>RENTED</td>\n",
       "      <td>NO</td>\n",
       "      <td>STATISTICIAN</td>\n",
       "      <td>7</td>\n",
       "      <td>11</td>\n",
       "      <td>0</td>\n",
       "    </tr>\n",
       "  </tbody>\n",
       "</table>\n",
       "<p>252000 rows × 10 columns</p>\n",
       "</div>"
      ],
      "text/plain": [
       "         Income  Age  Experience Marital_Status House_Ownership Car_Ownership  \\\n",
       "Id                                                                              \n",
       "1       1303834   23           3         SINGLE          RENTED            NO   \n",
       "2       7574516   40          10         SINGLE          RENTED            NO   \n",
       "3       3991815   66           4        MARRIED          RENTED            NO   \n",
       "4       6256451   41           2         SINGLE          RENTED           YES   \n",
       "5       5768871   47          11         SINGLE          RENTED            NO   \n",
       "...         ...  ...         ...            ...             ...           ...   \n",
       "251996  8154883   43          13         SINGLE          RENTED            NO   \n",
       "251997  2843572   26          10         SINGLE          RENTED            NO   \n",
       "251998  4522448   46           7         SINGLE          RENTED            NO   \n",
       "251999  6507128   45           0         SINGLE          RENTED            NO   \n",
       "252000  9070230   70          17         SINGLE          RENTED            NO   \n",
       "\n",
       "                 Profession  Job_Yrs  House_Yrs  Risk_Flag  \n",
       "Id                                                          \n",
       "1       MECHANICAL_ENGINEER        3         13          0  \n",
       "2        SOFTWARE_DEVELOPER        9         13          0  \n",
       "3          TECHNICAL_WRITER        4         10          0  \n",
       "4        SOFTWARE_DEVELOPER        2         12          1  \n",
       "5             CIVIL_SERVANT        3         14          1  \n",
       "...                     ...      ...        ...        ...  \n",
       "251996              SURGEON        6         11          0  \n",
       "251997         ARMY_OFFICER        6         11          0  \n",
       "251998      DESIGN_ENGINEER        7         12          0  \n",
       "251999     GRAPHIC_DESIGNER        0         10          0  \n",
       "252000         STATISTICIAN        7         11          0  \n",
       "\n",
       "[252000 rows x 10 columns]"
      ]
     },
     "execution_count": 82,
     "metadata": {},
     "output_type": "execute_result"
    }
   ],
   "source": [
    "df_ncs"
   ]
  },
  {
   "cell_type": "code",
   "execution_count": 85,
   "id": "b3062e96",
   "metadata": {},
   "outputs": [],
   "source": [
    "df_x_ncs = df_ncs.loc[:, df_ncs.columns != 'Risk_Flag']\n",
    "df_y_ncs=df_ncs.loc[:,df_ncs.columns == 'Risk_Flag']"
   ]
  },
  {
   "cell_type": "code",
   "execution_count": 86,
   "id": "665c02b2",
   "metadata": {},
   "outputs": [],
   "source": [
    "df_num_ncs = df_ncs.loc[:,(df_ncs.dtypes != 'object')&(df_ncs.columns != 'Risk_Flag')]\n",
    "df_cat_ncs=df_ncs.loc[:,(df_ncs.dtypes == 'object')]"
   ]
  },
  {
   "cell_type": "code",
   "execution_count": 87,
   "id": "f5176876",
   "metadata": {},
   "outputs": [],
   "source": [
    "df_num_cols_ncs=df_num_ncs.columns\n",
    "df_cat_cols_ncs=df_cat_ncs.columns"
   ]
  },
  {
   "cell_type": "code",
   "execution_count": 89,
   "id": "01464c6a",
   "metadata": {},
   "outputs": [],
   "source": [
    "df_x_ncs = df_ncs.loc[:, df_ncs.columns != 'Risk_Flag']\n",
    "df_y_ncs=df_ncs.loc[:,df_ncs.columns == 'Risk_Flag']"
   ]
  },
  {
   "cell_type": "code",
   "execution_count": 90,
   "id": "957cdcd5",
   "metadata": {},
   "outputs": [],
   "source": [
    "df_x_cols_ncs=df_x_ncs.columns"
   ]
  },
  {
   "cell_type": "markdown",
   "id": "b01a189c",
   "metadata": {},
   "source": [
    "Dataset that does not contain columns, 'City' and 'State' was splitted in to train and test set."
   ]
  },
  {
   "cell_type": "code",
   "execution_count": 94,
   "id": "c6ef3164",
   "metadata": {},
   "outputs": [],
   "source": [
    "X_train_ncs,X_test_ncs,y_train_ncs,y_test_ncs=train_test_split(df_x_ncs,df_y_ncs,test_size=0.3,random_state=42,stratify=df_y_ncs)"
   ]
  },
  {
   "cell_type": "markdown",
   "id": "6a27fea4",
   "metadata": {},
   "source": [
    "Same preprocessor and pipeline was used as above however, just different dataset was used."
   ]
  },
  {
   "cell_type": "code",
   "execution_count": 95,
   "id": "2579e53f",
   "metadata": {},
   "outputs": [],
   "source": [
    "numeric_features_ncs = df_num_cols_ncs\n",
    "numeric_transformer_ncs = Pipeline(steps=[\n",
    "    ('scaler', StandardScaler())])\n",
    "\n",
    "all_features_ncs = df_x_cols_ncs\n",
    "df_transformer_ncs = Pipeline(steps=[\n",
    "  ('onehot', OneHotEncoder(handle_unknown='ignore'))])\n",
    "\n",
    "\n",
    "preprocessor_ncs = ColumnTransformer(\n",
    "    transformers=[\n",
    "        ('num', numeric_transformer_ncs, numeric_features_ncs),\n",
    "        ('all', df_transformer_ncs, all_features_ncs)])\n",
    "\n"
   ]
  },
  {
   "cell_type": "code",
   "execution_count": 97,
   "id": "f13ae47b",
   "metadata": {},
   "outputs": [],
   "source": [
    "pipeline_lr_ncs = Pipeline(steps=[('preprocessor', preprocessor_ncs),\n",
    "                      ('classifier', LogisticRegression())])\n",
    "\n",
    "pipeline_rf_ncs = Pipeline(steps=[('preprocessor', preprocessor_ncs),\n",
    "                      ('classifier', RandomForestClassifier())])\n",
    "pipeline_lgbm_ncs =Pipeline(steps=[('preprocessor', preprocessor_ncs),\n",
    "                      ('classifier', LGBMClassifier())])"
   ]
  },
  {
   "cell_type": "code",
   "execution_count": 179,
   "id": "e2e36988",
   "metadata": {},
   "outputs": [],
   "source": [
    "pipelines_ncs = [pipeline_lr_ncs, pipeline_rf_ncs, pipeline_lgbm_ncs]\n",
    "pipe_dict_ncs = {0: 'Logistic Regression', 1: 'RandomForest', 2: 'LGBM'}"
   ]
  },
  {
   "cell_type": "code",
   "execution_count": 101,
   "id": "6f85906c",
   "metadata": {},
   "outputs": [],
   "source": [
    "for pipe in pipelines_ncs:\n",
    "    pipe.fit(X_train_ncs, y_train_ncs)"
   ]
  },
  {
   "cell_type": "code",
   "execution_count": 102,
   "id": "9838461b",
   "metadata": {},
   "outputs": [
    {
     "name": "stdout",
     "output_type": "stream",
     "text": [
      "Logistic Regression Test Accuracy: 0.8975661375661376\n",
      "RandomFores Test Accuracy: 0.8992592592592593\n",
      "LGBM Test Accuracy: 0.8773809523809524\n"
     ]
    }
   ],
   "source": [
    "for i,model in enumerate(pipelines_ncs):\n",
    "    print(\"{} Test Accuracy: {}\".format(pipe_dict_ncs[i],model.score(X_test_ncs,y_test_ncs)))"
   ]
  },
  {
   "cell_type": "code",
   "execution_count": 110,
   "id": "776f4855",
   "metadata": {},
   "outputs": [],
   "source": [
    "lr_ncs_=pipeline_lr_ncs.predict(X_test_ncs)\n",
    "rf_ncs_=pipeline_rf_ncs.predict(X_test_ncs)\n",
    "lgbm_ncs_=pipeline_lgbm_ncs.predict(X_test_ncs)"
   ]
  },
  {
   "cell_type": "code",
   "execution_count": 111,
   "id": "95b7f787",
   "metadata": {},
   "outputs": [],
   "source": [
    "results_ncs=[lr_ncs_,rf_ncs_,lgbm_ncs_]"
   ]
  },
  {
   "cell_type": "markdown",
   "id": "caa75a0a",
   "metadata": {},
   "source": [
    "Classification report of the models those created with dataset that does not contain, 'City' and 'State' column were printed. "
   ]
  },
  {
   "cell_type": "code",
   "execution_count": 177,
   "id": "befd406b",
   "metadata": {
    "scrolled": false
   },
   "outputs": [
    {
     "name": "stdout",
     "output_type": "stream",
     "text": [
      "Logistic Regression Confusion Matrix: \n",
      "              precision    recall  f1-score   support\n",
      "\n",
      "           0       0.92      0.97      0.94     66301\n",
      "           1       0.65      0.37      0.47      9299\n",
      "\n",
      "    accuracy                           0.90     75600\n",
      "   macro avg       0.78      0.67      0.71     75600\n",
      "weighted avg       0.88      0.90      0.89     75600\n",
      "\n",
      "RandomFores Confusion Matrix: \n",
      "              precision    recall  f1-score   support\n",
      "\n",
      "           0       0.94      0.95      0.94     66301\n",
      "           1       0.60      0.55      0.57      9299\n",
      "\n",
      "    accuracy                           0.90     75600\n",
      "   macro avg       0.77      0.75      0.76     75600\n",
      "weighted avg       0.90      0.90      0.90     75600\n",
      "\n",
      "LGBM Confusion Matrix: \n",
      "              precision    recall  f1-score   support\n",
      "\n",
      "           0       0.88      1.00      0.93     66301\n",
      "           1       0.75      0.00      0.01      9299\n",
      "\n",
      "    accuracy                           0.88     75600\n",
      "   macro avg       0.82      0.50      0.47     75600\n",
      "weighted avg       0.86      0.88      0.82     75600\n",
      "\n"
     ]
    }
   ],
   "source": [
    "for i,result in enumerate(results_ncs):\n",
    "    print(\"{} Confusion Matrix: \\n{}\".format(pipe_dict_ncs[i],classification_report(y_test_ncs,result)))"
   ]
  },
  {
   "cell_type": "markdown",
   "id": "d3efa1b1",
   "metadata": {},
   "source": [
    "As the classification report shows above, when the dataset without 'City' and 'State was used, it performs slightly better and it will be used for hyperparameter tuning and further model development."
   ]
  },
  {
   "cell_type": "markdown",
   "id": "b59a7d7f",
   "metadata": {},
   "source": [
    "<font size=\"5\"> Hyperparameter Tuning"
   ]
  },
  {
   "cell_type": "markdown",
   "id": "a52d20a5",
   "metadata": {},
   "source": [
    "Hyperparameter tuning for baseline models are conducted and evaluated."
   ]
  },
  {
   "cell_type": "code",
   "execution_count": 115,
   "id": "8cd43c02",
   "metadata": {},
   "outputs": [],
   "source": [
    "from sklearn.model_selection import GridSearchCV"
   ]
  },
  {
   "cell_type": "markdown",
   "id": "236adbc0",
   "metadata": {},
   "source": [
    "Parameters for different machien learning algorithms are developed and the hyperparameters are fit to training datasets to determine the best parameters and accuracy score."
   ]
  },
  {
   "cell_type": "code",
   "execution_count": 134,
   "id": "1bab0c2c",
   "metadata": {},
   "outputs": [],
   "source": [
    "grid_param_lr= [\n",
    "                {\"classifier\": [LogisticRegression()],\n",
    "                 \"classifier__penalty\": ['l2','l1'],\n",
    "                 \"classifier__C\": np.logspace(0, 4, 10)\n",
    "                 }]\n",
    "gridsearch_lr = GridSearchCV(pipeline_lr_ncs, grid_param_lr, cv=2, verbose=0,n_jobs=-1) # Fit grid search\n",
    "best_model_lr = gridsearch_lr.fit(X_train_ncs,y_train_ncs)"
   ]
  },
  {
   "cell_type": "code",
   "execution_count": 135,
   "id": "5cd79e9c",
   "metadata": {},
   "outputs": [
    {
     "name": "stdout",
     "output_type": "stream",
     "text": [
      "best_estimator {'classifier': LogisticRegression(C=166.81005372000593), 'classifier__C': 166.81005372000593, 'classifier__penalty': 'l2'}\n",
      "The mean accuracy of the model is: 0.8990343915343916\n"
     ]
    }
   ],
   "source": [
    "print('best_estimator',best_model_lr.best_params_)\n",
    "print(\"The mean accuracy of the model is:\",best_model_lr.score(X_test_ncs,y_test_ncs))"
   ]
  },
  {
   "cell_type": "code",
   "execution_count": 141,
   "id": "51e6cee5",
   "metadata": {},
   "outputs": [],
   "source": [
    "grid_param_rf= [\n",
    "                {\"classifier\": [RandomForestClassifier()],\n",
    "                 \"classifier__n_estimators\": [10, 100],\n",
    "                 \"classifier__criterion\":['gini','entropy'],\n",
    "                 }]\n",
    "gridsearch_rf = GridSearchCV(pipeline_rf_ncs, grid_param_rf, cv=2, verbose=0,n_jobs=-1) # Fit grid search\n",
    "best_model_rf = gridsearch_rf.fit(X_train_ncs,y_train_ncs)"
   ]
  },
  {
   "cell_type": "code",
   "execution_count": 142,
   "id": "b103aa63",
   "metadata": {},
   "outputs": [
    {
     "name": "stdout",
     "output_type": "stream",
     "text": [
      "best_estimator {'classifier': RandomForestClassifier(), 'classifier__criterion': 'gini', 'classifier__n_estimators': 100}\n",
      "The mean accuracy of the model is: 0.8996825396825396\n"
     ]
    }
   ],
   "source": [
    "print('best_estimator',best_model_rf.best_params_)\n",
    "print(\"The mean accuracy of the model is:\",best_model_rf.score(X_test_ncs,y_test_ncs))"
   ]
  },
  {
   "cell_type": "code",
   "execution_count": 139,
   "id": "ed5b317b",
   "metadata": {},
   "outputs": [
    {
     "name": "stdout",
     "output_type": "stream",
     "text": [
      "[LightGBM] [Warning] Unknown parameter: criterion\n"
     ]
    }
   ],
   "source": [
    "grid_param_lgbm= [\n",
    "                {\"classifier\": [LGBMClassifier()],\n",
    "                 \"classifier__n_estimators\": [10, 100],\n",
    "                 \"classifier__criterion\":['gini','entropy'],\n",
    "                 }]\n",
    "gridsearch_lgbm = GridSearchCV(pipeline_lgbm_ncs, grid_param_lgbm, cv=2, verbose=0,n_jobs=-1) # Fit grid search\n",
    "best_model_lgbm = gridsearch_lgbm.fit(X_train_ncs,y_train_ncs)"
   ]
  },
  {
   "cell_type": "code",
   "execution_count": 140,
   "id": "c1a64cac",
   "metadata": {},
   "outputs": [
    {
     "name": "stdout",
     "output_type": "stream",
     "text": [
      "best_estimator {'classifier': LGBMClassifier(criterion='gini'), 'classifier__criterion': 'gini', 'classifier__n_estimators': 100}\n",
      "The mean accuracy of the model is: 0.8773809523809524\n"
     ]
    }
   ],
   "source": [
    "print('best_estimator',best_model_lgbm.best_params_)\n",
    "print(\"The mean accuracy of the model is:\",best_model_lgbm.score(X_test_ncs,y_test_ncs))"
   ]
  },
  {
   "cell_type": "markdown",
   "id": "30672636",
   "metadata": {},
   "source": [
    "The tuned models are used to predict the test data and confusion matrixs are developed for each models. Confusion matrix charts are also developed for visualization."
   ]
  },
  {
   "cell_type": "code",
   "execution_count": 143,
   "id": "fb64d41f",
   "metadata": {},
   "outputs": [],
   "source": [
    "lr_tuned=best_model_lr.predict(X_test_ncs)\n",
    "rf_tuned=best_model_rf.predict(X_test_ncs)\n",
    "lgbm_tuned=best_model_lgbm.predict(X_test_ncs)"
   ]
  },
  {
   "cell_type": "code",
   "execution_count": 144,
   "id": "48823a54",
   "metadata": {},
   "outputs": [],
   "source": [
    "best_result=[best_model_lr,best_model_rf,best_model_lgbm]"
   ]
  },
  {
   "cell_type": "code",
   "execution_count": 145,
   "id": "444d0ade",
   "metadata": {},
   "outputs": [],
   "source": [
    "results_tuned=[lr_tuned,rf_tuned,lgbm_tuned]"
   ]
  },
  {
   "cell_type": "code",
   "execution_count": 180,
   "id": "2887682d",
   "metadata": {},
   "outputs": [
    {
     "name": "stdout",
     "output_type": "stream",
     "text": [
      "Logistic Regression Confusion Matrix: \n",
      "              precision    recall  f1-score   support\n",
      "\n",
      "           0       0.95      0.94      0.94     66301\n",
      "           1       0.58      0.64      0.61      9299\n",
      "\n",
      "    accuracy                           0.90     75600\n",
      "   macro avg       0.77      0.79      0.78     75600\n",
      "weighted avg       0.90      0.90      0.90     75600\n",
      "\n",
      "RandomForest Confusion Matrix: \n",
      "              precision    recall  f1-score   support\n",
      "\n",
      "           0       0.94      0.95      0.94     66301\n",
      "           1       0.60      0.55      0.57      9299\n",
      "\n",
      "    accuracy                           0.90     75600\n",
      "   macro avg       0.77      0.75      0.76     75600\n",
      "weighted avg       0.90      0.90      0.90     75600\n",
      "\n",
      "LGBM Confusion Matrix: \n",
      "              precision    recall  f1-score   support\n",
      "\n",
      "           0       0.88      1.00      0.93     66301\n",
      "           1       0.75      0.00      0.01      9299\n",
      "\n",
      "    accuracy                           0.88     75600\n",
      "   macro avg       0.82      0.50      0.47     75600\n",
      "weighted avg       0.86      0.88      0.82     75600\n",
      "\n"
     ]
    }
   ],
   "source": [
    "for i,result in enumerate(results_tuned):\n",
    "    print(\"{} Confusion Matrix: \\n{}\".format(pipe_dict_ncs[i],classification_report(y_test_ncs,result)))"
   ]
  },
  {
   "cell_type": "code",
   "execution_count": 147,
   "id": "36b617e2",
   "metadata": {
    "scrolled": false
   },
   "outputs": [
    {
     "name": "stdout",
     "output_type": "stream",
     "text": [
      "Logistic Regression Confusion Matrix: \n",
      "[[62003  4298]\n",
      " [ 3335  5964]]\n",
      "RandomFores Confusion Matrix: \n",
      "[[62944  3357]\n",
      " [ 4227  5072]]\n",
      "LGBM Confusion Matrix: \n",
      "[[66287    14]\n",
      " [ 9256    43]]\n"
     ]
    }
   ],
   "source": [
    "for i,result in enumerate(results_tuned):\n",
    "    print(\"{} Confusion Matrix: \\n{}\".format(pipe_dict_ncs[i],confusion_matrix(y_test_ncs,result)))"
   ]
  },
  {
   "cell_type": "code",
   "execution_count": 181,
   "id": "195eb535",
   "metadata": {},
   "outputs": [
    {
     "data": {
      "image/png": "[encoded data removed]",
      "text/plain": [
       "<Figure size 432x288 with 2 Axes>"
      ]
     },
     "metadata": {
      "needs_background": "light"
     },
     "output_type": "display_data"
    },
    {
     "data": {
      "image/png": "[encoded data removed]",
      "text/plain": [
       "<Figure size 432x288 with 2 Axes>"
      ]
     },
     "metadata": {
      "needs_background": "light"
     },
     "output_type": "display_data"
    },
    {
     "data": {
      "image/png": "[encoded data removed]",
      "text/plain": [
       "<Figure size 432x288 with 2 Axes>"
      ]
     },
     "metadata": {
      "needs_background": "light"
     },
     "output_type": "display_data"
    }
   ],
   "source": [
    "for i,result in enumerate(results_tuned):    \n",
    "    cmn = confusion_matrix(y_test_ncs,result).astype('float') / confusion_matrix(y_test_ncs,result).sum(axis=1)[:, np.newaxis]\n",
    "    _=sns.heatmap(cmn,annot=True,cmap='Blues')\n",
    "    _.set_title(pipe_dict_ncs[i])\n",
    "    _.set_xlabel('Predicted Values')\n",
    "    _.set_ylabel('Actual Vlaues')\n",
    "    _.xaxis.set_ticklabels(['False','True'])\n",
    "    _.yaxis.set_ticklabels(['False','True'])\n",
    "    plt.show()"
   ]
  },
  {
   "cell_type": "markdown",
   "id": "5877369b",
   "metadata": {},
   "source": [
    "Lastly, ROC-AUC graphs are plotted for different baseline models."
   ]
  },
  {
   "cell_type": "code",
   "execution_count": 182,
   "id": "a8e193ee",
   "metadata": {},
   "outputs": [
    {
     "data": {
      "image/png": "[encoded data removed]",
      "text/plain": [
       "<Figure size 432x288 with 1 Axes>"
      ]
     },
     "metadata": {
      "needs_background": "light"
     },
     "output_type": "display_data"
    },
    {
     "data": {
      "image/png": "[encoded data removed]",
      "text/plain": [
       "<Figure size 432x288 with 1 Axes>"
      ]
     },
     "metadata": {
      "needs_background": "light"
     },
     "output_type": "display_data"
    },
    {
     "data": {
      "image/png": "[encoded data removed]",
      "text/plain": [
       "<Figure size 432x288 with 1 Axes>"
      ]
     },
     "metadata": {
      "needs_background": "light"
     },
     "output_type": "display_data"
    }
   ],
   "source": [
    "for i,result in enumerate(best_result):\n",
    "    y_scores=result.predict_proba(X_test_ncs)[:,1]\n",
    "    f_lr,t_lr,_=roc_curve(y_test_ncs,y_scores)\n",
    "    roc_auc=auc(f_lr,t_lr)\n",
    "    round(roc_auc,2)\n",
    "    plt.plot([0, 1], [0, 1], 'k--')\n",
    "    plt.plot(f_lr, t_lr)\n",
    "    plt.xlabel('False Positive Rate')\n",
    "    plt.ylabel('True Positive Rate')\n",
    "    plt.title(pipe_dict_ncs[i])\n",
    "    plt.show()"
   ]
  },
  {
   "cell_type": "markdown",
   "id": "4a0a553a",
   "metadata": {},
   "source": [
    "<font size=\"5\">Data Preparation"
   ]
  },
  {
   "cell_type": "markdown",
   "id": "5567b53b",
   "metadata": {},
   "source": [
    "Lastly, dataset without columns 'City' and 'State' will go through preprocessor that was created above and saved for model development in the future. By exporting, train and test set using preprocessor, 'preprocessor' does not have to be included in the pipeline to save time."
   ]
  },
  {
   "cell_type": "code",
   "execution_count": 156,
   "id": "ba87135e",
   "metadata": {},
   "outputs": [],
   "source": [
    "X_train_ncs_,X_test_ncs_,y_train_ncs_,y_test_ncs_=train_test_split(df_x_ncs,df_y_ncs,test_size=0.3,random_state=42,stratify=df_y_ncs)"
   ]
  },
  {
   "cell_type": "code",
   "execution_count": 158,
   "id": "193862de",
   "metadata": {},
   "outputs": [
    {
     "data": {
      "text/plain": [
       "ColumnTransformer(transformers=[('num',\n",
       "                                 Pipeline(steps=[('scaler', StandardScaler())]),\n",
       "                                 Index(['Income', 'Age', 'Experience', 'Job_Yrs', 'House_Yrs'], dtype='object')),\n",
       "                                ('all',\n",
       "                                 Pipeline(steps=[('onehot',\n",
       "                                                  OneHotEncoder(handle_unknown='ignore'))]),\n",
       "                                 Index(['Income', 'Age', 'Experience', 'Marital_Status', 'House_Ownership',\n",
       "       'Car_Ownership', 'Profession', 'Job_Yrs', 'House_Yrs'],\n",
       "      dtype='object'))])"
      ]
     },
     "execution_count": 158,
     "metadata": {},
     "output_type": "execute_result"
    }
   ],
   "source": [
    "preprocessor_ncs.fit(X_train)"
   ]
  },
  {
   "cell_type": "code",
   "execution_count": 159,
   "id": "bf43ff5f",
   "metadata": {},
   "outputs": [],
   "source": [
    "X_train_ncs_=preprocessor_ncs.transform(X_train)"
   ]
  },
  {
   "cell_type": "code",
   "execution_count": 160,
   "id": "40f28716",
   "metadata": {},
   "outputs": [],
   "source": [
    "X_test_ncs_=preprocessor_ncs.transform(X_test_ncs_)"
   ]
  },
  {
   "cell_type": "code",
   "execution_count": 163,
   "id": "3b10be59",
   "metadata": {},
   "outputs": [
    {
     "data": {
      "text/plain": [
       "<75600x31396 sparse matrix of type '<class 'numpy.float64'>'\n",
       "\twith 1047709 stored elements in Compressed Sparse Row format>"
      ]
     },
     "execution_count": 163,
     "metadata": {},
     "output_type": "execute_result"
    }
   ],
   "source": [
    "X_test_ncs_"
   ]
  },
  {
   "cell_type": "code",
   "execution_count": 187,
   "id": "cb0ea4a3",
   "metadata": {},
   "outputs": [
    {
     "data": {
      "text/plain": [
       "<176400x31396 sparse matrix of type '<class 'numpy.float64'>'\n",
       "\twith 2469600 stored elements in Compressed Sparse Row format>"
      ]
     },
     "execution_count": 187,
     "metadata": {},
     "output_type": "execute_result"
    }
   ],
   "source": [
    "X_train_ncs_"
   ]
  },
  {
   "cell_type": "code",
   "execution_count": 165,
   "id": "5e4cb4a8",
   "metadata": {},
   "outputs": [],
   "source": [
    "import pickle"
   ]
  },
  {
   "cell_type": "code",
   "execution_count": 168,
   "id": "7caa3562",
   "metadata": {},
   "outputs": [],
   "source": [
    "output = open('X_train.pkl', 'wb')\n",
    "pickle.dump(X_train_ncs_, output)\n",
    "output.close()"
   ]
  },
  {
   "cell_type": "code",
   "execution_count": 169,
   "id": "1f299e5c",
   "metadata": {},
   "outputs": [],
   "source": [
    "output = open('X_test.pkl', 'wb')\n",
    "pickle.dump(X_test_ncs_, output)\n",
    "output.close()"
   ]
  },
  {
   "cell_type": "code",
   "execution_count": 170,
   "id": "7773bd5c",
   "metadata": {},
   "outputs": [],
   "source": [
    "output = open('y_train.pkl', 'wb')\n",
    "pickle.dump(y_train_ncs_, output)\n",
    "output.close()"
   ]
  },
  {
   "cell_type": "code",
   "execution_count": 171,
   "id": "36554f78",
   "metadata": {},
   "outputs": [],
   "source": [
    "output = open('y_test.pkl', 'wb')\n",
    "pickle.dump(y_test_ncs_, output)\n",
    "output.close()"
   ]
  },
  {
   "cell_type": "code",
   "execution_count": 173,
   "id": "d4b003a1",
   "metadata": {},
   "outputs": [],
   "source": [
    "df_ncs.to_csv('data.csv')"
   ]
  },
  {
   "cell_type": "markdown",
   "id": "18bedda5",
   "metadata": {},
   "source": [
    "<font size=\"5\"> Conclusion"
   ]
  },
  {
   "cell_type": "markdown",
   "id": "df58791b",
   "metadata": {},
   "source": [
    "In this notebook, the first dataset that contains columns, 'City' and 'State' and the second datset without columns 'City' and 'State' were used to create baseline models using, Logistic Regression, Random Forest and Light GBM machine learning algorithms, to evaluate the performance of models when each datasets are used. In case, dataset without 'City' and 'State' performs better the columns can be dropped and by dropping them it will reduce 'noise' created."
   ]
  },
  {
   "cell_type": "markdown",
   "id": "eadd7376",
   "metadata": {},
   "source": [
    "In conclusion, the baseline models without 'City' and 'State' columns performed better and they were dropped for hyperparameter tuning. The three models with different algorithms performed in terms of the accuracy score(all above 85 percenet). However, once we look at the classification report of each models, Logistic Regression and LightGBM Models' precision, recall, and f-1 score on predicting 'Risk' value are very poor. It is due to imbalanced classification since there are only about 12 percent of population with risk on getting loans. Therefore in the future notebook, different resampling techinques must be used to deal with the imbalanced classification.\\\n",
    "Lastly, in the next notebook, train and test set splitted from dataset without 'City' and 'State' Columns and 'preprocessed' set exported from the current notebook will be used for further model development. "
   ]
  }
 ],
 "metadata": {
  "kernelspec": {
   "display_name": "Python 3 (ipykernel)",
   "language": "python",
   "name": "python3"
  },
  "language_info": {
   "codemirror_mode": {
    "name": "ipython",
    "version": 3
   },
   "file_extension": ".py",
   "mimetype": "text/x-python",
   "name": "python",
   "nbconvert_exporter": "python",
   "pygments_lexer": "ipython3",
   "version": "3.9.7"
  }
 },
 "nbformat": 4,
 "nbformat_minor": 5
}

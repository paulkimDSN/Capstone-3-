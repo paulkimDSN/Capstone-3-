{
 "cells": [
  {
   "cell_type": "markdown",
   "id": "228da2f6",
   "metadata": {},
   "source": [
    "<font size=\"6\"> **Modelling**"
   ]
  },
  {
   "cell_type": "markdown",
   "id": "ef358a42",
   "metadata": {},
   "source": [
    "In this notebook, the train and test set exported from the previous notebook will be used to develop a better perfomring machine learning algorithm to predict clients with risk.\\\n",
    "First, an imbalanced calssification issue of the dataset was discussed, and it will be dealt in this notebook. Different types of resampling techinque will be combined with different machine learning algorithms to identify the best resampling technique for the project. After, the most suitable resmapling technique will be used on imbalanced dataset for further development.\\\n",
    "Also, few numbers of classifiers will be chosen for hyperparameter tuning with resampled dataset. \n",
    "Lastly, after the classifier is chosen, the feature importance will be analyzed to understand the impact of each features on predicting clients' risk.\n"
   ]
  },
  {
   "cell_type": "markdown",
   "id": "edf94057",
   "metadata": {},
   "source": [
    "<font size=\"4\">1. Import packages and load data"
   ]
  },
  {
   "cell_type": "code",
   "execution_count": 30,
   "id": "8ad7c203",
   "metadata": {},
   "outputs": [],
   "source": [
    "import pickle"
   ]
  },
  {
   "cell_type": "code",
   "execution_count": 31,
   "id": "daab9505",
   "metadata": {},
   "outputs": [],
   "source": [
    "import numpy as np\n",
    "import pandas as pd\n",
    "import matplotlib.pyplot as plt\n",
    "import seaborn as sns\n",
    "import warnings\n",
    "warnings.filterwarnings('ignore')"
   ]
  },
  {
   "cell_type": "code",
   "execution_count": 32,
   "id": "11e98dc2",
   "metadata": {},
   "outputs": [],
   "source": [
    "from sklearn.model_selection import train_test_split\n",
    "from sklearn.linear_model import LogisticRegression\n",
    "from sklearn.metrics import accuracy_score\n",
    "from sklearn.preprocessing import StandardScaler,OneHotEncoder\n",
    "from sklearn.metrics import classification_report\n",
    "from sklearn.metrics import confusion_matrix, roc_curve, auc,ConfusionMatrixDisplay"
   ]
  },
  {
   "cell_type": "code",
   "execution_count": 33,
   "id": "5f542861",
   "metadata": {},
   "outputs": [],
   "source": [
    "from sklearn.svm import LinearSVC\n",
    "from sklearn.tree import DecisionTreeClassifier\n",
    "from sklearn.naive_bayes import GaussianNB\n",
    "from sklearn.neighbors import KNeighborsClassifier\n",
    "from sklearn.neural_network import MLPClassifier\n",
    "import xgboost as xgb"
   ]
  },
  {
   "cell_type": "code",
   "execution_count": 34,
   "id": "ba31e9d1",
   "metadata": {},
   "outputs": [],
   "source": [
    "from sklearn.compose import ColumnTransformer\n",
    "from sklearn.pipeline import Pipeline\n",
    "#from sklearn.pipeline import make_pipeline"
   ]
  },
  {
   "cell_type": "code",
   "execution_count": 35,
   "id": "99de397b",
   "metadata": {},
   "outputs": [],
   "source": [
    "from imblearn.pipeline import make_pipeline"
   ]
  },
  {
   "cell_type": "code",
   "execution_count": 36,
   "id": "93706212",
   "metadata": {},
   "outputs": [],
   "source": [
    "from sklearn.ensemble import RandomForestClassifier\n",
    "from lightgbm import LGBMClassifier"
   ]
  },
  {
   "cell_type": "code",
   "execution_count": 37,
   "id": "b55c3a14",
   "metadata": {},
   "outputs": [],
   "source": [
    "from sklearn.metrics import roc_auc_score\n",
    "from sklearn.metrics import classification_report"
   ]
  },
  {
   "cell_type": "code",
   "execution_count": 38,
   "id": "fb69f10c",
   "metadata": {},
   "outputs": [],
   "source": [
    "from sklearn.base import TransformerMixin"
   ]
  },
  {
   "cell_type": "code",
   "execution_count": 39,
   "id": "4eba8f94",
   "metadata": {},
   "outputs": [],
   "source": [
    "from imblearn.over_sampling import SMOTE,RandomOverSampler\n",
    "from imblearn.under_sampling import RandomUnderSampler\n",
    "from imblearn.over_sampling import ADASYN\n",
    "from imblearn.under_sampling import TomekLinks"
   ]
  },
  {
   "cell_type": "code",
   "execution_count": 40,
   "id": "481de8cd",
   "metadata": {},
   "outputs": [],
   "source": [
    "from sklearn.model_selection import RandomizedSearchCV"
   ]
  },
  {
   "cell_type": "code",
   "execution_count": 41,
   "id": "8631aeb1",
   "metadata": {},
   "outputs": [],
   "source": [
    "from sklearn.model_selection import GridSearchCV"
   ]
  },
  {
   "cell_type": "code",
   "execution_count": 42,
   "id": "dfbf41b2",
   "metadata": {},
   "outputs": [],
   "source": [
    "pkl_file = open('X_train.pkl', 'rb')\n",
    "X_train = pickle.load(pkl_file)\n",
    "pkl_file.close()"
   ]
  },
  {
   "cell_type": "code",
   "execution_count": 43,
   "id": "af02c400",
   "metadata": {},
   "outputs": [],
   "source": [
    "pkl_file = open('X_test.pkl', 'rb')\n",
    "X_test = pickle.load(pkl_file)\n",
    "pkl_file.close()"
   ]
  },
  {
   "cell_type": "code",
   "execution_count": 44,
   "id": "d6dba1d4",
   "metadata": {},
   "outputs": [],
   "source": [
    "pkl_file = open('y_train.pkl', 'rb')\n",
    "y_train = pickle.load(pkl_file)\n",
    "pkl_file.close()"
   ]
  },
  {
   "cell_type": "code",
   "execution_count": 45,
   "id": "ec228df9",
   "metadata": {},
   "outputs": [],
   "source": [
    "pkl_file = open('y_test.pkl', 'rb')\n",
    "y_test = pickle.load(pkl_file)\n",
    "pkl_file.close()"
   ]
  },
  {
   "cell_type": "code",
   "execution_count": 46,
   "id": "f66adcd8",
   "metadata": {},
   "outputs": [],
   "source": [
    "df=pd.read_csv('../Capstone-3-/data.csv')"
   ]
  },
  {
   "cell_type": "code",
   "execution_count": 47,
   "id": "10d626f5",
   "metadata": {},
   "outputs": [
    {
     "data": {
      "text/html": [
       "<div>\n",
       "<style scoped>\n",
       "    .dataframe tbody tr th:only-of-type {\n",
       "        vertical-align: middle;\n",
       "    }\n",
       "\n",
       "    .dataframe tbody tr th {\n",
       "        vertical-align: top;\n",
       "    }\n",
       "\n",
       "    .dataframe thead th {\n",
       "        text-align: right;\n",
       "    }\n",
       "</style>\n",
       "<table border=\"1\" class=\"dataframe\">\n",
       "  <thead>\n",
       "    <tr style=\"text-align: right;\">\n",
       "      <th></th>\n",
       "      <th>Id</th>\n",
       "      <th>Income</th>\n",
       "      <th>Age</th>\n",
       "      <th>Experience</th>\n",
       "      <th>Marital_Status</th>\n",
       "      <th>House_Ownership</th>\n",
       "      <th>Car_Ownership</th>\n",
       "      <th>Profession</th>\n",
       "      <th>Job_Yrs</th>\n",
       "      <th>House_Yrs</th>\n",
       "      <th>Risk_Flag</th>\n",
       "    </tr>\n",
       "  </thead>\n",
       "  <tbody>\n",
       "    <tr>\n",
       "      <th>0</th>\n",
       "      <td>1</td>\n",
       "      <td>1303834</td>\n",
       "      <td>23</td>\n",
       "      <td>3</td>\n",
       "      <td>SINGLE</td>\n",
       "      <td>RENTED</td>\n",
       "      <td>NO</td>\n",
       "      <td>MECHANICAL_ENGINEER</td>\n",
       "      <td>3</td>\n",
       "      <td>13</td>\n",
       "      <td>0</td>\n",
       "    </tr>\n",
       "    <tr>\n",
       "      <th>1</th>\n",
       "      <td>2</td>\n",
       "      <td>7574516</td>\n",
       "      <td>40</td>\n",
       "      <td>10</td>\n",
       "      <td>SINGLE</td>\n",
       "      <td>RENTED</td>\n",
       "      <td>NO</td>\n",
       "      <td>SOFTWARE_DEVELOPER</td>\n",
       "      <td>9</td>\n",
       "      <td>13</td>\n",
       "      <td>0</td>\n",
       "    </tr>\n",
       "    <tr>\n",
       "      <th>2</th>\n",
       "      <td>3</td>\n",
       "      <td>3991815</td>\n",
       "      <td>66</td>\n",
       "      <td>4</td>\n",
       "      <td>MARRIED</td>\n",
       "      <td>RENTED</td>\n",
       "      <td>NO</td>\n",
       "      <td>TECHNICAL_WRITER</td>\n",
       "      <td>4</td>\n",
       "      <td>10</td>\n",
       "      <td>0</td>\n",
       "    </tr>\n",
       "    <tr>\n",
       "      <th>3</th>\n",
       "      <td>4</td>\n",
       "      <td>6256451</td>\n",
       "      <td>41</td>\n",
       "      <td>2</td>\n",
       "      <td>SINGLE</td>\n",
       "      <td>RENTED</td>\n",
       "      <td>YES</td>\n",
       "      <td>SOFTWARE_DEVELOPER</td>\n",
       "      <td>2</td>\n",
       "      <td>12</td>\n",
       "      <td>1</td>\n",
       "    </tr>\n",
       "    <tr>\n",
       "      <th>4</th>\n",
       "      <td>5</td>\n",
       "      <td>5768871</td>\n",
       "      <td>47</td>\n",
       "      <td>11</td>\n",
       "      <td>SINGLE</td>\n",
       "      <td>RENTED</td>\n",
       "      <td>NO</td>\n",
       "      <td>CIVIL_SERVANT</td>\n",
       "      <td>3</td>\n",
       "      <td>14</td>\n",
       "      <td>1</td>\n",
       "    </tr>\n",
       "    <tr>\n",
       "      <th>...</th>\n",
       "      <td>...</td>\n",
       "      <td>...</td>\n",
       "      <td>...</td>\n",
       "      <td>...</td>\n",
       "      <td>...</td>\n",
       "      <td>...</td>\n",
       "      <td>...</td>\n",
       "      <td>...</td>\n",
       "      <td>...</td>\n",
       "      <td>...</td>\n",
       "      <td>...</td>\n",
       "    </tr>\n",
       "    <tr>\n",
       "      <th>251995</th>\n",
       "      <td>251996</td>\n",
       "      <td>8154883</td>\n",
       "      <td>43</td>\n",
       "      <td>13</td>\n",
       "      <td>SINGLE</td>\n",
       "      <td>RENTED</td>\n",
       "      <td>NO</td>\n",
       "      <td>SURGEON</td>\n",
       "      <td>6</td>\n",
       "      <td>11</td>\n",
       "      <td>0</td>\n",
       "    </tr>\n",
       "    <tr>\n",
       "      <th>251996</th>\n",
       "      <td>251997</td>\n",
       "      <td>2843572</td>\n",
       "      <td>26</td>\n",
       "      <td>10</td>\n",
       "      <td>SINGLE</td>\n",
       "      <td>RENTED</td>\n",
       "      <td>NO</td>\n",
       "      <td>ARMY_OFFICER</td>\n",
       "      <td>6</td>\n",
       "      <td>11</td>\n",
       "      <td>0</td>\n",
       "    </tr>\n",
       "    <tr>\n",
       "      <th>251997</th>\n",
       "      <td>251998</td>\n",
       "      <td>4522448</td>\n",
       "      <td>46</td>\n",
       "      <td>7</td>\n",
       "      <td>SINGLE</td>\n",
       "      <td>RENTED</td>\n",
       "      <td>NO</td>\n",
       "      <td>DESIGN_ENGINEER</td>\n",
       "      <td>7</td>\n",
       "      <td>12</td>\n",
       "      <td>0</td>\n",
       "    </tr>\n",
       "    <tr>\n",
       "      <th>251998</th>\n",
       "      <td>251999</td>\n",
       "      <td>6507128</td>\n",
       "      <td>45</td>\n",
       "      <td>0</td>\n",
       "      <td>SINGLE</td>\n",
       "      <td>RENTED</td>\n",
       "      <td>NO</td>\n",
       "      <td>GRAPHIC_DESIGNER</td>\n",
       "      <td>0</td>\n",
       "      <td>10</td>\n",
       "      <td>0</td>\n",
       "    </tr>\n",
       "    <tr>\n",
       "      <th>251999</th>\n",
       "      <td>252000</td>\n",
       "      <td>9070230</td>\n",
       "      <td>70</td>\n",
       "      <td>17</td>\n",
       "      <td>SINGLE</td>\n",
       "      <td>RENTED</td>\n",
       "      <td>NO</td>\n",
       "      <td>STATISTICIAN</td>\n",
       "      <td>7</td>\n",
       "      <td>11</td>\n",
       "      <td>0</td>\n",
       "    </tr>\n",
       "  </tbody>\n",
       "</table>\n",
       "<p>252000 rows × 11 columns</p>\n",
       "</div>"
      ],
      "text/plain": [
       "            Id   Income  Age  Experience Marital_Status House_Ownership  \\\n",
       "0            1  1303834   23           3         SINGLE          RENTED   \n",
       "1            2  7574516   40          10         SINGLE          RENTED   \n",
       "2            3  3991815   66           4        MARRIED          RENTED   \n",
       "3            4  6256451   41           2         SINGLE          RENTED   \n",
       "4            5  5768871   47          11         SINGLE          RENTED   \n",
       "...        ...      ...  ...         ...            ...             ...   \n",
       "251995  251996  8154883   43          13         SINGLE          RENTED   \n",
       "251996  251997  2843572   26          10         SINGLE          RENTED   \n",
       "251997  251998  4522448   46           7         SINGLE          RENTED   \n",
       "251998  251999  6507128   45           0         SINGLE          RENTED   \n",
       "251999  252000  9070230   70          17         SINGLE          RENTED   \n",
       "\n",
       "       Car_Ownership           Profession  Job_Yrs  House_Yrs  Risk_Flag  \n",
       "0                 NO  MECHANICAL_ENGINEER        3         13          0  \n",
       "1                 NO   SOFTWARE_DEVELOPER        9         13          0  \n",
       "2                 NO     TECHNICAL_WRITER        4         10          0  \n",
       "3                YES   SOFTWARE_DEVELOPER        2         12          1  \n",
       "4                 NO        CIVIL_SERVANT        3         14          1  \n",
       "...              ...                  ...      ...        ...        ...  \n",
       "251995            NO              SURGEON        6         11          0  \n",
       "251996            NO         ARMY_OFFICER        6         11          0  \n",
       "251997            NO      DESIGN_ENGINEER        7         12          0  \n",
       "251998            NO     GRAPHIC_DESIGNER        0         10          0  \n",
       "251999            NO         STATISTICIAN        7         11          0  \n",
       "\n",
       "[252000 rows x 11 columns]"
      ]
     },
     "execution_count": 47,
     "metadata": {},
     "output_type": "execute_result"
    }
   ],
   "source": [
    "df"
   ]
  },
  {
   "cell_type": "code",
   "execution_count": 48,
   "id": "03288d75",
   "metadata": {},
   "outputs": [
    {
     "data": {
      "text/plain": [
       "(176400, 63)"
      ]
     },
     "execution_count": 48,
     "metadata": {},
     "output_type": "execute_result"
    }
   ],
   "source": [
    "X_train.shape"
   ]
  },
  {
   "cell_type": "code",
   "execution_count": 49,
   "id": "befb9fd7",
   "metadata": {},
   "outputs": [
    {
     "data": {
      "text/plain": [
       "(176400, 1)"
      ]
     },
     "execution_count": 49,
     "metadata": {},
     "output_type": "execute_result"
    }
   ],
   "source": [
    "y_train.shape "
   ]
  },
  {
   "cell_type": "markdown",
   "id": "0c20c266",
   "metadata": {},
   "source": [
    "<font size=\"4\">2.Dealing with imbalanced dataset"
   ]
  },
  {
   "cell_type": "markdown",
   "id": "cd80e183",
   "metadata": {},
   "source": [
    "Dictionary with different resampling techinques inclduing oversampling, and undersampling and another dictionary with different classifiers are created to find the best perfroming resampling techniques for the model."
   ]
  },
  {
   "cell_type": "code",
   "execution_count": 50,
   "id": "de743abb",
   "metadata": {},
   "outputs": [],
   "source": [
    "resamplers={}\n",
    "resamplers['SMOTE']=SMOTE()\n",
    "resamplers['AD']=ADASYN()\n",
    "resamplers['Random under Sampler']=RandomUnderSampler()\n",
    "resamplers['Random over Sampler']=RandomOverSampler()\n",
    "resamplers['TomekLinks']=TomekLinks()"
   ]
  },
  {
   "cell_type": "code",
   "execution_count": 51,
   "id": "ca14d03b",
   "metadata": {},
   "outputs": [],
   "source": [
    "classifiers = {}\n",
    "classifiers['LR'] = LogisticRegression()\n",
    "classifiers['DT'] = DecisionTreeClassifier()\n",
    "classifiers['RF'] = RandomForestClassifier()\n",
    "classifiers['KNN'] = KNeighborsClassifier()\n",
    "classifiers['LGBM'] = LGBMClassifier()\n",
    "classifiers['XGB'] = xgb.XGBClassifier(objective=\"binary:logistic\", use_label_encoder=False, eval_metric='logloss')"
   ]
  },
  {
   "cell_type": "markdown",
   "id": "e432d7b9",
   "metadata": {},
   "source": [
    "Classification Report, Accuracy score and Area under the curve were calculated and stored for evaluation."
   ]
  },
  {
   "cell_type": "code",
   "execution_count": 52,
   "id": "39c19002",
   "metadata": {},
   "outputs": [],
   "source": [
    "scores = {}\n",
    "cls_report= {}\n",
    "scores['Accuracy'] = pd.DataFrame(columns=classifiers.keys(), index=resamplers.keys())\n",
    "scores['AUC'] = pd.DataFrame(columns=classifiers.keys(), index=resamplers.keys())"
   ]
  },
  {
   "cell_type": "code",
   "execution_count": 53,
   "id": "31244297",
   "metadata": {},
   "outputs": [],
   "source": [
    "for model in classifiers.keys():\n",
    "    for resampler in resamplers.keys():\n",
    "        pipe = make_pipeline(resamplers[resampler], classifiers[model])\n",
    "        pipe.fit(X_train, y_train)\n",
    "        scores['Accuracy'].loc[resampler,model] = pipe.score(X_test, y_test)\n",
    "        scores['AUC'].loc[resampler,model] = roc_auc_score(y_test, pipe.predict(X_test))\n",
    "        cls_report[resampler,model]=classification_report(y_test, pipe.predict(X_test))"
   ]
  },
  {
   "cell_type": "markdown",
   "id": "0fe5df79",
   "metadata": {},
   "source": [
    "Classification Report of each classifer and resampling technique combinations are plotted."
   ]
  },
  {
   "cell_type": "code",
   "execution_count": 56,
   "id": "f12ff1ca",
   "metadata": {
    "scrolled": false
   },
   "outputs": [
    {
     "name": "stdout",
     "output_type": "stream",
     "text": [
      "('SMOTE', 'LR') \n",
      "               precision    recall  f1-score   support\n",
      "\n",
      "           0       0.89      0.64      0.75     66301\n",
      "           1       0.15      0.45      0.22      9299\n",
      "\n",
      "    accuracy                           0.62     75600\n",
      "   macro avg       0.52      0.55      0.49     75600\n",
      "weighted avg       0.80      0.62      0.68     75600\n",
      "\n",
      "('AD', 'LR') \n",
      "               precision    recall  f1-score   support\n",
      "\n",
      "           0       0.88      0.81      0.84     66301\n",
      "           1       0.15      0.24      0.18      9299\n",
      "\n",
      "    accuracy                           0.74     75600\n",
      "   macro avg       0.52      0.52      0.51     75600\n",
      "weighted avg       0.79      0.74      0.76     75600\n",
      "\n",
      "('Random under Sampler', 'LR') \n",
      "               precision    recall  f1-score   support\n",
      "\n",
      "           0       0.89      0.52      0.66     66301\n",
      "           1       0.14      0.56      0.23      9299\n",
      "\n",
      "    accuracy                           0.52     75600\n",
      "   macro avg       0.52      0.54      0.44     75600\n",
      "weighted avg       0.80      0.52      0.60     75600\n",
      "\n",
      "('Random over Sampler', 'LR') \n",
      "               precision    recall  f1-score   support\n",
      "\n",
      "           0       0.89      0.52      0.66     66301\n",
      "           1       0.14      0.57      0.23      9299\n",
      "\n",
      "    accuracy                           0.53     75600\n",
      "   macro avg       0.52      0.54      0.44     75600\n",
      "weighted avg       0.80      0.53      0.60     75600\n",
      "\n",
      "('TomekLinks', 'LR') \n",
      "               precision    recall  f1-score   support\n",
      "\n",
      "           0       0.88      1.00      0.93     66301\n",
      "           1       0.00      0.00      0.00      9299\n",
      "\n",
      "    accuracy                           0.88     75600\n",
      "   macro avg       0.44      0.50      0.47     75600\n",
      "weighted avg       0.77      0.88      0.82     75600\n",
      "\n",
      "('SMOTE', 'DT') \n",
      "               precision    recall  f1-score   support\n",
      "\n",
      "           0       0.97      0.88      0.92     66301\n",
      "           1       0.49      0.83      0.61      9299\n",
      "\n",
      "    accuracy                           0.87     75600\n",
      "   macro avg       0.73      0.85      0.77     75600\n",
      "weighted avg       0.91      0.87      0.88     75600\n",
      "\n",
      "('AD', 'DT') \n",
      "               precision    recall  f1-score   support\n",
      "\n",
      "           0       0.97      0.88      0.92     66301\n",
      "           1       0.49      0.83      0.61      9299\n",
      "\n",
      "    accuracy                           0.87     75600\n",
      "   macro avg       0.73      0.85      0.77     75600\n",
      "weighted avg       0.91      0.87      0.89     75600\n",
      "\n",
      "('Random under Sampler', 'DT') \n",
      "               precision    recall  f1-score   support\n",
      "\n",
      "           0       0.98      0.85      0.91     66301\n",
      "           1       0.44      0.86      0.58      9299\n",
      "\n",
      "    accuracy                           0.85     75600\n",
      "   macro avg       0.71      0.85      0.75     75600\n",
      "weighted avg       0.91      0.85      0.87     75600\n",
      "\n",
      "('Random over Sampler', 'DT') \n",
      "               precision    recall  f1-score   support\n",
      "\n",
      "           0       0.97      0.89      0.93     66301\n",
      "           1       0.50      0.81      0.62      9299\n",
      "\n",
      "    accuracy                           0.88     75600\n",
      "   macro avg       0.74      0.85      0.77     75600\n",
      "weighted avg       0.91      0.88      0.89     75600\n",
      "\n",
      "('TomekLinks', 'DT') \n",
      "               precision    recall  f1-score   support\n",
      "\n",
      "           0       0.94      0.92      0.93     66301\n",
      "           1       0.52      0.58      0.55      9299\n",
      "\n",
      "    accuracy                           0.88     75600\n",
      "   macro avg       0.73      0.75      0.74     75600\n",
      "weighted avg       0.89      0.88      0.88     75600\n",
      "\n",
      "('SMOTE', 'RF') \n",
      "               precision    recall  f1-score   support\n",
      "\n",
      "           0       0.97      0.90      0.93     66301\n",
      "           1       0.53      0.78      0.63      9299\n",
      "\n",
      "    accuracy                           0.89     75600\n",
      "   macro avg       0.75      0.84      0.78     75600\n",
      "weighted avg       0.91      0.89      0.90     75600\n",
      "\n",
      "('AD', 'RF') \n",
      "               precision    recall  f1-score   support\n",
      "\n",
      "           0       0.97      0.90      0.93     66301\n",
      "           1       0.53      0.79      0.63      9299\n",
      "\n",
      "    accuracy                           0.89     75600\n",
      "   macro avg       0.75      0.85      0.78     75600\n",
      "weighted avg       0.91      0.89      0.90     75600\n",
      "\n",
      "('Random under Sampler', 'RF') \n",
      "               precision    recall  f1-score   support\n",
      "\n",
      "           0       0.97      0.88      0.92     66301\n",
      "           1       0.49      0.81      0.61      9299\n",
      "\n",
      "    accuracy                           0.87     75600\n",
      "   macro avg       0.73      0.85      0.77     75600\n",
      "weighted avg       0.91      0.87      0.89     75600\n",
      "\n",
      "('Random over Sampler', 'RF') \n",
      "               precision    recall  f1-score   support\n",
      "\n",
      "           0       0.97      0.91      0.94     66301\n",
      "           1       0.55      0.77      0.64      9299\n",
      "\n",
      "    accuracy                           0.89     75600\n",
      "   macro avg       0.76      0.84      0.79     75600\n",
      "weighted avg       0.92      0.89      0.90     75600\n",
      "\n",
      "('TomekLinks', 'RF') \n",
      "               precision    recall  f1-score   support\n",
      "\n",
      "           0       0.94      0.95      0.94     66301\n",
      "           1       0.60      0.55      0.57      9299\n",
      "\n",
      "    accuracy                           0.90     75600\n",
      "   macro avg       0.77      0.75      0.76     75600\n",
      "weighted avg       0.90      0.90      0.90     75600\n",
      "\n",
      "('SMOTE', 'KNN') \n",
      "               precision    recall  f1-score   support\n",
      "\n",
      "           0       0.98      0.85      0.91     66301\n",
      "           1       0.45      0.87      0.59      9299\n",
      "\n",
      "    accuracy                           0.85     75600\n",
      "   macro avg       0.71      0.86      0.75     75600\n",
      "weighted avg       0.91      0.85      0.87     75600\n",
      "\n",
      "('AD', 'KNN') \n",
      "               precision    recall  f1-score   support\n",
      "\n",
      "           0       0.98      0.84      0.91     66301\n",
      "           1       0.44      0.87      0.58      9299\n",
      "\n",
      "    accuracy                           0.85     75600\n",
      "   macro avg       0.71      0.86      0.74     75600\n",
      "weighted avg       0.91      0.85      0.87     75600\n",
      "\n",
      "('Random under Sampler', 'KNN') \n",
      "               precision    recall  f1-score   support\n",
      "\n",
      "           0       0.97      0.83      0.89     66301\n",
      "           1       0.40      0.83      0.54      9299\n",
      "\n",
      "    accuracy                           0.83     75600\n",
      "   macro avg       0.69      0.83      0.72     75600\n",
      "weighted avg       0.90      0.83      0.85     75600\n",
      "\n",
      "('Random over Sampler', 'KNN') \n",
      "               precision    recall  f1-score   support\n",
      "\n",
      "           0       0.98      0.87      0.92     66301\n",
      "           1       0.47      0.85      0.60      9299\n",
      "\n",
      "    accuracy                           0.86     75600\n",
      "   macro avg       0.72      0.86      0.76     75600\n",
      "weighted avg       0.91      0.86      0.88     75600\n",
      "\n",
      "('TomekLinks', 'KNN') \n",
      "               precision    recall  f1-score   support\n",
      "\n",
      "           0       0.93      0.94      0.94     66301\n",
      "           1       0.55      0.52      0.53      9299\n",
      "\n",
      "    accuracy                           0.89     75600\n",
      "   macro avg       0.74      0.73      0.73     75600\n",
      "weighted avg       0.89      0.89      0.89     75600\n",
      "\n",
      "('SMOTE', 'LGBM') \n",
      "               precision    recall  f1-score   support\n",
      "\n",
      "           0       0.95      0.77      0.85     66301\n",
      "           1       0.30      0.71      0.42      9299\n",
      "\n",
      "    accuracy                           0.76     75600\n",
      "   macro avg       0.63      0.74      0.64     75600\n",
      "weighted avg       0.87      0.76      0.80     75600\n",
      "\n",
      "('AD', 'LGBM') \n",
      "               precision    recall  f1-score   support\n",
      "\n",
      "           0       0.94      0.85      0.89     66301\n",
      "           1       0.35      0.59      0.44      9299\n",
      "\n",
      "    accuracy                           0.81     75600\n",
      "   macro avg       0.64      0.72      0.66     75600\n",
      "weighted avg       0.86      0.81      0.83     75600\n",
      "\n",
      "('Random under Sampler', 'LGBM') \n",
      "               precision    recall  f1-score   support\n",
      "\n",
      "           0       0.95      0.75      0.84     66301\n",
      "           1       0.29      0.73      0.41      9299\n",
      "\n",
      "    accuracy                           0.74     75600\n",
      "   macro avg       0.62      0.74      0.63     75600\n",
      "weighted avg       0.87      0.74      0.78     75600\n",
      "\n",
      "('Random over Sampler', 'LGBM') \n",
      "               precision    recall  f1-score   support\n",
      "\n",
      "           0       0.95      0.77      0.85     66301\n",
      "           1       0.30      0.71      0.43      9299\n",
      "\n",
      "    accuracy                           0.76     75600\n",
      "   macro avg       0.63      0.74      0.64     75600\n",
      "weighted avg       0.87      0.76      0.80     75600\n",
      "\n",
      "('TomekLinks', 'LGBM') \n",
      "               precision    recall  f1-score   support\n",
      "\n",
      "           0       0.88      1.00      0.94     66301\n",
      "           1       0.74      0.01      0.03      9299\n",
      "\n",
      "    accuracy                           0.88     75600\n",
      "   macro avg       0.81      0.51      0.48     75600\n",
      "weighted avg       0.86      0.88      0.82     75600\n",
      "\n",
      "('SMOTE', 'XGB') \n",
      "               precision    recall  f1-score   support\n",
      "\n",
      "           0       0.96      0.85      0.90     66301\n",
      "           1       0.42      0.75      0.53      9299\n",
      "\n",
      "    accuracy                           0.84     75600\n",
      "   macro avg       0.69      0.80      0.72     75600\n",
      "weighted avg       0.89      0.84      0.86     75600\n",
      "\n",
      "('AD', 'XGB') \n",
      "               precision    recall  f1-score   support\n",
      "\n",
      "           0       0.95      0.88      0.91     66301\n",
      "           1       0.44      0.67      0.53      9299\n",
      "\n",
      "    accuracy                           0.85     75600\n",
      "   macro avg       0.69      0.78      0.72     75600\n",
      "weighted avg       0.89      0.85      0.87     75600\n",
      "\n",
      "('Random under Sampler', 'XGB') \n",
      "               precision    recall  f1-score   support\n",
      "\n",
      "           0       0.97      0.80      0.87     66301\n",
      "           1       0.36      0.82      0.50      9299\n",
      "\n",
      "    accuracy                           0.80     75600\n",
      "   macro avg       0.66      0.81      0.69     75600\n",
      "weighted avg       0.89      0.80      0.83     75600\n",
      "\n",
      "('Random over Sampler', 'XGB') \n",
      "               precision    recall  f1-score   support\n",
      "\n",
      "           0       0.97      0.83      0.89     66301\n",
      "           1       0.39      0.79      0.52      9299\n",
      "\n",
      "    accuracy                           0.82     75600\n",
      "   macro avg       0.68      0.81      0.71     75600\n",
      "weighted avg       0.89      0.82      0.84     75600\n",
      "\n",
      "('TomekLinks', 'XGB') \n",
      "               precision    recall  f1-score   support\n",
      "\n",
      "           0       0.89      0.99      0.94     66301\n",
      "           1       0.66      0.14      0.23      9299\n",
      "\n",
      "    accuracy                           0.89     75600\n",
      "   macro avg       0.78      0.56      0.58     75600\n",
      "weighted avg       0.86      0.89      0.85     75600\n",
      "\n"
     ]
    }
   ],
   "source": [
    "for key, value in cls_report.items():\n",
    "...     print(key,'\\n', value)"
   ]
  },
  {
   "cell_type": "code",
   "execution_count": 280,
   "id": "d8912a0a",
   "metadata": {},
   "outputs": [
    {
     "data": {
      "text/html": [
       "<div>\n",
       "<style scoped>\n",
       "    .dataframe tbody tr th:only-of-type {\n",
       "        vertical-align: middle;\n",
       "    }\n",
       "\n",
       "    .dataframe tbody tr th {\n",
       "        vertical-align: top;\n",
       "    }\n",
       "\n",
       "    .dataframe thead th {\n",
       "        text-align: right;\n",
       "    }\n",
       "</style>\n",
       "<table border=\"1\" class=\"dataframe\">\n",
       "  <thead>\n",
       "    <tr style=\"text-align: right;\">\n",
       "      <th></th>\n",
       "      <th>LR</th>\n",
       "      <th>DT</th>\n",
       "      <th>RF</th>\n",
       "      <th>KNN</th>\n",
       "      <th>LGBM</th>\n",
       "      <th>XGB</th>\n",
       "    </tr>\n",
       "  </thead>\n",
       "  <tbody>\n",
       "    <tr>\n",
       "      <th>SMOTE</th>\n",
       "      <td>0.618995</td>\n",
       "      <td>0.871019</td>\n",
       "      <td>0.887646</td>\n",
       "      <td>0.851415</td>\n",
       "      <td>0.760767</td>\n",
       "      <td>0.839974</td>\n",
       "    </tr>\n",
       "    <tr>\n",
       "      <th>AD</th>\n",
       "      <td>0.738532</td>\n",
       "      <td>0.87254</td>\n",
       "      <td>0.886799</td>\n",
       "      <td>0.847288</td>\n",
       "      <td>0.813638</td>\n",
       "      <td>0.85295</td>\n",
       "    </tr>\n",
       "    <tr>\n",
       "      <th>Random under Sampler</th>\n",
       "      <td>0.52336</td>\n",
       "      <td>0.848161</td>\n",
       "      <td>0.874339</td>\n",
       "      <td>0.829167</td>\n",
       "      <td>0.744841</td>\n",
       "      <td>0.799286</td>\n",
       "    </tr>\n",
       "    <tr>\n",
       "      <th>Random over Sampler</th>\n",
       "      <td>0.525013</td>\n",
       "      <td>0.877487</td>\n",
       "      <td>0.893889</td>\n",
       "      <td>0.862831</td>\n",
       "      <td>0.762487</td>\n",
       "      <td>0.821548</td>\n",
       "    </tr>\n",
       "    <tr>\n",
       "      <th>TomekLinks</th>\n",
       "      <td>0.876997</td>\n",
       "      <td>0.881905</td>\n",
       "      <td>0.89914</td>\n",
       "      <td>0.887804</td>\n",
       "      <td>0.878161</td>\n",
       "      <td>0.885397</td>\n",
       "    </tr>\n",
       "  </tbody>\n",
       "</table>\n",
       "</div>"
      ],
      "text/plain": [
       "                            LR        DT        RF       KNN      LGBM  \\\n",
       "SMOTE                 0.618995  0.871019  0.887646  0.851415  0.760767   \n",
       "AD                    0.738532   0.87254  0.886799  0.847288  0.813638   \n",
       "Random under Sampler   0.52336  0.848161  0.874339  0.829167  0.744841   \n",
       "Random over Sampler   0.525013  0.877487  0.893889  0.862831  0.762487   \n",
       "TomekLinks            0.876997  0.881905   0.89914  0.887804  0.878161   \n",
       "\n",
       "                           XGB  \n",
       "SMOTE                 0.839974  \n",
       "AD                     0.85295  \n",
       "Random under Sampler  0.799286  \n",
       "Random over Sampler   0.821548  \n",
       "TomekLinks            0.885397  "
      ]
     },
     "execution_count": 280,
     "metadata": {},
     "output_type": "execute_result"
    }
   ],
   "source": [
    "scores['Accuracy']"
   ]
  },
  {
   "cell_type": "code",
   "execution_count": 55,
   "id": "f428127f",
   "metadata": {},
   "outputs": [
    {
     "data": {
      "text/html": [
       "<div>\n",
       "<style scoped>\n",
       "    .dataframe tbody tr th:only-of-type {\n",
       "        vertical-align: middle;\n",
       "    }\n",
       "\n",
       "    .dataframe tbody tr th {\n",
       "        vertical-align: top;\n",
       "    }\n",
       "\n",
       "    .dataframe thead th {\n",
       "        text-align: right;\n",
       "    }\n",
       "</style>\n",
       "<table border=\"1\" class=\"dataframe\">\n",
       "  <thead>\n",
       "    <tr style=\"text-align: right;\">\n",
       "      <th></th>\n",
       "      <th>LR</th>\n",
       "      <th>DT</th>\n",
       "      <th>RF</th>\n",
       "      <th>KNN</th>\n",
       "      <th>LGBM</th>\n",
       "      <th>XGB</th>\n",
       "    </tr>\n",
       "  </thead>\n",
       "  <tbody>\n",
       "    <tr>\n",
       "      <th>SMOTE</th>\n",
       "      <td>0.545722</td>\n",
       "      <td>0.85495</td>\n",
       "      <td>0.843395</td>\n",
       "      <td>0.860277</td>\n",
       "      <td>0.73967</td>\n",
       "      <td>0.799389</td>\n",
       "    </tr>\n",
       "    <tr>\n",
       "      <th>AD</th>\n",
       "      <td>0.523868</td>\n",
       "      <td>0.852673</td>\n",
       "      <td>0.845409</td>\n",
       "      <td>0.85515</td>\n",
       "      <td>0.716512</td>\n",
       "      <td>0.776185</td>\n",
       "    </tr>\n",
       "    <tr>\n",
       "      <th>Random under Sampler</th>\n",
       "      <td>0.540754</td>\n",
       "      <td>0.85477</td>\n",
       "      <td>0.848105</td>\n",
       "      <td>0.828731</td>\n",
       "      <td>0.740021</td>\n",
       "      <td>0.807257</td>\n",
       "    </tr>\n",
       "    <tr>\n",
       "      <th>Random over Sampler</th>\n",
       "      <td>0.542205</td>\n",
       "      <td>0.848837</td>\n",
       "      <td>0.84261</td>\n",
       "      <td>0.855413</td>\n",
       "      <td>0.741852</td>\n",
       "      <td>0.806728</td>\n",
       "    </tr>\n",
       "    <tr>\n",
       "      <th>TomekLinks</th>\n",
       "      <td>0.5</td>\n",
       "      <td>0.751781</td>\n",
       "      <td>0.74834</td>\n",
       "      <td>0.728194</td>\n",
       "      <td>0.506997</td>\n",
       "      <td>0.564608</td>\n",
       "    </tr>\n",
       "  </tbody>\n",
       "</table>\n",
       "</div>"
      ],
      "text/plain": [
       "                            LR        DT        RF       KNN      LGBM  \\\n",
       "SMOTE                 0.545722   0.85495  0.843395  0.860277   0.73967   \n",
       "AD                    0.523868  0.852673  0.845409   0.85515  0.716512   \n",
       "Random under Sampler  0.540754   0.85477  0.848105  0.828731  0.740021   \n",
       "Random over Sampler   0.542205  0.848837   0.84261  0.855413  0.741852   \n",
       "TomekLinks                 0.5  0.751781   0.74834  0.728194  0.506997   \n",
       "\n",
       "                           XGB  \n",
       "SMOTE                 0.799389  \n",
       "AD                    0.776185  \n",
       "Random under Sampler  0.807257  \n",
       "Random over Sampler   0.806728  \n",
       "TomekLinks            0.564608  "
      ]
     },
     "execution_count": 55,
     "metadata": {},
     "output_type": "execute_result"
    }
   ],
   "source": [
    "scores['AUC']"
   ]
  },
  {
   "cell_type": "markdown",
   "id": "e51f3040",
   "metadata": {},
   "source": [
    "As showm above, the SMOTE resampling technique from oversampler performed well through out the whole classifiers therefore, SMOTE resampler will be used to deal with the imbalanced classification of the dataset."
   ]
  },
  {
   "cell_type": "markdown",
   "id": "c1fb9e78",
   "metadata": {},
   "source": [
    "SMTOE will be used to resample the training sets of our model."
   ]
  },
  {
   "cell_type": "code",
   "execution_count": 20,
   "id": "7e1a7ce5",
   "metadata": {},
   "outputs": [],
   "source": [
    "sm=SMOTE()\n",
    "X_train_sm,y_train_sm=sm.fit_resample(X_train,y_train)"
   ]
  },
  {
   "cell_type": "markdown",
   "id": "fe10e7b7",
   "metadata": {},
   "source": [
    "New train and test sets are prepared with SMOTE resmapling technique for future use."
   ]
  },
  {
   "cell_type": "markdown",
   "id": "f398120a",
   "metadata": {},
   "source": [
    "<font size=\"4\">3.Hyperparameter Tuning"
   ]
  },
  {
   "cell_type": "markdown",
   "id": "caa47166",
   "metadata": {},
   "source": [
    "Next, list of classifiers chosen from scores above with different parameters for each classifiers are created and for loop that creates pipeline and does randomized search for each classifier is developed."
   ]
  },
  {
   "cell_type": "markdown",
   "id": "ab36e8ec",
   "metadata": {},
   "source": [
    "RandomziedsearchCV was used for the hyperparameter tuning to save time and also recall score was prioritized for our project to minimize the number of False Negatives. It is crucial for clients when they think they will be approved for loan application but getting rejected then it causes more time and money. Therefore it was important for our models to minimize the number of false positive and maximize the True positives."
   ]
  },
  {
   "cell_type": "code",
   "execution_count": 25,
   "id": "1fa29bff",
   "metadata": {},
   "outputs": [
    {
     "name": "stdout",
     "output_type": "stream",
     "text": [
      "Logistic Regression accuracy score: 0.43821916335089794\n",
      "Logistic Regression best parameters: {'clf__penalty': 'l2', 'clf__C': 1.0}\n",
      "Logistic Regression roc_auc: 0.5429885578598201\n",
      "Logistic Regression confusion matrix:               precision    recall  f1-score   support\n",
      "\n",
      "           0       0.89      0.65      0.75     66301\n",
      "           1       0.15      0.44      0.22      9299\n",
      "\n",
      "    accuracy                           0.62     75600\n",
      "   macro avg       0.52      0.54      0.49     75600\n",
      "weighted avg       0.80      0.62      0.69     75600\n",
      "\n",
      "RandomForestClassifier accuracy score: 0.596945908162168\n",
      "RandomForestClassifier best parameters: {'clf__n_estimators': 1000, 'clf__min_samples_split': 2, 'clf__max_features': 'sqrt', 'clf__max_depth': 8, 'clf__criterion': 'entropy'}\n",
      "RandomForestClassifier roc_auc: 0.6331737881559848\n",
      "RandomForestClassifier confusion matrix:               precision    recall  f1-score   support\n",
      "\n",
      "           0       0.92      0.67      0.78     66301\n",
      "           1       0.20      0.60      0.30      9299\n",
      "\n",
      "    accuracy                           0.66     75600\n",
      "   macro avg       0.56      0.63      0.54     75600\n",
      "weighted avg       0.83      0.66      0.72     75600\n",
      "\n",
      "LGBMClassifier accuracy score: 0.7790084955371546\n",
      "LGBMClassifier best parameters: {'clf__objective': None, 'clf__num_leaves': 200, 'clf__max_depth': -1, 'clf__learning_rate': 0.1, 'clf__boosting_type': 'gbdt'}\n",
      "LGBMClassifier roc_auc: 0.8421444794392912\n",
      "LGBMClassifier confusion matrix:               precision    recall  f1-score   support\n",
      "\n",
      "           0       0.97      0.91      0.94     66301\n",
      "           1       0.54      0.78      0.63      9299\n",
      "\n",
      "    accuracy                           0.89     75600\n",
      "   macro avg       0.75      0.84      0.78     75600\n",
      "weighted avg       0.91      0.89      0.90     75600\n",
      "\n",
      "XGBClassifier accuracy score: 0.7772878804172492\n",
      "XGBClassifier best parameters: {'clf__subsample': 0.6, 'clf__n_estimators': 1000, 'clf__max_depth': 10, 'clf__learning_rate': 0.2}\n",
      "XGBClassifier roc_auc: 0.842309797435514\n",
      "XGBClassifier confusion matrix:               precision    recall  f1-score   support\n",
      "\n",
      "           0       0.97      0.91      0.94     66301\n",
      "           1       0.54      0.78      0.64      9299\n",
      "\n",
      "    accuracy                           0.89     75600\n",
      "   macro avg       0.75      0.84      0.79     75600\n",
      "weighted avg       0.91      0.89      0.90     75600\n",
      "\n"
     ]
    }
   ],
   "source": [
    "names = [\n",
    "        \"Logistic Regression\",\n",
    "         \"RandomForestClassifier\",\n",
    "         \"LGBMClassifier\",\n",
    "         \"XGBClassifier\"\n",
    "        ]\n",
    "\n",
    "classifiers = [\n",
    "    LogisticRegression(),\n",
    "    RandomForestClassifier(),\n",
    "    LGBMClassifier(),\n",
    "    xgb.XGBClassifier(objective=\"binary:logistic\", use_label_encoder=False, eval_metric='logloss')\n",
    "    \n",
    "]\n",
    "\n",
    "parameters = [\n",
    "              {\"clf__penalty\": ['l2','l1'],\n",
    "               \"clf__C\": np.logspace(0,1, 4, 10)}, #logistic regression\n",
    "              {'clf__n_estimators':[100,1000],\n",
    "               'clf__max_depth':[0,4,5,6,8],\n",
    "               'clf__criterion':['gini','entropy'],\n",
    "               'clf__max_features':['sqrt', 'log2', None],\n",
    "               'clf__min_samples_split':[1,2,3]}, #Random Forest\n",
    "              {'clf__learning_rate': [0.1,0.01,0.0001],\n",
    "               'clf__num_leaves': [31,140,200],\n",
    "               'clf__boosting_type' : ['gbdt'],\n",
    "               'clf__objective' : [None,'binary'],\n",
    "               'clf__max_depth' : [-1,5,7]},#LGBM\n",
    "              {'clf__max_depth': [3, 6, 10],\n",
    "               'clf__learning_rate': [0.1, 0.2, 0.3],\n",
    "               'clf__subsample': np.arange(0.6, 0.8, 1.0),\n",
    "              'clf__n_estimators': [100, 500, 1000],}#xgb\n",
    "              ]\n",
    "\n",
    "for name, classifier, params in zip(names, classifiers, parameters):\n",
    "    clf_pipe = Pipeline([('clf', classifier)])\n",
    "    gs_clf = RandomizedSearchCV(clf_pipe, param_distributions=params, n_jobs=None,scoring='recall')\n",
    "    clf = gs_clf.fit(X_train_sm, y_train_sm)\n",
    "    score = clf.score(X_test, y_test)\n",
    "    best_param=clf.best_params_\n",
    "    roc_score=roc_auc_score(y_test, gs_clf.predict(X_test))\n",
    "    cls_report=classification_report(y_test, gs_clf.predict(X_test))\n",
    "    print(\"{} accuracy score: {}\".format(name, score))\n",
    "    print(\"{} best parameters: {}\".format(name,best_param))\n",
    "    print(\"{} roc_auc: {}\".format(name,roc_score))\n",
    "    print(\"{} confusion matrix: {}\".format(name,cls_report))"
   ]
  },
  {
   "cell_type": "markdown",
   "id": "8641acca",
   "metadata": {},
   "source": [
    "Classification report of each classifiers with best parameters are plotted. As it was mentioned above, recall score was optimized with the hyperparameters. The classifiers with parameter tuned performed better in terms of obtaining recall score compare to the classifiers with default parameters."
   ]
  },
  {
   "cell_type": "code",
   "execution_count": 70,
   "id": "efef1db4",
   "metadata": {},
   "outputs": [],
   "source": [
    "lr_best=LogisticRegression(penalty='l2', C= 1.0)\n",
    "lr_best.fit(X_train_sm,y_train_sm)\n",
    "lrpred=lr_best.predict(X_test)"
   ]
  },
  {
   "cell_type": "code",
   "execution_count": 359,
   "id": "59d9546f",
   "metadata": {},
   "outputs": [],
   "source": [
    "RF_tuned=RandomForestClassifier(n_estimators= 1000, min_samples_split= 2, max_features= 'sqrt',max_depth= 8, criterion= 'entropy')\n",
    "RF_tuned.fit(X_train_sm,y_train_sm)\n",
    "RFpred=RF_tuned.predict(X_test)"
   ]
  },
  {
   "cell_type": "code",
   "execution_count": 355,
   "id": "ff0e7664",
   "metadata": {},
   "outputs": [
    {
     "name": "stdout",
     "output_type": "stream",
     "text": [
      "[LightGBM] [Warning] Unknown parameter: clf__max_depth\n",
      "[LightGBM] [Warning] Unknown parameter: clf__num_leaves\n",
      "[LightGBM] [Warning] Unknown parameter: clf__learning_rate\n",
      "[LightGBM] [Warning] Unknown parameter: clf__boosting_type\n"
     ]
    }
   ],
   "source": [
    "lgbm_best=LGBMClassifier(clf__objective= None, clf__num_leaves= 200, clf__max_depth= -1, clf__learning_rate= 0.1, clf__boosting_type= 'gbdt')\n",
    "lgbm_best.fit(X_train_sm,y_train_sm)\n",
    "lgbmpred=lgbm_best.predict(X_test)"
   ]
  },
  {
   "cell_type": "code",
   "execution_count": 358,
   "id": "9e890040",
   "metadata": {},
   "outputs": [],
   "source": [
    "best_xgb=xgb.XGBClassifier(objective=\"binary:logistic\", use_label_encoder=False, eval_metric='logloss',subsample=0.6, n_estimators= 1000, max_depth= 10, learning_rate = 0.2)\n",
    "best_xgb.fit(X_train_sm,y_train_sm)\n",
    "xgbpred=best_xgb.predict(X_test)"
   ]
  },
  {
   "cell_type": "code",
   "execution_count": 360,
   "id": "7bc22d20",
   "metadata": {},
   "outputs": [],
   "source": [
    "pipe_dict = {0: 'Logistic Regression', 1: 'RandomForest', 2: 'LGBM',3:'XGBoost'}\n",
    "fit_best=[lr_best,RF_tuned,lgbm_best,best_xgb]\n",
    "result_best=[lrpred,RFpred,lgbmpred,xgbpred]"
   ]
  },
  {
   "cell_type": "markdown",
   "id": "b25d936e",
   "metadata": {},
   "source": [
    "Accuracy scores are calculated for each classifiers with best estimators. The numbers may be lower than classifiers with default parameters. However, hyperparameter tuning was conducted with recall score prioritized to minimize the false negatives."
   ]
  },
  {
   "cell_type": "markdown",
   "id": "da4243db",
   "metadata": {},
   "source": [
    "Also, confusion matrix and roc-auc are plotted for further evaluation."
   ]
  },
  {
   "cell_type": "code",
   "execution_count": 367,
   "id": "3d38ce70",
   "metadata": {},
   "outputs": [
    {
     "name": "stdout",
     "output_type": "stream",
     "text": [
      "Logistic Regression 0.621984126984127\n",
      "RandomForest 0.6502777777777777\n",
      "LGBM 0.7491931216931217\n",
      "XGBoost 0.8913359788359788\n"
     ]
    }
   ],
   "source": [
    "for i,result in enumerate(fit_best):\n",
    "    print(pipe_dict[i],result.score(X_test, y_test))"
   ]
  },
  {
   "cell_type": "code",
   "execution_count": 361,
   "id": "c159620c",
   "metadata": {},
   "outputs": [
    {
     "data": {
      "image/png": "[encoded data removed]",
      "text/plain": [
       "<Figure size 432x288 with 2 Axes>"
      ]
     },
     "metadata": {
      "needs_background": "light"
     },
     "output_type": "display_data"
    },
    {
     "data": {
      "image/png": "[encoded data removed]",
      "text/plain": [
       "<Figure size 432x288 with 2 Axes>"
      ]
     },
     "metadata": {
      "needs_background": "light"
     },
     "output_type": "display_data"
    },
    {
     "data": {
      "image/png": "[encoded data removed]",
      "text/plain": [
       "<Figure size 432x288 with 2 Axes>"
      ]
     },
     "metadata": {
      "needs_background": "light"
     },
     "output_type": "display_data"
    },
    {
     "data": {
      "image/png": "[encoded data removed]",
      "text/plain": [
       "<Figure size 432x288 with 2 Axes>"
      ]
     },
     "metadata": {
      "needs_background": "light"
     },
     "output_type": "display_data"
    }
   ],
   "source": [
    "for i,result in enumerate(result_best):    \n",
    "    cmn = confusion_matrix(y_test,result).astype('float') / confusion_matrix(y_test,result).sum(axis=1)[:, np.newaxis]\n",
    "    _=sns.heatmap(cmn,annot=True,cmap='Blues')\n",
    "    _.set_title(pipe_dict[i])\n",
    "    _.set_xlabel('Predicted Values')\n",
    "    _.set_ylabel('Actual Vlaues')\n",
    "    _.xaxis.set_ticklabels(['False','True'])\n",
    "    _.yaxis.set_ticklabels(['False','True'])\n",
    "    plt.show()"
   ]
  },
  {
   "cell_type": "code",
   "execution_count": 362,
   "id": "f46aa64f",
   "metadata": {},
   "outputs": [
    {
     "data": {
      "image/png": "[encoded data removed]",
      "text/plain": [
       "<Figure size 432x288 with 1 Axes>"
      ]
     },
     "metadata": {
      "needs_background": "light"
     },
     "output_type": "display_data"
    },
    {
     "data": {
      "image/png": "[encoded data removed]",
      "text/plain": [
       "<Figure size 432x288 with 1 Axes>"
      ]
     },
     "metadata": {
      "needs_background": "light"
     },
     "output_type": "display_data"
    },
    {
     "data": {
      "image/png": "[encoded data removed]",
      "text/plain": [
       "<Figure size 432x288 with 1 Axes>"
      ]
     },
     "metadata": {
      "needs_background": "light"
     },
     "output_type": "display_data"
    },
    {
     "data": {
      "image/png": "[encoded data removed]",
      "text/plain": [
       "<Figure size 432x288 with 1 Axes>"
      ]
     },
     "metadata": {
      "needs_background": "light"
     },
     "output_type": "display_data"
    }
   ],
   "source": [
    "for i,result in enumerate(fit_best):\n",
    "    y_scores=result.predict_proba(X_test)[:,1]\n",
    "    f_lr,t_lr,_=roc_curve(y_test,y_scores)\n",
    "    roc_auc=auc(f_lr,t_lr)\n",
    "    round(roc_auc,2)\n",
    "    plt.plot([0, 1], [0, 1], 'k--')\n",
    "    plt.plot(f_lr, t_lr)\n",
    "    plt.xlabel('False Positive Rate')\n",
    "    plt.ylabel('True Positive Rate')\n",
    "    plt.title(pipe_dict[i])\n",
    "    plt.show()"
   ]
  },
  {
   "cell_type": "markdown",
   "id": "8f7490f9",
   "metadata": {},
   "source": [
    "As both the confusion matrix and ROC-AUC shows, XGBOOST performed the best compare to Logistic Regression, RandomForest and LGBM classifier with 89.13 percent accuracy score, 0.093 of flase positive and 84.23 percent of ROC-AUC."
   ]
  },
  {
   "cell_type": "markdown",
   "id": "dff29cfa",
   "metadata": {},
   "source": [
    "<font size=\"4\">4. Interpretability and Feature Importance"
   ]
  },
  {
   "cell_type": "markdown",
   "id": "ddf0f00b",
   "metadata": {},
   "source": [
    "Feature importance of the models are calculated for three different model algorithms inclduing Logistic Regression, RandomForest and XGBoost classifier."
   ]
  },
  {
   "cell_type": "markdown",
   "id": "741ba203",
   "metadata": {},
   "source": [
    "First is using logistici regression coefficient. The coefficient of each columns are calculated."
   ]
  },
  {
   "cell_type": "code",
   "execution_count": 182,
   "id": "638ec2c1",
   "metadata": {},
   "outputs": [
    {
     "data": {
      "text/plain": [
       "array([[-0.01642924, -0.07711201, -0.15656133,  0.04906543, -0.01652422,\n",
       "        -3.43220326, -3.03832122, -2.94093921, -3.04008936, -2.43589013,\n",
       "        -3.55132075, -3.77206301, -4.68576972, -4.85677949, -4.66994505,\n",
       "        -4.46380422, -4.75460402, -4.6590422 , -4.73863638, -4.51708962,\n",
       "        -4.85106651, -4.86022059, -4.67960823, -4.74593581, -4.74285202,\n",
       "        -4.69562451, -4.66995368, -4.78942482, -4.95002619, -4.88287076,\n",
       "        -4.96051252, -4.80944052, -5.09253468, -4.83503197, -4.73919699,\n",
       "        -4.84760175, -4.62586004, -4.83746612, -4.50887759, -4.84022799,\n",
       "        -4.57105808, -5.020327  , -4.67486787, -4.92621491, -4.80180041,\n",
       "        -4.90033725, -4.78689533, -4.69089832, -5.23476477, -4.74841693,\n",
       "        -4.42283402, -4.93815581, -4.80666344, -4.50603646, -4.67582267,\n",
       "        -4.5431922 , -4.80845006, -4.8431891 , -4.48588871, -4.6396887 ,\n",
       "        -4.67094025, -5.40321639, -4.86751286]])"
      ]
     },
     "execution_count": 182,
     "metadata": {},
     "output_type": "execute_result"
    }
   ],
   "source": [
    "lr_best.coef_"
   ]
  },
  {
   "cell_type": "code",
   "execution_count": 172,
   "id": "ab099264",
   "metadata": {},
   "outputs": [],
   "source": [
    "feature_importance = abs(lr_best.coef_[0])\n",
    "feature_importance = 100.0 * (feature_importance / feature_importance.max())\n"
   ]
  },
  {
   "cell_type": "markdown",
   "id": "1a572479",
   "metadata": {},
   "source": [
    "The array was converted to dataframe with column names and a function that sums up the values of the same categories was defined."
   ]
  },
  {
   "cell_type": "code",
   "execution_count": 166,
   "id": "99149173",
   "metadata": {},
   "outputs": [],
   "source": [
    "summed=pd.DataFrame([feature_importance],columns=X_train_sm.columns)"
   ]
  },
  {
   "cell_type": "code",
   "execution_count": 164,
   "id": "2737a56b",
   "metadata": {},
   "outputs": [
    {
     "data": {
      "text/html": [
       "<div>\n",
       "<style scoped>\n",
       "    .dataframe tbody tr th:only-of-type {\n",
       "        vertical-align: middle;\n",
       "    }\n",
       "\n",
       "    .dataframe tbody tr th {\n",
       "        vertical-align: top;\n",
       "    }\n",
       "\n",
       "    .dataframe thead th {\n",
       "        text-align: right;\n",
       "    }\n",
       "</style>\n",
       "<table border=\"1\" class=\"dataframe\">\n",
       "  <thead>\n",
       "    <tr style=\"text-align: right;\">\n",
       "      <th></th>\n",
       "      <th>Income</th>\n",
       "      <th>Age</th>\n",
       "      <th>Experience</th>\n",
       "      <th>Job_Yrs</th>\n",
       "      <th>House_Yrs</th>\n",
       "      <th>Marital_Status_MARRIED</th>\n",
       "      <th>Marital_Status_SINGLE</th>\n",
       "      <th>House_Ownership_NORENT_NOOWN</th>\n",
       "      <th>House_Ownership_OWNED</th>\n",
       "      <th>House_Ownership_RENTED</th>\n",
       "      <th>...</th>\n",
       "      <th>Profession_SCIENTIST</th>\n",
       "      <th>Profession_SECRETARY</th>\n",
       "      <th>Profession_SOFTWARE_DEVELOPER</th>\n",
       "      <th>Profession_STATISTICIAN</th>\n",
       "      <th>Profession_SURGEON</th>\n",
       "      <th>Profession_SURVEYOR</th>\n",
       "      <th>Profession_TECHNICAL_WRITER</th>\n",
       "      <th>Profession_TECHNICIAN</th>\n",
       "      <th>Profession_TECHNOLOGY_SPECIALIST</th>\n",
       "      <th>Profession_WEB_DESIGNER</th>\n",
       "    </tr>\n",
       "  </thead>\n",
       "  <tbody>\n",
       "    <tr>\n",
       "      <th>0</th>\n",
       "      <td>0.304064</td>\n",
       "      <td>1.42715</td>\n",
       "      <td>2.897558</td>\n",
       "      <td>0.908078</td>\n",
       "      <td>0.305822</td>\n",
       "      <td>63.521484</td>\n",
       "      <td>56.231715</td>\n",
       "      <td>54.429418</td>\n",
       "      <td>56.264438</td>\n",
       "      <td>45.082224</td>\n",
       "      <td>...</td>\n",
       "      <td>83.395447</td>\n",
       "      <td>86.537764</td>\n",
       "      <td>84.083107</td>\n",
       "      <td>88.992365</td>\n",
       "      <td>89.635298</td>\n",
       "      <td>83.022563</td>\n",
       "      <td>85.869015</td>\n",
       "      <td>86.447403</td>\n",
       "      <td>100.0</td>\n",
       "      <td>90.08547</td>\n",
       "    </tr>\n",
       "  </tbody>\n",
       "</table>\n",
       "<p>1 rows × 63 columns</p>\n",
       "</div>"
      ],
      "text/plain": [
       "     Income      Age  Experience   Job_Yrs  House_Yrs  Marital_Status_MARRIED  \\\n",
       "0  0.304064  1.42715    2.897558  0.908078   0.305822               63.521484   \n",
       "\n",
       "   Marital_Status_SINGLE  House_Ownership_NORENT_NOOWN  House_Ownership_OWNED  \\\n",
       "0              56.231715                     54.429418              56.264438   \n",
       "\n",
       "   House_Ownership_RENTED  ...  Profession_SCIENTIST  Profession_SECRETARY  \\\n",
       "0               45.082224  ...             83.395447             86.537764   \n",
       "\n",
       "   Profession_SOFTWARE_DEVELOPER  Profession_STATISTICIAN  Profession_SURGEON  \\\n",
       "0                      84.083107                88.992365           89.635298   \n",
       "\n",
       "   Profession_SURVEYOR  Profession_TECHNICAL_WRITER  Profession_TECHNICIAN  \\\n",
       "0            83.022563                    85.869015              86.447403   \n",
       "\n",
       "   Profession_TECHNOLOGY_SPECIALIST  Profession_WEB_DESIGNER  \n",
       "0                             100.0                 90.08547  \n",
       "\n",
       "[1 rows x 63 columns]"
      ]
     },
     "execution_count": 164,
     "metadata": {},
     "output_type": "execute_result"
    }
   ],
   "source": [
    "summed"
   ]
  },
  {
   "cell_type": "code",
   "execution_count": 168,
   "id": "ed02d647",
   "metadata": {},
   "outputs": [],
   "source": [
    "from __future__ import print_function\n",
    "\n",
    "import pandas as pd\n",
    "\n",
    "categories = set(df.columns)\n",
    "\n",
    "def correct_categories(cols):\n",
    "    return [cat for col in cols for cat in categories if col.startswith(cat)]    \n",
    "\n",
    "all_summed=summed.groupby(correct_categories(summed.columns),axis=1).sum()"
   ]
  },
  {
   "cell_type": "code",
   "execution_count": 189,
   "id": "cb937a78",
   "metadata": {},
   "outputs": [],
   "source": [
    "all_summed=all_summed.T"
   ]
  },
  {
   "cell_type": "code",
   "execution_count": 194,
   "id": "773df9f8",
   "metadata": {},
   "outputs": [],
   "source": [
    "all_summed.rename(columns = {0:'Feature importance'}, inplace = True)"
   ]
  },
  {
   "cell_type": "code",
   "execution_count": 195,
   "id": "a34db89d",
   "metadata": {},
   "outputs": [
    {
     "data": {
      "text/plain": [
       "<AxesSubplot:>"
      ]
     },
     "execution_count": 195,
     "metadata": {},
     "output_type": "execute_result"
    },
    {
     "data": {
      "image/png": "[encoded data removed]",
      "text/plain": [
       "<Figure size 432x288 with 1 Axes>"
      ]
     },
     "metadata": {
      "needs_background": "light"
     },
     "output_type": "display_data"
    }
   ],
   "source": [
    "all_summed.plot(kind='bar')"
   ]
  },
  {
   "cell_type": "markdown",
   "id": "cb724a9e",
   "metadata": {},
   "source": [
    "The feature importance using logistic Regression was plotted above, as it shows, profession was the most important feature when developing a model using logistic regression algorithm. However, since logistic regression model performed the worst out of the four classifiers, the further analyze of the feature importance was necessary."
   ]
  },
  {
   "cell_type": "markdown",
   "id": "30b3eb14",
   "metadata": {},
   "source": [
    "The next classifier used was RandomForest Classifier. Feature importances function from the RandomForest classifier was used to obtain an array of values for all the columns. Again, the defined function was used to add all the values within the same category to analyze the feature importance."
   ]
  },
  {
   "cell_type": "code",
   "execution_count": 238,
   "id": "eae050ed",
   "metadata": {},
   "outputs": [
    {
     "data": {
      "text/plain": [
       "array([0.12552327, 0.13462847, 0.15758949, 0.14801482, 0.05756193,\n",
       "       0.02214915, 0.01531725, 0.01418107, 0.02667712, 0.02219566,\n",
       "       0.0206457 , 0.0242789 , 0.00261394, 0.00282135, 0.00469857,\n",
       "       0.00293089, 0.00163777, 0.00244628, 0.00226323, 0.00437284,\n",
       "       0.00218422, 0.00665353, 0.00191357, 0.0017345 , 0.00886589,\n",
       "       0.00312074, 0.00448968, 0.00245977, 0.01201214, 0.0022334 ,\n",
       "       0.00377662, 0.0081913 , 0.01398076, 0.00321404, 0.00340518,\n",
       "       0.00406228, 0.00152281, 0.00455028, 0.00205364, 0.00492396,\n",
       "       0.00155798, 0.00521374, 0.00187706, 0.00412154, 0.00136416,\n",
       "       0.00385288, 0.00269922, 0.0006514 , 0.01720589, 0.00706603,\n",
       "       0.00406568, 0.00640081, 0.00409054, 0.00252333, 0.0013794 ,\n",
       "       0.00221686, 0.00433237, 0.00421619, 0.00260338, 0.00698493,\n",
       "       0.00338909, 0.01816718, 0.00612435])"
      ]
     },
     "execution_count": 238,
     "metadata": {},
     "output_type": "execute_result"
    }
   ],
   "source": [
    "importances=RF_tuned.feature_importances_\n",
    "importances"
   ]
  },
  {
   "cell_type": "code",
   "execution_count": 239,
   "id": "395b9e6c",
   "metadata": {},
   "outputs": [],
   "source": [
    "std = np.std([tree.feature_importances_ for tree in RF_tuned.estimators_], axis=0)"
   ]
  },
  {
   "cell_type": "code",
   "execution_count": 240,
   "id": "60d164cf",
   "metadata": {},
   "outputs": [],
   "source": [
    "std1=pd.Series(std,index=X_train_sm.columns)\n"
   ]
  },
  {
   "cell_type": "code",
   "execution_count": 246,
   "id": "1b65b13b",
   "metadata": {},
   "outputs": [
    {
     "data": {
      "text/plain": [
       "Income                              0.046147\n",
       "Age                                 0.050838\n",
       "Experience                          0.076440\n",
       "Job_Yrs                             0.072226\n",
       "House_Yrs                           0.040549\n",
       "                                      ...   \n",
       "Profession_SURVEYOR                 0.005400\n",
       "Profession_TECHNICAL_WRITER         0.012187\n",
       "Profession_TECHNICIAN               0.005563\n",
       "Profession_TECHNOLOGY_SPECIALIST    0.017151\n",
       "Profession_WEB_DESIGNER             0.010202\n",
       "Length: 63, dtype: float64"
      ]
     },
     "execution_count": 246,
     "metadata": {},
     "output_type": "execute_result"
    }
   ],
   "source": [
    "std1"
   ]
  },
  {
   "cell_type": "code",
   "execution_count": 253,
   "id": "b68cdd5d",
   "metadata": {},
   "outputs": [],
   "source": [
    "std1=pd.DataFrame(std1).T"
   ]
  },
  {
   "cell_type": "code",
   "execution_count": 255,
   "id": "2e67b0c2",
   "metadata": {},
   "outputs": [],
   "source": [
    "std1=std1.groupby(correct_categories(summed.columns),axis=1).sum()"
   ]
  },
  {
   "cell_type": "code",
   "execution_count": 264,
   "id": "817b692d",
   "metadata": {},
   "outputs": [],
   "source": [
    "series_std = std1.squeeze()"
   ]
  },
  {
   "cell_type": "code",
   "execution_count": 265,
   "id": "d2780d0c",
   "metadata": {},
   "outputs": [
    {
     "data": {
      "text/plain": [
       "Age                0.050838\n",
       "Car_Ownership      0.029396\n",
       "Experience         0.076440\n",
       "House_Ownership    0.057317\n",
       "House_Yrs          0.040549\n",
       "Income             0.046147\n",
       "Job_Yrs            0.072226\n",
       "Marital_Status     0.028669\n",
       "Profession         0.365435\n",
       "Name: 0, dtype: float64"
      ]
     },
     "execution_count": 265,
     "metadata": {},
     "output_type": "execute_result"
    }
   ],
   "source": [
    "series_std"
   ]
  },
  {
   "cell_type": "code",
   "execution_count": 260,
   "id": "0bcc0c28",
   "metadata": {},
   "outputs": [],
   "source": [
    "forest_importances = pd.Series(importances, index=X_train_sm.columns)"
   ]
  },
  {
   "cell_type": "code",
   "execution_count": 203,
   "id": "e620fdbf",
   "metadata": {},
   "outputs": [],
   "source": [
    "forest_importances1=forest_importances.sort_values(ascending=False).head(9)"
   ]
  },
  {
   "cell_type": "code",
   "execution_count": 261,
   "id": "7ffafa85",
   "metadata": {},
   "outputs": [],
   "source": [
    "summed_RF=pd.DataFrame(forest_importances).T"
   ]
  },
  {
   "cell_type": "code",
   "execution_count": 262,
   "id": "2b845d51",
   "metadata": {},
   "outputs": [],
   "source": [
    "all_summed_RF=summed_RF.groupby(correct_categories(summed.columns),axis=1).sum()"
   ]
  },
  {
   "cell_type": "code",
   "execution_count": 263,
   "id": "8799f409",
   "metadata": {},
   "outputs": [
    {
     "data": {
      "text/html": [
       "<div>\n",
       "<style scoped>\n",
       "    .dataframe tbody tr th:only-of-type {\n",
       "        vertical-align: middle;\n",
       "    }\n",
       "\n",
       "    .dataframe tbody tr th {\n",
       "        vertical-align: top;\n",
       "    }\n",
       "\n",
       "    .dataframe thead th {\n",
       "        text-align: right;\n",
       "    }\n",
       "</style>\n",
       "<table border=\"1\" class=\"dataframe\">\n",
       "  <thead>\n",
       "    <tr style=\"text-align: right;\">\n",
       "      <th></th>\n",
       "      <th>Age</th>\n",
       "      <th>Car_Ownership</th>\n",
       "      <th>Experience</th>\n",
       "      <th>House_Ownership</th>\n",
       "      <th>House_Yrs</th>\n",
       "      <th>Income</th>\n",
       "      <th>Job_Yrs</th>\n",
       "      <th>Marital_Status</th>\n",
       "      <th>Profession</th>\n",
       "    </tr>\n",
       "  </thead>\n",
       "  <tbody>\n",
       "    <tr>\n",
       "      <th>0</th>\n",
       "      <td>0.134628</td>\n",
       "      <td>0.044925</td>\n",
       "      <td>0.157589</td>\n",
       "      <td>0.063054</td>\n",
       "      <td>0.057562</td>\n",
       "      <td>0.125523</td>\n",
       "      <td>0.148015</td>\n",
       "      <td>0.037466</td>\n",
       "      <td>0.231237</td>\n",
       "    </tr>\n",
       "  </tbody>\n",
       "</table>\n",
       "</div>"
      ],
      "text/plain": [
       "        Age  Car_Ownership  Experience  House_Ownership  House_Yrs    Income  \\\n",
       "0  0.134628       0.044925    0.157589         0.063054   0.057562  0.125523   \n",
       "\n",
       "    Job_Yrs  Marital_Status  Profession  \n",
       "0  0.148015        0.037466    0.231237  "
      ]
     },
     "execution_count": 263,
     "metadata": {},
     "output_type": "execute_result"
    }
   ],
   "source": [
    "all_summed_RF"
   ]
  },
  {
   "cell_type": "code",
   "execution_count": 266,
   "id": "dde1f2fe",
   "metadata": {},
   "outputs": [],
   "source": [
    "series_summed=all_summed_RF.squeeze()"
   ]
  },
  {
   "cell_type": "code",
   "execution_count": 267,
   "id": "213e9e31",
   "metadata": {},
   "outputs": [
    {
     "data": {
      "text/plain": [
       "Age                0.134628\n",
       "Car_Ownership      0.044925\n",
       "Experience         0.157589\n",
       "House_Ownership    0.063054\n",
       "House_Yrs          0.057562\n",
       "Income             0.125523\n",
       "Job_Yrs            0.148015\n",
       "Marital_Status     0.037466\n",
       "Profession         0.231237\n",
       "Name: 0, dtype: float64"
      ]
     },
     "execution_count": 267,
     "metadata": {},
     "output_type": "execute_result"
    }
   ],
   "source": [
    "series_summed"
   ]
  },
  {
   "cell_type": "code",
   "execution_count": 268,
   "id": "3ef3cb67",
   "metadata": {},
   "outputs": [
    {
     "data": {
      "image/png": "[encoded data removed]",
      "text/plain": [
       "<Figure size 432x288 with 1 Axes>"
      ]
     },
     "metadata": {
      "needs_background": "light"
     },
     "output_type": "display_data"
    }
   ],
   "source": [
    "fig, ax = plt.subplots()\n",
    "series_summed.plot.bar(yerr=series_std, ax=ax)\n",
    "ax.set_title(\"Feature importances using MDI\")\n",
    "ax.set_ylabel(\"Mean decrease in impurity\")\n",
    "fig.tight_layout()"
   ]
  },
  {
   "cell_type": "markdown",
   "id": "a0a7578c",
   "metadata": {},
   "source": [
    "As the plot shows above, again, 'Profession' was the most important feature to develop a RandomForest Classifier model. However, for RandomForest classifier, the standard deveiation of the profession was very large and, experience, job years, age and income are also important feature in developing a model. "
   ]
  },
  {
   "cell_type": "code",
   "execution_count": 270,
   "id": "019112fa",
   "metadata": {},
   "outputs": [
    {
     "name": "stdout",
     "output_type": "stream",
     "text": [
      "Collecting shap\n",
      "  Downloading shap-0.41.0-cp39-cp39-win_amd64.whl (435 kB)\n",
      "Collecting slicer==0.0.7\n",
      "  Downloading slicer-0.0.7-py3-none-any.whl (14 kB)\n",
      "Requirement already satisfied: pandas in c:\\users\\minja\\anaconda\\lib\\site-packages (from shap) (1.3.4)\n",
      "Requirement already satisfied: scikit-learn in c:\\users\\minja\\anaconda\\lib\\site-packages (from shap) (1.0.2)\n",
      "Requirement already satisfied: tqdm>4.25.0 in c:\\users\\minja\\anaconda\\lib\\site-packages (from shap) (4.62.3)\n",
      "Requirement already satisfied: packaging>20.9 in c:\\users\\minja\\anaconda\\lib\\site-packages (from shap) (21.0)\n",
      "Requirement already satisfied: cloudpickle in c:\\users\\minja\\anaconda\\lib\\site-packages (from shap) (2.0.0)\n",
      "Requirement already satisfied: scipy in c:\\users\\minja\\anaconda\\lib\\site-packages (from shap) (1.7.1)\n",
      "Requirement already satisfied: numba in c:\\users\\minja\\anaconda\\lib\\site-packages (from shap) (0.54.1)\n",
      "Requirement already satisfied: numpy in c:\\users\\minja\\anaconda\\lib\\site-packages (from shap) (1.20.3)\n",
      "Requirement already satisfied: pyparsing>=2.0.2 in c:\\users\\minja\\anaconda\\lib\\site-packages (from packaging>20.9->shap) (3.0.4)\n",
      "Requirement already satisfied: colorama in c:\\users\\minja\\anaconda\\lib\\site-packages (from tqdm>4.25.0->shap) (0.4.4)\n",
      "Requirement already satisfied: setuptools in c:\\users\\minja\\anaconda\\lib\\site-packages (from numba->shap) (58.0.4)\n",
      "Requirement already satisfied: llvmlite<0.38,>=0.37.0rc1 in c:\\users\\minja\\anaconda\\lib\\site-packages (from numba->shap) (0.37.0)\n",
      "Requirement already satisfied: python-dateutil>=2.7.3 in c:\\users\\minja\\anaconda\\lib\\site-packages (from pandas->shap) (2.8.2)\n",
      "Requirement already satisfied: pytz>=2017.3 in c:\\users\\minja\\anaconda\\lib\\site-packages (from pandas->shap) (2021.3)\n",
      "Requirement already satisfied: six>=1.5 in c:\\users\\minja\\anaconda\\lib\\site-packages (from python-dateutil>=2.7.3->pandas->shap) (1.16.0)\n",
      "Requirement already satisfied: threadpoolctl>=2.0.0 in c:\\users\\minja\\anaconda\\lib\\site-packages (from scikit-learn->shap) (2.2.0)\n",
      "Requirement already satisfied: joblib>=0.11 in c:\\users\\minja\\anaconda\\lib\\site-packages (from scikit-learn->shap) (1.1.0)\n",
      "Installing collected packages: slicer, shap\n",
      "Successfully installed shap-0.41.0 slicer-0.0.7\n",
      "Note: you may need to restart the kernel to use updated packages.\n"
     ]
    }
   ],
   "source": [
    "pip install shap"
   ]
  },
  {
   "cell_type": "code",
   "execution_count": 271,
   "id": "ed7ced18",
   "metadata": {},
   "outputs": [],
   "source": [
    "import shap"
   ]
  },
  {
   "cell_type": "markdown",
   "id": "421a8c6f",
   "metadata": {},
   "source": [
    "Lastly, the best performing model out of the three XGBoost Classifier's feature importance was analyzed using SHAP summary plots. "
   ]
  },
  {
   "cell_type": "code",
   "execution_count": 281,
   "id": "e4740e81",
   "metadata": {},
   "outputs": [],
   "source": [
    "explainer = shap.TreeExplainer(best_xgb)"
   ]
  },
  {
   "cell_type": "code",
   "execution_count": 283,
   "id": "6816039e",
   "metadata": {},
   "outputs": [],
   "source": [
    "shap_values = explainer.shap_values(X_test)"
   ]
  },
  {
   "cell_type": "code",
   "execution_count": 326,
   "id": "a2bc99f1",
   "metadata": {},
   "outputs": [
    {
     "data": {
      "text/plain": [
       "array([[-1.0136036e+00, -1.4436549e+00, -1.2759863e+00, ...,\n",
       "         6.4022809e-02,  4.3654792e-02,  5.8904361e-02],\n",
       "       [-1.3406674e+00, -9.5991594e-01, -4.6579072e-01, ...,\n",
       "         3.6136638e-02,  2.2729466e-02,  6.6715792e-02],\n",
       "       [-1.0594140e+00, -1.1428602e+00, -4.4568536e-01, ...,\n",
       "         2.5661208e-02,  3.0876860e-02, -3.3122125e+00],\n",
       "       ...,\n",
       "       [ 6.6644925e-01, -9.2059016e-02,  5.8657533e-01, ...,\n",
       "         5.7781368e-02,  2.5303457e-02,  5.1376205e-02],\n",
       "       [-9.0192306e-01, -8.2837385e-01, -1.0589851e+00, ...,\n",
       "        -1.6682068e-03,  2.4832133e-02,  2.0605311e-02],\n",
       "       [-1.7743806e+00, -5.8226204e-01, -7.6227993e-02, ...,\n",
       "         4.3572918e-02,  4.0220257e-02,  5.9625633e-02]], dtype=float32)"
      ]
     },
     "execution_count": 326,
     "metadata": {},
     "output_type": "execute_result"
    }
   ],
   "source": [
    "shap_values"
   ]
  },
  {
   "cell_type": "code",
   "execution_count": 338,
   "id": "cb837c92",
   "metadata": {},
   "outputs": [],
   "source": [
    "shap_values_=pd.DataFrame(shap_values,columns=X_train_sm.columns)"
   ]
  },
  {
   "cell_type": "code",
   "execution_count": 339,
   "id": "9b95bd0e",
   "metadata": {},
   "outputs": [],
   "source": [
    "shap_values_=shap_values_.groupby(correct_categories(summed.columns),axis=1).sum()"
   ]
  },
  {
   "cell_type": "code",
   "execution_count": 340,
   "id": "98a37d48",
   "metadata": {},
   "outputs": [],
   "source": [
    "shap_values_=pd.DataFrame.to_numpy(shap_values_)"
   ]
  },
  {
   "cell_type": "code",
   "execution_count": 345,
   "id": "5aa9d41d",
   "metadata": {},
   "outputs": [
    {
     "data": {
      "image/png": "[encoded data removed]",
      "text/plain": [
       "<Figure size 576x367.2 with 1 Axes>"
      ]
     },
     "metadata": {
      "needs_background": "light"
     },
     "output_type": "display_data"
    }
   ],
   "source": [
    "shap.summary_plot(shap_values_, X_test_, plot_type=\"bar\", feature_names = X_test_.columns)"
   ]
  },
  {
   "cell_type": "code",
   "execution_count": 346,
   "id": "f686c4de",
   "metadata": {
    "scrolled": false
   },
   "outputs": [
    {
     "data": {
      "image/png": "[encoded data removed]",
      "text/plain": [
       "<Figure size 576x367.2 with 2 Axes>"
      ]
     },
     "metadata": {
      "needs_background": "light"
     },
     "output_type": "display_data"
    }
   ],
   "source": [
    "shap.summary_plot(shap_values_,X_test_,max_display=X_test_.shape[1])"
   ]
  },
  {
   "cell_type": "markdown",
   "id": "28fed2e1",
   "metadata": {},
   "source": [
    "The summary plots show interesting trends compare to other models' feature importance, on predicting Risk of Loan. The top 3 features those are most important are Car ownership, House years and Profession. "
   ]
  }
 ],
 "metadata": {
  "kernelspec": {
   "display_name": "Python 3 (ipykernel)",
   "language": "python",
   "name": "python3"
  },
  "language_info": {
   "codemirror_mode": {
    "name": "ipython",
    "version": 3
   },
   "file_extension": ".py",
   "mimetype": "text/x-python",
   "name": "python",
   "nbconvert_exporter": "python",
   "pygments_lexer": "ipython3",
   "version": "3.9.7"
  }
 },
 "nbformat": 4,
 "nbformat_minor": 5
}

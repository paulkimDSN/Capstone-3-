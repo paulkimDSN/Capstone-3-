{
 "cells": [
  {
   "cell_type": "code",
   "execution_count": 1,
   "id": "8ad7c203",
   "metadata": {},
   "outputs": [],
   "source": [
    "import pickle"
   ]
  },
  {
   "cell_type": "code",
   "execution_count": 2,
   "id": "daab9505",
   "metadata": {},
   "outputs": [],
   "source": [
    "import numpy as np\n",
    "import pandas as pd\n",
    "import matplotlib.pyplot as plt\n",
    "import seaborn as sns\n",
    "import warnings\n",
    "warnings.filterwarnings('ignore')"
   ]
  },
  {
   "cell_type": "code",
   "execution_count": 3,
   "id": "11e98dc2",
   "metadata": {},
   "outputs": [],
   "source": [
    "from sklearn.model_selection import train_test_split\n",
    "from sklearn.linear_model import LogisticRegression\n",
    "from sklearn.metrics import accuracy_score\n",
    "from sklearn.preprocessing import StandardScaler,OneHotEncoder\n",
    "from sklearn.metrics import classification_report\n",
    "from sklearn.metrics import confusion_matrix, roc_curve, auc,ConfusionMatrixDisplay"
   ]
  },
  {
   "cell_type": "code",
   "execution_count": 4,
   "id": "5f542861",
   "metadata": {},
   "outputs": [],
   "source": [
    "from sklearn.svm import LinearSVC\n",
    "from sklearn.tree import DecisionTreeClassifier\n",
    "from sklearn.naive_bayes import GaussianNB\n",
    "from sklearn.neighbors import KNeighborsClassifier\n",
    "from sklearn.neural_network import MLPClassifier\n",
    "import xgboost as xgb"
   ]
  },
  {
   "cell_type": "code",
   "execution_count": 5,
   "id": "ba31e9d1",
   "metadata": {},
   "outputs": [],
   "source": [
    "from sklearn.compose import ColumnTransformer\n",
    "from sklearn.pipeline import Pipeline\n",
    "#from sklearn.pipeline import make_pipeline"
   ]
  },
  {
   "cell_type": "code",
   "execution_count": 6,
   "id": "99de397b",
   "metadata": {},
   "outputs": [],
   "source": [
    "from imblearn.pipeline import make_pipeline"
   ]
  },
  {
   "cell_type": "code",
   "execution_count": 7,
   "id": "93706212",
   "metadata": {},
   "outputs": [],
   "source": [
    "from sklearn.ensemble import RandomForestClassifier\n",
    "from lightgbm import LGBMClassifier"
   ]
  },
  {
   "cell_type": "code",
   "execution_count": 8,
   "id": "b55c3a14",
   "metadata": {},
   "outputs": [],
   "source": [
    "from sklearn.metrics import roc_auc_score\n",
    "from sklearn.metrics import classification_report"
   ]
  },
  {
   "cell_type": "code",
   "execution_count": 9,
   "id": "fb69f10c",
   "metadata": {},
   "outputs": [],
   "source": [
    "from sklearn.base import TransformerMixin"
   ]
  },
  {
   "cell_type": "code",
   "execution_count": 10,
   "id": "4eba8f94",
   "metadata": {},
   "outputs": [],
   "source": [
    "from imblearn.over_sampling import SMOTE,RandomOverSampler\n",
    "from imblearn.under_sampling import RandomUnderSampler\n",
    "from imblearn.over_sampling import ADASYN\n",
    "from imblearn.under_sampling import TomekLinks"
   ]
  },
  {
   "cell_type": "code",
   "execution_count": 11,
   "id": "8631aeb1",
   "metadata": {},
   "outputs": [],
   "source": [
    "from sklearn.model_selection import GridSearchCV"
   ]
  },
  {
   "cell_type": "code",
   "execution_count": 12,
   "id": "dfbf41b2",
   "metadata": {},
   "outputs": [],
   "source": [
    "pkl_file = open('X_train.pkl', 'rb')\n",
    "X_train = pickle.load(pkl_file)\n",
    "pkl_file.close()"
   ]
  },
  {
   "cell_type": "code",
   "execution_count": 13,
   "id": "af02c400",
   "metadata": {},
   "outputs": [],
   "source": [
    "pkl_file = open('X_test.pkl', 'rb')\n",
    "X_test = pickle.load(pkl_file)\n",
    "pkl_file.close()"
   ]
  },
  {
   "cell_type": "code",
   "execution_count": 14,
   "id": "d6dba1d4",
   "metadata": {},
   "outputs": [],
   "source": [
    "pkl_file = open('y_train.pkl', 'rb')\n",
    "y_train = pickle.load(pkl_file)\n",
    "pkl_file.close()"
   ]
  },
  {
   "cell_type": "code",
   "execution_count": 15,
   "id": "ec228df9",
   "metadata": {},
   "outputs": [],
   "source": [
    "pkl_file = open('y_test.pkl', 'rb')\n",
    "y_test = pickle.load(pkl_file)\n",
    "pkl_file.close()"
   ]
  },
  {
   "cell_type": "code",
   "execution_count": 16,
   "id": "f66adcd8",
   "metadata": {},
   "outputs": [],
   "source": [
    "df=pd.read_csv('../Capstone-3-/data.csv')"
   ]
  },
  {
   "cell_type": "code",
   "execution_count": 17,
   "id": "10d626f5",
   "metadata": {},
   "outputs": [
    {
     "data": {
      "text/html": [
       "<div>\n",
       "<style scoped>\n",
       "    .dataframe tbody tr th:only-of-type {\n",
       "        vertical-align: middle;\n",
       "    }\n",
       "\n",
       "    .dataframe tbody tr th {\n",
       "        vertical-align: top;\n",
       "    }\n",
       "\n",
       "    .dataframe thead th {\n",
       "        text-align: right;\n",
       "    }\n",
       "</style>\n",
       "<table border=\"1\" class=\"dataframe\">\n",
       "  <thead>\n",
       "    <tr style=\"text-align: right;\">\n",
       "      <th></th>\n",
       "      <th>Id</th>\n",
       "      <th>Income</th>\n",
       "      <th>Age</th>\n",
       "      <th>Experience</th>\n",
       "      <th>Marital_Status</th>\n",
       "      <th>House_Ownership</th>\n",
       "      <th>Car_Ownership</th>\n",
       "      <th>Profession</th>\n",
       "      <th>Job_Yrs</th>\n",
       "      <th>House_Yrs</th>\n",
       "      <th>Risk_Flag</th>\n",
       "    </tr>\n",
       "  </thead>\n",
       "  <tbody>\n",
       "    <tr>\n",
       "      <th>0</th>\n",
       "      <td>1</td>\n",
       "      <td>1303834</td>\n",
       "      <td>23</td>\n",
       "      <td>3</td>\n",
       "      <td>SINGLE</td>\n",
       "      <td>RENTED</td>\n",
       "      <td>NO</td>\n",
       "      <td>MECHANICAL_ENGINEER</td>\n",
       "      <td>3</td>\n",
       "      <td>13</td>\n",
       "      <td>0</td>\n",
       "    </tr>\n",
       "    <tr>\n",
       "      <th>1</th>\n",
       "      <td>2</td>\n",
       "      <td>7574516</td>\n",
       "      <td>40</td>\n",
       "      <td>10</td>\n",
       "      <td>SINGLE</td>\n",
       "      <td>RENTED</td>\n",
       "      <td>NO</td>\n",
       "      <td>SOFTWARE_DEVELOPER</td>\n",
       "      <td>9</td>\n",
       "      <td>13</td>\n",
       "      <td>0</td>\n",
       "    </tr>\n",
       "    <tr>\n",
       "      <th>2</th>\n",
       "      <td>3</td>\n",
       "      <td>3991815</td>\n",
       "      <td>66</td>\n",
       "      <td>4</td>\n",
       "      <td>MARRIED</td>\n",
       "      <td>RENTED</td>\n",
       "      <td>NO</td>\n",
       "      <td>TECHNICAL_WRITER</td>\n",
       "      <td>4</td>\n",
       "      <td>10</td>\n",
       "      <td>0</td>\n",
       "    </tr>\n",
       "    <tr>\n",
       "      <th>3</th>\n",
       "      <td>4</td>\n",
       "      <td>6256451</td>\n",
       "      <td>41</td>\n",
       "      <td>2</td>\n",
       "      <td>SINGLE</td>\n",
       "      <td>RENTED</td>\n",
       "      <td>YES</td>\n",
       "      <td>SOFTWARE_DEVELOPER</td>\n",
       "      <td>2</td>\n",
       "      <td>12</td>\n",
       "      <td>1</td>\n",
       "    </tr>\n",
       "    <tr>\n",
       "      <th>4</th>\n",
       "      <td>5</td>\n",
       "      <td>5768871</td>\n",
       "      <td>47</td>\n",
       "      <td>11</td>\n",
       "      <td>SINGLE</td>\n",
       "      <td>RENTED</td>\n",
       "      <td>NO</td>\n",
       "      <td>CIVIL_SERVANT</td>\n",
       "      <td>3</td>\n",
       "      <td>14</td>\n",
       "      <td>1</td>\n",
       "    </tr>\n",
       "    <tr>\n",
       "      <th>...</th>\n",
       "      <td>...</td>\n",
       "      <td>...</td>\n",
       "      <td>...</td>\n",
       "      <td>...</td>\n",
       "      <td>...</td>\n",
       "      <td>...</td>\n",
       "      <td>...</td>\n",
       "      <td>...</td>\n",
       "      <td>...</td>\n",
       "      <td>...</td>\n",
       "      <td>...</td>\n",
       "    </tr>\n",
       "    <tr>\n",
       "      <th>251995</th>\n",
       "      <td>251996</td>\n",
       "      <td>8154883</td>\n",
       "      <td>43</td>\n",
       "      <td>13</td>\n",
       "      <td>SINGLE</td>\n",
       "      <td>RENTED</td>\n",
       "      <td>NO</td>\n",
       "      <td>SURGEON</td>\n",
       "      <td>6</td>\n",
       "      <td>11</td>\n",
       "      <td>0</td>\n",
       "    </tr>\n",
       "    <tr>\n",
       "      <th>251996</th>\n",
       "      <td>251997</td>\n",
       "      <td>2843572</td>\n",
       "      <td>26</td>\n",
       "      <td>10</td>\n",
       "      <td>SINGLE</td>\n",
       "      <td>RENTED</td>\n",
       "      <td>NO</td>\n",
       "      <td>ARMY_OFFICER</td>\n",
       "      <td>6</td>\n",
       "      <td>11</td>\n",
       "      <td>0</td>\n",
       "    </tr>\n",
       "    <tr>\n",
       "      <th>251997</th>\n",
       "      <td>251998</td>\n",
       "      <td>4522448</td>\n",
       "      <td>46</td>\n",
       "      <td>7</td>\n",
       "      <td>SINGLE</td>\n",
       "      <td>RENTED</td>\n",
       "      <td>NO</td>\n",
       "      <td>DESIGN_ENGINEER</td>\n",
       "      <td>7</td>\n",
       "      <td>12</td>\n",
       "      <td>0</td>\n",
       "    </tr>\n",
       "    <tr>\n",
       "      <th>251998</th>\n",
       "      <td>251999</td>\n",
       "      <td>6507128</td>\n",
       "      <td>45</td>\n",
       "      <td>0</td>\n",
       "      <td>SINGLE</td>\n",
       "      <td>RENTED</td>\n",
       "      <td>NO</td>\n",
       "      <td>GRAPHIC_DESIGNER</td>\n",
       "      <td>0</td>\n",
       "      <td>10</td>\n",
       "      <td>0</td>\n",
       "    </tr>\n",
       "    <tr>\n",
       "      <th>251999</th>\n",
       "      <td>252000</td>\n",
       "      <td>9070230</td>\n",
       "      <td>70</td>\n",
       "      <td>17</td>\n",
       "      <td>SINGLE</td>\n",
       "      <td>RENTED</td>\n",
       "      <td>NO</td>\n",
       "      <td>STATISTICIAN</td>\n",
       "      <td>7</td>\n",
       "      <td>11</td>\n",
       "      <td>0</td>\n",
       "    </tr>\n",
       "  </tbody>\n",
       "</table>\n",
       "<p>252000 rows × 11 columns</p>\n",
       "</div>"
      ],
      "text/plain": [
       "            Id   Income  Age  Experience Marital_Status House_Ownership  \\\n",
       "0            1  1303834   23           3         SINGLE          RENTED   \n",
       "1            2  7574516   40          10         SINGLE          RENTED   \n",
       "2            3  3991815   66           4        MARRIED          RENTED   \n",
       "3            4  6256451   41           2         SINGLE          RENTED   \n",
       "4            5  5768871   47          11         SINGLE          RENTED   \n",
       "...        ...      ...  ...         ...            ...             ...   \n",
       "251995  251996  8154883   43          13         SINGLE          RENTED   \n",
       "251996  251997  2843572   26          10         SINGLE          RENTED   \n",
       "251997  251998  4522448   46           7         SINGLE          RENTED   \n",
       "251998  251999  6507128   45           0         SINGLE          RENTED   \n",
       "251999  252000  9070230   70          17         SINGLE          RENTED   \n",
       "\n",
       "       Car_Ownership           Profession  Job_Yrs  House_Yrs  Risk_Flag  \n",
       "0                 NO  MECHANICAL_ENGINEER        3         13          0  \n",
       "1                 NO   SOFTWARE_DEVELOPER        9         13          0  \n",
       "2                 NO     TECHNICAL_WRITER        4         10          0  \n",
       "3                YES   SOFTWARE_DEVELOPER        2         12          1  \n",
       "4                 NO        CIVIL_SERVANT        3         14          1  \n",
       "...              ...                  ...      ...        ...        ...  \n",
       "251995            NO              SURGEON        6         11          0  \n",
       "251996            NO         ARMY_OFFICER        6         11          0  \n",
       "251997            NO      DESIGN_ENGINEER        7         12          0  \n",
       "251998            NO     GRAPHIC_DESIGNER        0         10          0  \n",
       "251999            NO         STATISTICIAN        7         11          0  \n",
       "\n",
       "[252000 rows x 11 columns]"
      ]
     },
     "execution_count": 17,
     "metadata": {},
     "output_type": "execute_result"
    }
   ],
   "source": [
    "df"
   ]
  },
  {
   "cell_type": "code",
   "execution_count": 18,
   "id": "03288d75",
   "metadata": {},
   "outputs": [
    {
     "data": {
      "text/plain": [
       "(176400, 63)"
      ]
     },
     "execution_count": 18,
     "metadata": {},
     "output_type": "execute_result"
    }
   ],
   "source": [
    "X_train.shape"
   ]
  },
  {
   "cell_type": "code",
   "execution_count": 19,
   "id": "befb9fd7",
   "metadata": {},
   "outputs": [
    {
     "data": {
      "text/plain": [
       "(176400, 1)"
      ]
     },
     "execution_count": 19,
     "metadata": {},
     "output_type": "execute_result"
    }
   ],
   "source": [
    "y_train.shape "
   ]
  },
  {
   "cell_type": "code",
   "execution_count": 20,
   "id": "de743abb",
   "metadata": {},
   "outputs": [],
   "source": [
    "resamplers={}\n",
    "resamplers['SMOTE']=SMOTE()\n",
    "resamplers['AD']=ADASYN()\n",
    "resamplers['Random under Sampler']=RandomUnderSampler()\n",
    "resamplers['Random over Sampler']=RandomOverSampler()\n",
    "resamplers['TomekLinks']=TomekLinks()"
   ]
  },
  {
   "cell_type": "code",
   "execution_count": 21,
   "id": "ca14d03b",
   "metadata": {},
   "outputs": [],
   "source": [
    "classifiers = {}\n",
    "classifiers['LR'] = LogisticRegression()\n",
    "classifiers['DT'] = DecisionTreeClassifier()\n",
    "classifiers['RF'] = RandomForestClassifier()\n",
    "classifiers['KNN'] = KNeighborsClassifier()\n",
    "classifiers['LGBM'] = LGBMClassifier()\n",
    "classifiers['XGB'] = xgb.XGBClassifier(objective=\"binary:logistic\", use_label_encoder=False, eval_metric='logloss')"
   ]
  },
  {
   "cell_type": "code",
   "execution_count": 22,
   "id": "39c19002",
   "metadata": {},
   "outputs": [],
   "source": [
    "scores = {}\n",
    "cls_report= {}\n",
    "scores['Accuracy'] = pd.DataFrame(columns=classifiers.keys(), index=resamplers.keys())\n",
    "scores['AUC'] = pd.DataFrame(columns=classifiers.keys(), index=resamplers.keys())"
   ]
  },
  {
   "cell_type": "code",
   "execution_count": 96,
   "id": "3ded19b5",
   "metadata": {},
   "outputs": [],
   "source": [
    "#class DenseTransformer(TransformerMixin):\n",
    "#    def fit(self,X,y=None,**fit_params):\n",
    "#        return self\n",
    "#    def transform(self,X,y=None, **fit_params):\n",
    "#        return X.todense()"
   ]
  },
  {
   "cell_type": "code",
   "execution_count": 98,
   "id": "31244297",
   "metadata": {},
   "outputs": [],
   "source": [
    "for model in classifiers.keys():\n",
    "    for resampler in resamplers.keys():\n",
    "        pipe = make_pipeline(resamplers[resampler], classifiers[model])\n",
    "        pipe.fit(X_train, y_train)\n",
    "        scores['Accuracy'].loc[resampler,model] = pipe.score(X_test, y_test)\n",
    "        scores['AUC'].loc[resampler,model] = roc_auc_score(y_test, pipe.predict(X_test))\n",
    "        cls_report[resampler,model]=classification_report(y_test, pipe.predict(X_test))"
   ]
  },
  {
   "cell_type": "code",
   "execution_count": 20,
   "id": "d8912a0a",
   "metadata": {},
   "outputs": [
    {
     "ename": "NameError",
     "evalue": "name 'scores' is not defined",
     "output_type": "error",
     "traceback": [
      "\u001b[1;31m---------------------------------------------------------------------------\u001b[0m",
      "\u001b[1;31mNameError\u001b[0m                                 Traceback (most recent call last)",
      "\u001b[1;32m~\\AppData\\Local\\Temp/ipykernel_12588/2331591284.py\u001b[0m in \u001b[0;36m<module>\u001b[1;34m\u001b[0m\n\u001b[1;32m----> 1\u001b[1;33m \u001b[0mscores\u001b[0m\u001b[1;33m[\u001b[0m\u001b[1;34m'Accuracy'\u001b[0m\u001b[1;33m]\u001b[0m\u001b[1;33m.\u001b[0m\u001b[0mmean\u001b[0m\u001b[1;33m(\u001b[0m\u001b[1;33m)\u001b[0m\u001b[1;33m\u001b[0m\u001b[1;33m\u001b[0m\u001b[0m\n\u001b[0m",
      "\u001b[1;31mNameError\u001b[0m: name 'scores' is not defined"
     ]
    }
   ],
   "source": [
    "scores['Accuracy'].mean()"
   ]
  },
  {
   "cell_type": "code",
   "execution_count": 102,
   "id": "f428127f",
   "metadata": {},
   "outputs": [
    {
     "data": {
      "text/html": [
       "<div>\n",
       "<style scoped>\n",
       "    .dataframe tbody tr th:only-of-type {\n",
       "        vertical-align: middle;\n",
       "    }\n",
       "\n",
       "    .dataframe tbody tr th {\n",
       "        vertical-align: top;\n",
       "    }\n",
       "\n",
       "    .dataframe thead th {\n",
       "        text-align: right;\n",
       "    }\n",
       "</style>\n",
       "<table border=\"1\" class=\"dataframe\">\n",
       "  <thead>\n",
       "    <tr style=\"text-align: right;\">\n",
       "      <th></th>\n",
       "      <th>LR</th>\n",
       "      <th>DT</th>\n",
       "      <th>RF</th>\n",
       "      <th>KNN</th>\n",
       "      <th>LGBM</th>\n",
       "      <th>XGB</th>\n",
       "    </tr>\n",
       "  </thead>\n",
       "  <tbody>\n",
       "    <tr>\n",
       "      <th>SMOTE</th>\n",
       "      <td>0.840881</td>\n",
       "      <td>0.849951</td>\n",
       "      <td>0.839172</td>\n",
       "      <td>0.849277</td>\n",
       "      <td>0.754516</td>\n",
       "      <td>0.647893</td>\n",
       "    </tr>\n",
       "    <tr>\n",
       "      <th>AD</th>\n",
       "      <td>0.841741</td>\n",
       "      <td>0.847941</td>\n",
       "      <td>0.839726</td>\n",
       "      <td>0.846804</td>\n",
       "      <td>0.717778</td>\n",
       "      <td>0.600201</td>\n",
       "    </tr>\n",
       "    <tr>\n",
       "      <th>Random under Sampler</th>\n",
       "      <td>0.841844</td>\n",
       "      <td>0.85327</td>\n",
       "      <td>0.845875</td>\n",
       "      <td>0.828299</td>\n",
       "      <td>0.725941</td>\n",
       "      <td>0.694265</td>\n",
       "    </tr>\n",
       "    <tr>\n",
       "      <th>Random over Sampler</th>\n",
       "      <td>0.840259</td>\n",
       "      <td>0.850401</td>\n",
       "      <td>0.840688</td>\n",
       "      <td>0.855157</td>\n",
       "      <td>0.750849</td>\n",
       "      <td>0.696978</td>\n",
       "    </tr>\n",
       "    <tr>\n",
       "      <th>TomekLinks</th>\n",
       "      <td>0.708762</td>\n",
       "      <td>0.740363</td>\n",
       "      <td>0.747333</td>\n",
       "      <td>0.725811</td>\n",
       "      <td>0.501937</td>\n",
       "      <td>0.5</td>\n",
       "    </tr>\n",
       "  </tbody>\n",
       "</table>\n",
       "</div>"
      ],
      "text/plain": [
       "                            LR        DT        RF       KNN      LGBM  \\\n",
       "SMOTE                 0.840881  0.849951  0.839172  0.849277  0.754516   \n",
       "AD                    0.841741  0.847941  0.839726  0.846804  0.717778   \n",
       "Random under Sampler  0.841844   0.85327  0.845875  0.828299  0.725941   \n",
       "Random over Sampler   0.840259  0.850401  0.840688  0.855157  0.750849   \n",
       "TomekLinks            0.708762  0.740363  0.747333  0.725811  0.501937   \n",
       "\n",
       "                           XGB  \n",
       "SMOTE                 0.647893  \n",
       "AD                    0.600201  \n",
       "Random under Sampler  0.694265  \n",
       "Random over Sampler   0.696978  \n",
       "TomekLinks                 0.5  "
      ]
     },
     "execution_count": 102,
     "metadata": {},
     "output_type": "execute_result"
    }
   ],
   "source": [
    "scores['AUC']"
   ]
  },
  {
   "cell_type": "code",
   "execution_count": 100,
   "id": "f12ff1ca",
   "metadata": {
    "scrolled": false
   },
   "outputs": [
    {
     "name": "stdout",
     "output_type": "stream",
     "text": [
      "('SMOTE', 'LR') \n",
      "               precision    recall  f1-score   support\n",
      "\n",
      "           0       0.97      0.91      0.94     66301\n",
      "           1       0.55      0.77      0.64      9299\n",
      "\n",
      "    accuracy                           0.90     75600\n",
      "   macro avg       0.76      0.84      0.79     75600\n",
      "weighted avg       0.92      0.90      0.90     75600\n",
      "\n",
      "('AD', 'LR') \n",
      "               precision    recall  f1-score   support\n",
      "\n",
      "           0       0.97      0.91      0.94     66301\n",
      "           1       0.55      0.77      0.64      9299\n",
      "\n",
      "    accuracy                           0.89     75600\n",
      "   macro avg       0.76      0.84      0.79     75600\n",
      "weighted avg       0.91      0.89      0.90     75600\n",
      "\n",
      "('Random under Sampler', 'LR') \n",
      "               precision    recall  f1-score   support\n",
      "\n",
      "           0       0.97      0.91      0.94     66301\n",
      "           1       0.54      0.78      0.64      9299\n",
      "\n",
      "    accuracy                           0.89     75600\n",
      "   macro avg       0.75      0.84      0.79     75600\n",
      "weighted avg       0.91      0.89      0.90     75600\n",
      "\n",
      "('Random over Sampler', 'LR') \n",
      "               precision    recall  f1-score   support\n",
      "\n",
      "           0       0.97      0.91      0.94     66301\n",
      "           1       0.56      0.77      0.65      9299\n",
      "\n",
      "    accuracy                           0.90     75600\n",
      "   macro avg       0.76      0.84      0.79     75600\n",
      "weighted avg       0.92      0.90      0.90     75600\n",
      "\n",
      "('TomekLinks', 'LR') \n",
      "               precision    recall  f1-score   support\n",
      "\n",
      "           0       0.93      0.96      0.94     66301\n",
      "           1       0.62      0.46      0.53      9299\n",
      "\n",
      "    accuracy                           0.90     75600\n",
      "   macro avg       0.77      0.71      0.74     75600\n",
      "weighted avg       0.89      0.90      0.89     75600\n",
      "\n",
      "('SMOTE', 'DT') \n",
      "               precision    recall  f1-score   support\n",
      "\n",
      "           0       0.97      0.89      0.93     66301\n",
      "           1       0.51      0.81      0.63      9299\n",
      "\n",
      "    accuracy                           0.88     75600\n",
      "   macro avg       0.74      0.85      0.78     75600\n",
      "weighted avg       0.91      0.88      0.89     75600\n",
      "\n",
      "('AD', 'DT') \n",
      "               precision    recall  f1-score   support\n",
      "\n",
      "           0       0.97      0.89      0.93     66301\n",
      "           1       0.52      0.80      0.63      9299\n",
      "\n",
      "    accuracy                           0.88     75600\n",
      "   macro avg       0.74      0.85      0.78     75600\n",
      "weighted avg       0.91      0.88      0.89     75600\n",
      "\n",
      "('Random under Sampler', 'DT') \n",
      "               precision    recall  f1-score   support\n",
      "\n",
      "           0       0.98      0.85      0.91     66301\n",
      "           1       0.45      0.85      0.59      9299\n",
      "\n",
      "    accuracy                           0.85     75600\n",
      "   macro avg       0.71      0.85      0.75     75600\n",
      "weighted avg       0.91      0.85      0.87     75600\n",
      "\n",
      "('Random over Sampler', 'DT') \n",
      "               precision    recall  f1-score   support\n",
      "\n",
      "           0       0.97      0.89      0.93     66301\n",
      "           1       0.50      0.81      0.62      9299\n",
      "\n",
      "    accuracy                           0.88     75600\n",
      "   macro avg       0.74      0.85      0.77     75600\n",
      "weighted avg       0.91      0.88      0.89     75600\n",
      "\n",
      "('TomekLinks', 'DT') \n",
      "               precision    recall  f1-score   support\n",
      "\n",
      "           0       0.94      0.95      0.94     66301\n",
      "           1       0.60      0.53      0.56      9299\n",
      "\n",
      "    accuracy                           0.90     75600\n",
      "   macro avg       0.77      0.74      0.75     75600\n",
      "weighted avg       0.89      0.90      0.90     75600\n",
      "\n",
      "('SMOTE', 'RF') \n",
      "               precision    recall  f1-score   support\n",
      "\n",
      "           0       0.96      0.92      0.94     66301\n",
      "           1       0.56      0.76      0.64      9299\n",
      "\n",
      "    accuracy                           0.90     75600\n",
      "   macro avg       0.76      0.84      0.79     75600\n",
      "weighted avg       0.91      0.90      0.90     75600\n",
      "\n",
      "('AD', 'RF') \n",
      "               precision    recall  f1-score   support\n",
      "\n",
      "           0       0.97      0.92      0.94     66301\n",
      "           1       0.56      0.76      0.65      9299\n",
      "\n",
      "    accuracy                           0.90     75600\n",
      "   macro avg       0.76      0.84      0.79     75600\n",
      "weighted avg       0.92      0.90      0.90     75600\n",
      "\n",
      "('Random under Sampler', 'RF') \n",
      "               precision    recall  f1-score   support\n",
      "\n",
      "           0       0.97      0.90      0.93     66301\n",
      "           1       0.52      0.79      0.63      9299\n",
      "\n",
      "    accuracy                           0.89     75600\n",
      "   macro avg       0.75      0.85      0.78     75600\n",
      "weighted avg       0.91      0.89      0.89     75600\n",
      "\n",
      "('Random over Sampler', 'RF') \n",
      "               precision    recall  f1-score   support\n",
      "\n",
      "           0       0.97      0.91      0.94     66301\n",
      "           1       0.56      0.77      0.64      9299\n",
      "\n",
      "    accuracy                           0.90     75600\n",
      "   macro avg       0.76      0.84      0.79     75600\n",
      "weighted avg       0.92      0.90      0.90     75600\n",
      "\n",
      "('TomekLinks', 'RF') \n",
      "               precision    recall  f1-score   support\n",
      "\n",
      "           0       0.94      0.95      0.94     66301\n",
      "           1       0.60      0.55      0.57      9299\n",
      "\n",
      "    accuracy                           0.90     75600\n",
      "   macro avg       0.77      0.75      0.76     75600\n",
      "weighted avg       0.90      0.90      0.90     75600\n",
      "\n",
      "('SMOTE', 'KNN') \n",
      "               precision    recall  f1-score   support\n",
      "\n",
      "           0       0.98      0.83      0.90     66301\n",
      "           1       0.42      0.87      0.56      9299\n",
      "\n",
      "    accuracy                           0.83     75600\n",
      "   macro avg       0.70      0.85      0.73     75600\n",
      "weighted avg       0.91      0.83      0.86     75600\n",
      "\n",
      "('AD', 'KNN') \n",
      "               precision    recall  f1-score   support\n",
      "\n",
      "           0       0.98      0.82      0.89     66301\n",
      "           1       0.41      0.87      0.56      9299\n",
      "\n",
      "    accuracy                           0.83     75600\n",
      "   macro avg       0.69      0.85      0.73     75600\n",
      "weighted avg       0.91      0.83      0.85     75600\n",
      "\n",
      "('Random under Sampler', 'KNN') \n",
      "               precision    recall  f1-score   support\n",
      "\n",
      "           0       0.97      0.83      0.89     66301\n",
      "           1       0.40      0.83      0.54      9299\n",
      "\n",
      "    accuracy                           0.83     75600\n",
      "   macro avg       0.69      0.83      0.72     75600\n",
      "weighted avg       0.90      0.83      0.85     75600\n",
      "\n",
      "('Random over Sampler', 'KNN') \n",
      "               precision    recall  f1-score   support\n",
      "\n",
      "           0       0.98      0.87      0.92     66301\n",
      "           1       0.47      0.84      0.60      9299\n",
      "\n",
      "    accuracy                           0.86     75600\n",
      "   macro avg       0.72      0.86      0.76     75600\n",
      "weighted avg       0.91      0.86      0.88     75600\n",
      "\n",
      "('TomekLinks', 'KNN') \n",
      "               precision    recall  f1-score   support\n",
      "\n",
      "           0       0.93      0.94      0.94     66301\n",
      "           1       0.55      0.51      0.53      9299\n",
      "\n",
      "    accuracy                           0.89     75600\n",
      "   macro avg       0.74      0.73      0.73     75600\n",
      "weighted avg       0.88      0.89      0.89     75600\n",
      "\n",
      "('SMOTE', 'LGBM') \n",
      "               precision    recall  f1-score   support\n",
      "\n",
      "           0       0.95      0.84      0.89     66301\n",
      "           1       0.37      0.67      0.48      9299\n",
      "\n",
      "    accuracy                           0.82     75600\n",
      "   macro avg       0.66      0.75      0.68     75600\n",
      "weighted avg       0.88      0.82      0.84     75600\n",
      "\n",
      "('AD', 'LGBM') \n",
      "               precision    recall  f1-score   support\n",
      "\n",
      "           0       0.93      0.92      0.93     66301\n",
      "           1       0.48      0.51      0.50      9299\n",
      "\n",
      "    accuracy                           0.87     75600\n",
      "   macro avg       0.71      0.72      0.71     75600\n",
      "weighted avg       0.88      0.87      0.87     75600\n",
      "\n",
      "('Random under Sampler', 'LGBM') \n",
      "               precision    recall  f1-score   support\n",
      "\n",
      "           0       0.94      0.78      0.85     66301\n",
      "           1       0.30      0.68      0.41      9299\n",
      "\n",
      "    accuracy                           0.76     75600\n",
      "   macro avg       0.62      0.73      0.63     75600\n",
      "weighted avg       0.87      0.76      0.80     75600\n",
      "\n",
      "('Random over Sampler', 'LGBM') \n",
      "               precision    recall  f1-score   support\n",
      "\n",
      "           0       0.95      0.81      0.88     66301\n",
      "           1       0.34      0.69      0.46      9299\n",
      "\n",
      "    accuracy                           0.80     75600\n",
      "   macro avg       0.65      0.75      0.67     75600\n",
      "weighted avg       0.87      0.80      0.82     75600\n",
      "\n",
      "('TomekLinks', 'LGBM') \n",
      "               precision    recall  f1-score   support\n",
      "\n",
      "           0       0.88      1.00      0.93     66301\n",
      "           1       0.84      0.00      0.01      9299\n",
      "\n",
      "    accuracy                           0.88     75600\n",
      "   macro avg       0.86      0.50      0.47     75600\n",
      "weighted avg       0.87      0.88      0.82     75600\n",
      "\n",
      "('SMOTE', 'XGB') \n",
      "               precision    recall  f1-score   support\n",
      "\n",
      "           0       0.92      0.86      0.89     66301\n",
      "           1       0.31      0.43      0.36      9299\n",
      "\n",
      "    accuracy                           0.81     75600\n",
      "   macro avg       0.61      0.65      0.62     75600\n",
      "weighted avg       0.84      0.81      0.82     75600\n",
      "\n",
      "('AD', 'XGB') \n",
      "               precision    recall  f1-score   support\n",
      "\n",
      "           0       0.90      0.98      0.94     66301\n",
      "           1       0.56      0.23      0.32      9299\n",
      "\n",
      "    accuracy                           0.88     75600\n",
      "   macro avg       0.73      0.60      0.63     75600\n",
      "weighted avg       0.86      0.88      0.86     75600\n",
      "\n",
      "('Random under Sampler', 'XGB') \n",
      "               precision    recall  f1-score   support\n",
      "\n",
      "           0       0.94      0.74      0.83     66301\n",
      "           1       0.26      0.65      0.37      9299\n",
      "\n",
      "    accuracy                           0.73     75600\n",
      "   macro avg       0.60      0.69      0.60     75600\n",
      "weighted avg       0.85      0.73      0.77     75600\n",
      "\n",
      "('Random over Sampler', 'XGB') \n",
      "               precision    recall  f1-score   support\n",
      "\n",
      "           0       0.94      0.77      0.85     66301\n",
      "           1       0.28      0.62      0.38      9299\n",
      "\n",
      "    accuracy                           0.75     75600\n",
      "   macro avg       0.61      0.70      0.61     75600\n",
      "weighted avg       0.85      0.75      0.79     75600\n",
      "\n",
      "('TomekLinks', 'XGB') \n",
      "               precision    recall  f1-score   support\n",
      "\n",
      "           0       0.88      1.00      0.93     66301\n",
      "           1       0.00      0.00      0.00      9299\n",
      "\n",
      "    accuracy                           0.88     75600\n",
      "   macro avg       0.44      0.50      0.47     75600\n",
      "weighted avg       0.77      0.88      0.82     75600\n",
      "\n"
     ]
    }
   ],
   "source": [
    "for key, value in cls_report.items():\n",
    "...     print(key,'\\n', value)"
   ]
  },
  {
   "cell_type": "markdown",
   "id": "c1fb9e78",
   "metadata": {},
   "source": [
    "SMTOE will be used for parameter tuning "
   ]
  },
  {
   "cell_type": "code",
   "execution_count": 20,
   "id": "7e1a7ce5",
   "metadata": {},
   "outputs": [],
   "source": [
    "sm=SMOTE()\n",
    "X_train_sm,y_train_sm=sm.fit_resample(X_train,y_train)"
   ]
  },
  {
   "cell_type": "code",
   "execution_count": 56,
   "id": "650336d3",
   "metadata": {},
   "outputs": [],
   "source": [
    "DTT=DecisionTreeClassifier()"
   ]
  },
  {
   "cell_type": "code",
   "execution_count": 57,
   "id": "e2f15722",
   "metadata": {},
   "outputs": [
    {
     "data": {
      "text/plain": [
       "DecisionTreeClassifier()"
      ]
     },
     "execution_count": 57,
     "metadata": {},
     "output_type": "execute_result"
    }
   ],
   "source": [
    "DTT.fit(X_train_sm, y_train_sm)"
   ]
  },
  {
   "cell_type": "code",
   "execution_count": 58,
   "id": "b6ca0e28",
   "metadata": {},
   "outputs": [
    {
     "data": {
      "text/plain": [
       "0.8803968253968254"
      ]
     },
     "execution_count": 58,
     "metadata": {},
     "output_type": "execute_result"
    }
   ],
   "source": [
    "DTT.score(X_test, y_test)"
   ]
  },
  {
   "cell_type": "code",
   "execution_count": 43,
   "id": "d3f8a4e6",
   "metadata": {},
   "outputs": [
    {
     "data": {
      "text/plain": [
       "<bound method BaseEstimator.get_params of RandomForestClassifier(criterion='entropy', max_depth=8, max_features=7)>"
      ]
     },
     "execution_count": 43,
     "metadata": {},
     "output_type": "execute_result"
    }
   ],
   "source": [
    "DTT.get_params"
   ]
  },
  {
   "cell_type": "code",
   "execution_count": 59,
   "id": "55ed788f",
   "metadata": {},
   "outputs": [],
   "source": [
    "cls=classification_report(y_test, DTT.predict(X_test))"
   ]
  },
  {
   "cell_type": "code",
   "execution_count": 60,
   "id": "a7530244",
   "metadata": {},
   "outputs": [
    {
     "name": "stdout",
     "output_type": "stream",
     "text": [
      "              precision    recall  f1-score   support\n",
      "\n",
      "           0       0.97      0.89      0.93     66301\n",
      "           1       0.51      0.81      0.62      9299\n",
      "\n",
      "    accuracy                           0.88     75600\n",
      "   macro avg       0.74      0.85      0.78     75600\n",
      "weighted avg       0.91      0.88      0.89     75600\n",
      "\n"
     ]
    }
   ],
   "source": [
    "print(cls)"
   ]
  },
  {
   "cell_type": "code",
   "execution_count": null,
   "id": "55dea069",
   "metadata": {},
   "outputs": [],
   "source": [
    "# choose a resampling mehtod for param tuning using below and print out scores, classificaition report, auc roc, "
   ]
  },
  {
   "cell_type": "code",
   "execution_count": null,
   "id": "751a40bc",
   "metadata": {},
   "outputs": [],
   "source": []
  },
  {
   "cell_type": "code",
   "execution_count": null,
   "id": "3cd250c0",
   "metadata": {},
   "outputs": [
    {
     "name": "stdout",
     "output_type": "stream",
     "text": [
      "Logistic Regression accuracy score: 0.4411227013657383\n",
      "Logistic Regression best parameters: {'clf__C': 2.154434690031884, 'clf__penalty': 'l2'}\n",
      "Logistic Regression roc_auc: 0.5430904226425681\n",
      "Logistic Regression confusion matrix:               precision    recall  f1-score   support\n",
      "\n",
      "           0       0.89      0.65      0.75     66301\n",
      "           1       0.15      0.44      0.22      9299\n",
      "\n",
      "    accuracy                           0.62     75600\n",
      "   macro avg       0.52      0.54      0.49     75600\n",
      "weighted avg       0.80      0.62      0.68     75600\n",
      "\n",
      "DecisionTreeClassifier accuracy score: 0.8537477148080439\n",
      "DecisionTreeClassifier best parameters: {'clf__criterion': 'gini', 'clf__max_depth': 5, 'clf__min_samples_leaf': 1}\n",
      "DecisionTreeClassifier roc_auc: 0.5313594609394136\n",
      "DecisionTreeClassifier confusion matrix:               precision    recall  f1-score   support\n",
      "\n",
      "           0       0.91      0.21      0.34     66301\n",
      "           1       0.13      0.85      0.23      9299\n",
      "\n",
      "    accuracy                           0.29     75600\n",
      "   macro avg       0.52      0.53      0.28     75600\n",
      "weighted avg       0.81      0.29      0.33     75600\n",
      "\n",
      "RandomForestClassifier accuracy score: 0.6461985159694591\n",
      "RandomForestClassifier best parameters: {'clf__criterion': 'gini', 'clf__max_depth': 8, 'clf__max_features': 'log2', 'clf__min_samples_split': 2, 'clf__n_estimators': 100}\n",
      "RandomForestClassifier roc_auc: 0.6382453342128408\n",
      "RandomForestClassifier confusion matrix:               precision    recall  f1-score   support\n",
      "\n",
      "           0       0.93      0.63      0.75     66301\n",
      "           1       0.20      0.65      0.30      9299\n",
      "\n",
      "    accuracy                           0.63     75600\n",
      "   macro avg       0.56      0.64      0.53     75600\n",
      "weighted avg       0.84      0.63      0.70     75600\n",
      "\n"
     ]
    }
   ],
   "source": [
    "names = [\n",
    "        \"Logistic Regression\",\n",
    "         \"DecisionTreeClassifier\",\n",
    "         \"RandomForestClassifier\",\n",
    "         'KNeighborsClassifier',\n",
    "         \"LGBMClassifier\",\n",
    "         \"XGBClassifier\"\n",
    "        ]\n",
    "\n",
    "classifiers = [\n",
    "    LogisticRegression(),\n",
    "    DecisionTreeClassifier(),\n",
    "    RandomForestClassifier(),\n",
    "    KNeighborsClassifier(),\n",
    "    LGBMClassifier(),\n",
    "    xgb.XGBClassifier(objective=\"binary:logistic\", use_label_encoder=False, eval_metric='logloss')\n",
    "    \n",
    "]\n",
    "\n",
    "parameters = [\n",
    "              {\"clf__penalty\": ['l2','l1'],\n",
    "               \"clf__C\": np.logspace(0,1, 4, 10)}, #logistic regression\n",
    "              {'clf__max_depth': [2, 3, 5, 10],\n",
    "               'clf__min_samples_leaf': [1,5, 10, 20, 50], \n",
    "               'clf__criterion': [\"gini\", \"entropy\"]},# decision trees\n",
    "              {'clf__n_estimators':[100,1000],\n",
    "               'clf__max_depth':[0,4,5,6,8],\n",
    "               'clf__criterion':['gini','entropy'],\n",
    "               'clf__max_features':['sqrt', 'log2', None],\n",
    "               'clf__min_samples_split':[1,2,3]}, #Random Forest\n",
    "             {'clf__n_neighbors' : [5,7,9,11,13,15],\n",
    "               'clf__weights' : ['uniform','distance'],\n",
    "               'clf__metric' : ['minkowski','euclidean','manhattan']},#KNN\n",
    "              {'clf__learning_rate': [0.1,0.05,0.01,0.0001],\n",
    "               'clf__num_leaves': [31,90,140,200],\n",
    "               'clf__boosting_type' : ['gbdt'],\n",
    "               'clf__objective' : [None,'binary'],\n",
    "               'clf__max_depth' : [-1,4,5,6,7]},#LGBM\n",
    "              {'clf__max_depth': [3, 5, 6, 10],\n",
    "               'clf__learning_rate': [0.1, 0.2, 0.3],\n",
    "               'clf__subsample': np.arange(0.6, 0.8, 1.0),\n",
    "              'clf__n_estimators': [100, 500, 1000],}#xgb\n",
    "              ]\n",
    "\n",
    "for name, classifier, params in zip(names, classifiers, parameters):\n",
    "    clf_pipe = Pipeline([('clf', classifier)])\n",
    "    gs_clf = GridSearchCV(clf_pipe, param_grid=params, n_jobs=None,scoring='recall')\n",
    "    clf = gs_clf.fit(X_train_sm, y_train_sm)\n",
    "    score = clf.score(X_test, y_test)\n",
    "    best_param=clf.best_params_\n",
    "    roc_score=roc_auc_score(y_test, gs_clf.predict(X_test))\n",
    "    cls_report=classification_report(y_test, gs_clf.predict(X_test))\n",
    "    print(\"{} accuracy score: {}\".format(name, score))\n",
    "    print(\"{} best parameters: {}\".format(name,best_param))\n",
    "    print(\"{} roc_auc: {}\".format(name,roc_score))\n",
    "    print(\"{} confusion matrix: {}\".format(name,cls_report))"
   ]
  },
  {
   "cell_type": "code",
   "execution_count": null,
   "id": "373a1a0e",
   "metadata": {},
   "outputs": [],
   "source": [
    "names = [\n",
    "        #\"Logistic Regression\",\n",
    "         #\"DecisionTreeClassifier\",\n",
    "         #\"RandomForestClassifier\",\n",
    "         'KNeighborsClassifier',\n",
    "         \"LGBMClassifier\",\n",
    "         \"XGBClassifier\"\n",
    "        ]\n",
    "\n",
    "classifiers = [\n",
    "    #LogisticRegression(),\n",
    "    #DecisionTreeClassifier(),\n",
    "    #RandomForestClassifier(),\n",
    "    KNeighborsClassifier(),\n",
    "    LGBMClassifier(),\n",
    "    xgb.XGBClassifier(objective=\"binary:logistic\", use_label_encoder=False, eval_metric='logloss')\n",
    "    \n",
    "]\n",
    "\n",
    "parameters = [\n",
    "              #{\"clf__penalty\": ['l2','l1'],\n",
    "               #\"clf__C\": np.logspace(0,1, 4, 10)}, #logistic regression\n",
    "              #{'clf__max_depth': [2, 3, 5, 10],\n",
    "              # 'clf__min_samples_leaf': [1,5, 10, 20, 50], \n",
    "               #'clf__criterion': [\"gini\", \"entropy\"]},# decision trees\n",
    "              #{'clf__n_estimators':[100,1000],\n",
    "               #'clf__max_depth':[0,4,5,6,8],\n",
    "               #'clf__criterion':['gini','entropy'],\n",
    "               #'clf__max_features':['sqrt', 'log2', None],\n",
    "               #'clf__min_samples_split':[1,2,3]}, #Random Forest\n",
    "             {'clf__n_neighbors' : [5,9,13],\n",
    "               'clf__weights' : ['uniform','distance'],\n",
    "               'clf__metric' : ['minkowski','euclidean','manhattan']},#KNN\n",
    "              {'clf__learning_rate': [0.1,0.01,0.0001],\n",
    "               'clf__num_leaves': [31,140,200],\n",
    "               'clf__boosting_type' : ['gbdt'],\n",
    "               'clf__objective' : [None,'binary'],\n",
    "               'clf__max_depth' : [-1,5,7]},#LGBM\n",
    "              {'clf__max_depth': [3, 6, 10],\n",
    "               'clf__learning_rate': [0.1, 0.2, 0.3],\n",
    "               'clf__subsample': np.arange(0.6, 0.8, 1.0),\n",
    "              'clf__n_estimators': [100, 500, 1000],}#xgb\n",
    "              ]\n",
    "\n",
    "for name, classifier, params in zip(names, classifiers, parameters):\n",
    "    clf_pipe = Pipeline([('clf', classifier)])\n",
    "    gs_clf = GridSearchCV(clf_pipe, param_grid=params, n_jobs=None,scoring='recall')\n",
    "    clf = gs_clf.fit(X_train_sm, y_train_sm)\n",
    "    score = clf.score(X_test, y_test)\n",
    "    best_param=clf.best_params_\n",
    "    roc_score=roc_auc_score(y_test, gs_clf.predict(X_test))\n",
    "    cls_report=classification_report(y_test, gs_clf.predict(X_test))\n",
    "    print(\"{} accuracy score: {}\".format(name, score))\n",
    "    print(\"{} best parameters: {}\".format(name,best_param))\n",
    "    print(\"{} roc_auc: {}\".format(name,roc_score))\n",
    "    print(\"{} confusion matrix: {}\".format(name,cls_report))"
   ]
  },
  {
   "cell_type": "markdown",
   "id": "c372d9da",
   "metadata": {},
   "source": [
    "hyper parameter tuning with best estimators and confusion matrix, auc"
   ]
  },
  {
   "cell_type": "code",
   "execution_count": 28,
   "id": "774f4b91",
   "metadata": {},
   "outputs": [],
   "source": [
    "lr_p= {'n_estimators':np.arange(1,10),\n",
    "               'max_depth':[4,5],\n",
    "               'criterion':['gini'],\n",
    "               'max_features':[3]}"
   ]
  },
  {
   "cell_type": "code",
   "execution_count": 33,
   "id": "814c4e3e",
   "metadata": {
    "scrolled": true
   },
   "outputs": [
    {
     "name": "stdout",
     "output_type": "stream",
     "text": [
      "Fitting 3 folds for each of 18 candidates, totalling 54 fits\n",
      "[[    0 66301]\n",
      " [    0  9299]]\n"
     ]
    }
   ],
   "source": [
    "RF=RandomForestClassifier(random_state=2)\n",
    "rf_grid=GridSearchCV(estimator=RF,param_grid=p,cv=3,n_jobs=-1,verbose=2,scoring=\"recall\")\n",
    "rf_grid.fit(X_train_sm,y_train_sm)\n",
    "y_pred_rf=rf_grid.predict(X_test)\n",
    "print(confusion_matrix(y_test,y_pred_rf))\n",
    "rf_best_par=rf_grid.best_params_"
   ]
  },
  {
   "cell_type": "code",
   "execution_count": 35,
   "id": "3fa93cc2",
   "metadata": {},
   "outputs": [
    {
     "data": {
      "text/plain": [
       "{'criterion': 'gini', 'max_depth': 4, 'max_features': 3, 'n_estimators': 1}"
      ]
     },
     "execution_count": 35,
     "metadata": {},
     "output_type": "execute_result"
    }
   ],
   "source": [
    "rf_best_par"
   ]
  },
  {
   "cell_type": "code",
   "execution_count": 36,
   "id": "00ecad42",
   "metadata": {},
   "outputs": [],
   "source": [
    "RF=RandomForestClassifier(criterion= 'gini', max_depth= 4, max_features= 3, n_estimators=1)\n",
    "RF.fit(X_train_sm,y_train_sm)\n",
    "ypred=RF.predict(X_test)"
   ]
  },
  {
   "cell_type": "code",
   "execution_count": null,
   "id": "6d08ab69",
   "metadata": {},
   "outputs": [],
   "source": [
    "#interpretability "
   ]
  },
  {
   "cell_type": "markdown",
   "id": "4a49b8a4",
   "metadata": {},
   "source": [
    "Feature Importance\n"
   ]
  },
  {
   "cell_type": "markdown",
   "id": "3d809523",
   "metadata": {},
   "source": [
    "Feature importance Logistic Regression"
   ]
  },
  {
   "cell_type": "code",
   "execution_count": null,
   "id": "9fa0be44",
   "metadata": {},
   "outputs": [],
   "source": [
    "(lr_grid.coef_)\n",
    "# Those values, however, will show that the second parameter\n",
    "# is more influential\n",
    "print(np.std(X_train_sm, 0)*m.coef_)"
   ]
  },
  {
   "cell_type": "code",
   "execution_count": null,
   "id": "ab099264",
   "metadata": {},
   "outputs": [],
   "source": [
    "feature_importance = abs(lr_grid.coef_[0])\n",
    "feature_importance = 100.0 * (feature_importance / feature_importance.max())\n",
    "sorted_idx = np.argsort(feature_importance)\n",
    "pos = np.arange(sorted_idx.shape[0]) + .5\n",
    "\n",
    "featfig = plt.figure()\n",
    "featax = featfig.add_subplot(1, 1, 1)\n",
    "featax.barh(pos, feature_importance[sorted_idx], align='center')\n",
    "featax.set_yticks(pos)\n",
    "featax.set_yticklabels(np.array(X.columns)[sorted_idx], fontsize=8)\n",
    "featax.set_xlabel('Relative Feature Importance')\n",
    "\n",
    "plt.tight_layout()   \n",
    "plt.show()"
   ]
  },
  {
   "cell_type": "code",
   "execution_count": null,
   "id": "29a0c171",
   "metadata": {},
   "outputs": [],
   "source": []
  },
  {
   "cell_type": "code",
   "execution_count": null,
   "id": "a74fe850",
   "metadata": {},
   "outputs": [],
   "source": []
  },
  {
   "cell_type": "code",
   "execution_count": 37,
   "id": "eae050ed",
   "metadata": {},
   "outputs": [
    {
     "data": {
      "text/plain": [
       "array([0., 0., 0., ..., 0., 0., 0.])"
      ]
     },
     "execution_count": 37,
     "metadata": {},
     "output_type": "execute_result"
    }
   ],
   "source": [
    "importances=RF.feature_importances_\n",
    "importances"
   ]
  },
  {
   "cell_type": "code",
   "execution_count": 38,
   "id": "395b9e6c",
   "metadata": {},
   "outputs": [],
   "source": [
    "std = np.std([tree.feature_importances_ for tree in RF.estimators_], axis=0)"
   ]
  },
  {
   "cell_type": "code",
   "execution_count": 41,
   "id": "bd895586",
   "metadata": {
    "scrolled": true
   },
   "outputs": [
    {
     "data": {
      "text/plain": [
       "<309406x31396 sparse matrix of type '<class 'numpy.float64'>'\n",
       "\twith 4436209 stored elements in Compressed Sparse Row format>"
      ]
     },
     "execution_count": 41,
     "metadata": {},
     "output_type": "execute_result"
    }
   ],
   "source": [
    "X_train_sm"
   ]
  },
  {
   "cell_type": "code",
   "execution_count": 39,
   "id": "60d164cf",
   "metadata": {},
   "outputs": [
    {
     "ename": "AttributeError",
     "evalue": "columns not found",
     "output_type": "error",
     "traceback": [
      "\u001b[1;31m---------------------------------------------------------------------------\u001b[0m",
      "\u001b[1;31mAttributeError\u001b[0m                            Traceback (most recent call last)",
      "\u001b[1;32m~\\AppData\\Local\\Temp/ipykernel_12588/4187480488.py\u001b[0m in \u001b[0;36m<module>\u001b[1;34m\u001b[0m\n\u001b[1;32m----> 1\u001b[1;33m \u001b[0mstd1\u001b[0m\u001b[1;33m=\u001b[0m\u001b[0mpd\u001b[0m\u001b[1;33m.\u001b[0m\u001b[0mSeries\u001b[0m\u001b[1;33m(\u001b[0m\u001b[0mstd\u001b[0m\u001b[1;33m,\u001b[0m\u001b[0mindex\u001b[0m\u001b[1;33m=\u001b[0m\u001b[0mX_train_sm\u001b[0m\u001b[1;33m.\u001b[0m\u001b[0mcolumns\u001b[0m\u001b[1;33m)\u001b[0m\u001b[1;33m\u001b[0m\u001b[1;33m\u001b[0m\u001b[0m\n\u001b[0m\u001b[0;32m      2\u001b[0m \u001b[0mstd1\u001b[0m\u001b[1;33m.\u001b[0m\u001b[0msort_values\u001b[0m\u001b[1;33m(\u001b[0m\u001b[0mascending\u001b[0m\u001b[1;33m=\u001b[0m\u001b[1;32mFalse\u001b[0m\u001b[1;33m)\u001b[0m\u001b[1;33m\u001b[0m\u001b[1;33m\u001b[0m\u001b[0m\n\u001b[0;32m      3\u001b[0m \u001b[0mstd1\u001b[0m\u001b[1;33m=\u001b[0m\u001b[0mstd1\u001b[0m\u001b[1;33m.\u001b[0m\u001b[0mhead\u001b[0m\u001b[1;33m(\u001b[0m\u001b[1;36m9\u001b[0m\u001b[1;33m)\u001b[0m\u001b[1;33m\u001b[0m\u001b[1;33m\u001b[0m\u001b[0m\n",
      "\u001b[1;32m~\\anaconda\\lib\\site-packages\\scipy\\sparse\\base.py\u001b[0m in \u001b[0;36m__getattr__\u001b[1;34m(self, attr)\u001b[0m\n\u001b[0;32m    685\u001b[0m             \u001b[1;32mreturn\u001b[0m \u001b[0mself\u001b[0m\u001b[1;33m.\u001b[0m\u001b[0mgetnnz\u001b[0m\u001b[1;33m(\u001b[0m\u001b[1;33m)\u001b[0m\u001b[1;33m\u001b[0m\u001b[1;33m\u001b[0m\u001b[0m\n\u001b[0;32m    686\u001b[0m         \u001b[1;32melse\u001b[0m\u001b[1;33m:\u001b[0m\u001b[1;33m\u001b[0m\u001b[1;33m\u001b[0m\u001b[0m\n\u001b[1;32m--> 687\u001b[1;33m             \u001b[1;32mraise\u001b[0m \u001b[0mAttributeError\u001b[0m\u001b[1;33m(\u001b[0m\u001b[0mattr\u001b[0m \u001b[1;33m+\u001b[0m \u001b[1;34m\" not found\"\u001b[0m\u001b[1;33m)\u001b[0m\u001b[1;33m\u001b[0m\u001b[1;33m\u001b[0m\u001b[0m\n\u001b[0m\u001b[0;32m    688\u001b[0m \u001b[1;33m\u001b[0m\u001b[0m\n\u001b[0;32m    689\u001b[0m     \u001b[1;32mdef\u001b[0m \u001b[0mtranspose\u001b[0m\u001b[1;33m(\u001b[0m\u001b[0mself\u001b[0m\u001b[1;33m,\u001b[0m \u001b[0maxes\u001b[0m\u001b[1;33m=\u001b[0m\u001b[1;32mNone\u001b[0m\u001b[1;33m,\u001b[0m \u001b[0mcopy\u001b[0m\u001b[1;33m=\u001b[0m\u001b[1;32mFalse\u001b[0m\u001b[1;33m)\u001b[0m\u001b[1;33m:\u001b[0m\u001b[1;33m\u001b[0m\u001b[1;33m\u001b[0m\u001b[0m\n",
      "\u001b[1;31mAttributeError\u001b[0m: columns not found"
     ]
    }
   ],
   "source": [
    "std1=pd.Series(std,index=X_train_sm.columns)\n",
    "std1.sort_values(ascending=False)\n",
    "std1=std1.head(9)"
   ]
  },
  {
   "cell_type": "code",
   "execution_count": null,
   "id": "0bcc0c28",
   "metadata": {},
   "outputs": [],
   "source": [
    "forest_importances = pd.Series(importances, index=X_train_sm.columns)"
   ]
  },
  {
   "cell_type": "code",
   "execution_count": null,
   "id": "e620fdbf",
   "metadata": {},
   "outputs": [],
   "source": [
    "forest_importances1=forest_importances.sort_values(ascending=False).head(9)"
   ]
  },
  {
   "cell_type": "code",
   "execution_count": null,
   "id": "3ef3cb67",
   "metadata": {},
   "outputs": [],
   "source": [
    "fig, ax = plt.subplots()\n",
    "forest_importances1.plot.bar(yerr=std1, ax=ax)\n",
    "ax.set_title(\"Feature importances using MDI\")\n",
    "ax.set_ylabel(\"Mean decrease in impurity\")\n",
    "fig.tight_layout()"
   ]
  },
  {
   "cell_type": "code",
   "execution_count": 45,
   "id": "7e683f7d",
   "metadata": {},
   "outputs": [],
   "source": [
    "df_x = df.loc[:, df.columns != 'Risk_Flag']\n",
    "df_y=df.loc[:,df.columns == 'Risk_Flag']"
   ]
  },
  {
   "cell_type": "code",
   "execution_count": 46,
   "id": "38f75191",
   "metadata": {},
   "outputs": [],
   "source": [
    "X_train1,X_test1,y_train1,y_test1=train_test_split(df_x,df_y,test_size=0.3,random_state=42,stratify=df_y)"
   ]
  },
  {
   "cell_type": "code",
   "execution_count": 48,
   "id": "36c35f64",
   "metadata": {},
   "outputs": [],
   "source": [
    "std_sc=StandardScaler()"
   ]
  },
  {
   "cell_type": "code",
   "execution_count": 56,
   "id": "f2e0a0e6",
   "metadata": {},
   "outputs": [],
   "source": [
    "X_train1=X_train1.set_index('Id')"
   ]
  },
  {
   "cell_type": "code",
   "execution_count": 57,
   "id": "679b80a5",
   "metadata": {},
   "outputs": [],
   "source": [
    "aaaaa=OneHotEncoder()"
   ]
  },
  {
   "cell_type": "code",
   "execution_count": 60,
   "id": "30bf1e2d",
   "metadata": {},
   "outputs": [
    {
     "data": {
      "text/plain": [
       "array(['Income_10310', 'Income_10675', 'Income_11114', ...,\n",
       "       'House_Yrs_12', 'House_Yrs_13', 'House_Yrs_14'], dtype=object)"
      ]
     },
     "execution_count": 60,
     "metadata": {},
     "output_type": "execute_result"
    }
   ],
   "source": [
    "aaaaa.get_feature_names_out()"
   ]
  },
  {
   "cell_type": "code",
   "execution_count": 59,
   "id": "d7515c2b",
   "metadata": {},
   "outputs": [
    {
     "data": {
      "text/plain": [
       "<176400x31391 sparse matrix of type '<class 'numpy.float64'>'\n",
       "\twith 1587600 stored elements in Compressed Sparse Row format>"
      ]
     },
     "execution_count": 59,
     "metadata": {},
     "output_type": "execute_result"
    }
   ],
   "source": [
    "aaaaa.fit_transform(X_train1)"
   ]
  },
  {
   "cell_type": "code",
   "execution_count": null,
   "id": "fae43c31",
   "metadata": {},
   "outputs": [],
   "source": []
  }
 ],
 "metadata": {
  "kernelspec": {
   "display_name": "Python 3 (ipykernel)",
   "language": "python",
   "name": "python3"
  },
  "language_info": {
   "codemirror_mode": {
    "name": "ipython",
    "version": 3
   },
   "file_extension": ".py",
   "mimetype": "text/x-python",
   "name": "python",
   "nbconvert_exporter": "python",
   "pygments_lexer": "ipython3",
   "version": "3.9.7"
  }
 },
 "nbformat": 4,
 "nbformat_minor": 5
}
